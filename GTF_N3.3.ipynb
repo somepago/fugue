{
 "cells": [
  {
   "cell_type": "markdown",
   "metadata": {},
   "source": [
    "What's been done here?\n",
    "1. Merge GTEX params and network params.\n",
    "2. Calculate mean neighbor zscore and breadth.\n",
    "3. Clean the gt_param_df and remove unnecessary columns\n",
    "\n",
    "code referred from - http://localhost:4321/notebooks/azure-backup-notebooks/min_gene_analysis/Min_gene_N10.ipynb\n",
    "\n",
    "End product - Looks like below - Available at \n",
    "\n",
    "/scratch1/gowthami/GTF/GTF_Project_v2/data/gt_param_df.csv\n",
    "\n",
    "What more needs to be done?\n",
    "1. Add POS & NEG from HPA\n",
    "\n",
    "Notes:\n",
    "\n",
    "__What's the breadth here?__\n",
    "\n",
    "_Threshold is 25 percentile value of gene expression of any given gene across all the tissues. Breadth is percentage of samples above that threshold in a given tissue_\n",
    "\n",
    "MADM param has around 12000 Nan values in gtex_params df, so what I have done is removed the nulls only from Zscore and CV columns and not from MADM column. After merging GTEX param and Graph params, i ended up with 0 null values in MADM tab as well, so it worked out."
   ]
  },
  {
   "cell_type": "code",
   "execution_count": 47,
   "metadata": {},
   "outputs": [
    {
     "data": {
      "text/html": [
       "<div>\n",
       "<style scoped>\n",
       "    .dataframe tbody tr th:only-of-type {\n",
       "        vertical-align: middle;\n",
       "    }\n",
       "\n",
       "    .dataframe tbody tr th {\n",
       "        vertical-align: top;\n",
       "    }\n",
       "\n",
       "    .dataframe thead th {\n",
       "        text-align: right;\n",
       "    }\n",
       "</style>\n",
       "<table border=\"1\" class=\"dataframe\">\n",
       "  <thead>\n",
       "    <tr style=\"text-align: right;\">\n",
       "      <th></th>\n",
       "      <th>Gene</th>\n",
       "      <th>Tissue</th>\n",
       "      <th>ZScore</th>\n",
       "      <th>Breadth</th>\n",
       "      <th>CV</th>\n",
       "      <th>MADM</th>\n",
       "      <th>Centrality_coeff</th>\n",
       "      <th>Clustering_coeff</th>\n",
       "      <th>IsKinase</th>\n",
       "      <th>IsTF</th>\n",
       "      <th>NumOfKinaseNbs</th>\n",
       "      <th>NumOfNeighbors</th>\n",
       "      <th>NumOfTFNeighbors</th>\n",
       "      <th>NeighborMeanBreadth</th>\n",
       "      <th>NeighborMeanZscore</th>\n",
       "    </tr>\n",
       "  </thead>\n",
       "  <tbody>\n",
       "    <tr>\n",
       "      <th>0</th>\n",
       "      <td>A1BG</td>\n",
       "      <td>Adipose Tissue</td>\n",
       "      <td>-0.121740</td>\n",
       "      <td>0.898369</td>\n",
       "      <td>0.621098</td>\n",
       "      <td>0.483348</td>\n",
       "      <td>0.001653</td>\n",
       "      <td>0.036364</td>\n",
       "      <td>0</td>\n",
       "      <td>0</td>\n",
       "      <td>0</td>\n",
       "      <td>11</td>\n",
       "      <td>0</td>\n",
       "      <td>0.857534</td>\n",
       "      <td>0.021100</td>\n",
       "    </tr>\n",
       "    <tr>\n",
       "      <th>1</th>\n",
       "      <td>A1BG</td>\n",
       "      <td>Blood</td>\n",
       "      <td>-0.125674</td>\n",
       "      <td>0.623836</td>\n",
       "      <td>0.859649</td>\n",
       "      <td>0.765763</td>\n",
       "      <td>0.000898</td>\n",
       "      <td>0.000000</td>\n",
       "      <td>0</td>\n",
       "      <td>0</td>\n",
       "      <td>0</td>\n",
       "      <td>2</td>\n",
       "      <td>0</td>\n",
       "      <td>0.675978</td>\n",
       "      <td>-0.146973</td>\n",
       "    </tr>\n",
       "  </tbody>\n",
       "</table>\n",
       "</div>"
      ],
      "text/plain": [
       "   Gene          Tissue    ZScore   Breadth        CV      MADM  \\\n",
       "0  A1BG  Adipose Tissue -0.121740  0.898369  0.621098  0.483348   \n",
       "1  A1BG           Blood -0.125674  0.623836  0.859649  0.765763   \n",
       "\n",
       "   Centrality_coeff  Clustering_coeff IsKinase IsTF NumOfKinaseNbs  \\\n",
       "0          0.001653          0.036364        0    0              0   \n",
       "1          0.000898          0.000000        0    0              0   \n",
       "\n",
       "  NumOfNeighbors NumOfTFNeighbors  NeighborMeanBreadth  NeighborMeanZscore  \n",
       "0             11                0             0.857534            0.021100  \n",
       "1              2                0             0.675978           -0.146973  "
      ]
     },
     "execution_count": 47,
     "metadata": {},
     "output_type": "execute_result"
    }
   ],
   "source": [
    "gt_param_df.head(2)"
   ]
  },
  {
   "cell_type": "code",
   "execution_count": 1,
   "metadata": {},
   "outputs": [],
   "source": [
    "import pandas as pd\n",
    "import csv\n",
    "import numpy as np\n",
    "import scipy\n",
    "import pickle\n",
    "import seaborn as sns\n",
    "import matplotlib.pyplot as plt\n",
    "plt.rcParams[\"figure.figsize\"]=40,20\n",
    "import matplotlib.mlab as mlab\n",
    "from IPython.display import display\n",
    "pd.options.display.max_columns = None\n",
    "from numpy import random\n",
    "from statsmodels import robust\n",
    "from scipy.stats import spearmanr\n",
    "from scipy.stats import pearsonr\n",
    "import itertools\n",
    "import networkx as nx\n",
    "import datetime\n"
   ]
  },
  {
   "cell_type": "code",
   "execution_count": 2,
   "metadata": {},
   "outputs": [],
   "source": [
    "graph_params = pickle.load( open( \"./data_generated/network_generated/gt_graph_param_df.p\", \"rb\" ) )\n",
    "gtex_params = pickle.load(open('./data_generated/gt_exp_param_df.p','rb'))\n",
    "gtex_params = gtex_params.rename(columns={\"CoeffOfVar\": \"CV\",\n",
    "                                          \"MedAbsDev\":\"MAD\"})\n",
    "\n",
    "graph_centrality = pickle.load( \n",
    "    open( \"./data_generated/network_generated/all_tissue_centrality.p\", \"rb\" ) )\n",
    "graph_params = pd.merge(graph_params, graph_centrality,  how='inner', \n",
    "                       left_on=['Gene','Tissue'], right_on = ['Gene','Tissue'])"
   ]
  },
  {
   "cell_type": "code",
   "execution_count": 3,
   "metadata": {},
   "outputs": [
    {
     "data": {
      "text/html": [
       "<div>\n",
       "<style scoped>\n",
       "    .dataframe tbody tr th:only-of-type {\n",
       "        vertical-align: middle;\n",
       "    }\n",
       "\n",
       "    .dataframe tbody tr th {\n",
       "        vertical-align: top;\n",
       "    }\n",
       "\n",
       "    .dataframe thead th {\n",
       "        text-align: right;\n",
       "    }\n",
       "</style>\n",
       "<table border=\"1\" class=\"dataframe\">\n",
       "  <thead>\n",
       "    <tr style=\"text-align: right;\">\n",
       "      <th></th>\n",
       "      <th>Clustering_coeff</th>\n",
       "      <th>Gene</th>\n",
       "      <th>IsKinase</th>\n",
       "      <th>IsTF</th>\n",
       "      <th>NeighborList</th>\n",
       "      <th>NumOfKinaseNbs</th>\n",
       "      <th>NumOfNeighbors</th>\n",
       "      <th>NumOfTFNeighbors</th>\n",
       "      <th>Tissue</th>\n",
       "      <th>Centrality_coeff</th>\n",
       "    </tr>\n",
       "  </thead>\n",
       "  <tbody>\n",
       "    <tr>\n",
       "      <td>0</td>\n",
       "      <td>0.100000</td>\n",
       "      <td>ENSG00000165092</td>\n",
       "      <td>0</td>\n",
       "      <td>0</td>\n",
       "      <td>[ENSG00000165092, ENSG00000176046, ENSG0000011...</td>\n",
       "      <td>0</td>\n",
       "      <td>7</td>\n",
       "      <td>1</td>\n",
       "      <td>Small Intestine</td>\n",
       "      <td>0.000001</td>\n",
       "    </tr>\n",
       "    <tr>\n",
       "      <td>1</td>\n",
       "      <td>0.062678</td>\n",
       "      <td>ENSG00000158528</td>\n",
       "      <td>0</td>\n",
       "      <td>0</td>\n",
       "      <td>[ENSG00000184009, ENSG00000188191, ENSG0000018...</td>\n",
       "      <td>0</td>\n",
       "      <td>29</td>\n",
       "      <td>1</td>\n",
       "      <td>Small Intestine</td>\n",
       "      <td>0.000020</td>\n",
       "    </tr>\n",
       "  </tbody>\n",
       "</table>\n",
       "</div>"
      ],
      "text/plain": [
       "   Clustering_coeff             Gene IsKinase IsTF  \\\n",
       "0          0.100000  ENSG00000165092        0    0   \n",
       "1          0.062678  ENSG00000158528        0    0   \n",
       "\n",
       "                                        NeighborList NumOfKinaseNbs  \\\n",
       "0  [ENSG00000165092, ENSG00000176046, ENSG0000011...              0   \n",
       "1  [ENSG00000184009, ENSG00000188191, ENSG0000018...              0   \n",
       "\n",
       "  NumOfNeighbors NumOfTFNeighbors           Tissue  Centrality_coeff  \n",
       "0              7                1  Small Intestine          0.000001  \n",
       "1             29                1  Small Intestine          0.000020  "
      ]
     },
     "execution_count": 3,
     "metadata": {},
     "output_type": "execute_result"
    }
   ],
   "source": [
    "graph_params.head(2)"
   ]
  },
  {
   "cell_type": "code",
   "execution_count": 4,
   "metadata": {},
   "outputs": [
    {
     "data": {
      "text/html": [
       "<div>\n",
       "<style scoped>\n",
       "    .dataframe tbody tr th:only-of-type {\n",
       "        vertical-align: middle;\n",
       "    }\n",
       "\n",
       "    .dataframe tbody tr th {\n",
       "        vertical-align: top;\n",
       "    }\n",
       "\n",
       "    .dataframe thead th {\n",
       "        text-align: right;\n",
       "    }\n",
       "</style>\n",
       "<table border=\"1\" class=\"dataframe\">\n",
       "  <thead>\n",
       "    <tr style=\"text-align: right;\">\n",
       "      <th></th>\n",
       "      <th>Gene</th>\n",
       "      <th>Tissue</th>\n",
       "      <th>MeanExp</th>\n",
       "      <th>SDofExp</th>\n",
       "      <th>ZScore</th>\n",
       "      <th>MedianExp</th>\n",
       "      <th>Breadth</th>\n",
       "      <th>CV</th>\n",
       "      <th>MAD</th>\n",
       "    </tr>\n",
       "  </thead>\n",
       "  <tbody>\n",
       "    <tr>\n",
       "      <td>0</td>\n",
       "      <td>ENSG00000187634</td>\n",
       "      <td>Stomach</td>\n",
       "      <td>4.720096</td>\n",
       "      <td>4.267317</td>\n",
       "      <td>-0.036851</td>\n",
       "      <td>3.423000</td>\n",
       "      <td>0.763231</td>\n",
       "      <td>0.904074</td>\n",
       "      <td>2.489289</td>\n",
       "    </tr>\n",
       "    <tr>\n",
       "      <td>1</td>\n",
       "      <td>ENSG00000188976</td>\n",
       "      <td>Stomach</td>\n",
       "      <td>44.847466</td>\n",
       "      <td>15.854806</td>\n",
       "      <td>-0.412520</td>\n",
       "      <td>42.380001</td>\n",
       "      <td>0.220056</td>\n",
       "      <td>0.353527</td>\n",
       "      <td>14.366420</td>\n",
       "    </tr>\n",
       "  </tbody>\n",
       "</table>\n",
       "</div>"
      ],
      "text/plain": [
       "              Gene   Tissue    MeanExp    SDofExp    ZScore  MedianExp  \\\n",
       "0  ENSG00000187634  Stomach   4.720096   4.267317 -0.036851   3.423000   \n",
       "1  ENSG00000188976  Stomach  44.847466  15.854806 -0.412520  42.380001   \n",
       "\n",
       "    Breadth        CV        MAD  \n",
       "0  0.763231  0.904074   2.489289  \n",
       "1  0.220056  0.353527  14.366420  "
      ]
     },
     "execution_count": 4,
     "metadata": {},
     "output_type": "execute_result"
    }
   ],
   "source": [
    "gtex_params.head(2)"
   ]
  },
  {
   "cell_type": "code",
   "execution_count": 5,
   "metadata": {},
   "outputs": [
    {
     "data": {
      "text/plain": [
       "Testis             15619\n",
       "Kidney             15505\n",
       "Brain              15500\n",
       "Pituitary          15439\n",
       "Salivary Gland     15420\n",
       "Pancreas           15370\n",
       "Breast             15334\n",
       "Prostate           15298\n",
       "Spleen             15254\n",
       "Thyroid            15251\n",
       "Vagina             15250\n",
       "Heart              15232\n",
       "Small Intestine    15223\n",
       "Adipose Tissue     15222\n",
       "Adrenal Gland      15166\n",
       "Lung               15146\n",
       "Ovary              15146\n",
       "Stomach            15136\n",
       "Nerve              15102\n",
       "Esophagus          15098\n",
       "Colon              15084\n",
       "Uterus             14996\n",
       "Cervix Uteri       14981\n",
       "Liver              14981\n",
       "Skin               14959\n",
       "Muscle             14924\n",
       "Blood Vessel       14894\n",
       "Blood              14884\n",
       "Bladder            14515\n",
       "Fallopian Tube     13526\n",
       "Name: Tissue, dtype: int64"
      ]
     },
     "execution_count": 5,
     "metadata": {},
     "output_type": "execute_result"
    }
   ],
   "source": [
    "graph_params['Tissue'].value_counts()"
   ]
  },
  {
   "cell_type": "code",
   "execution_count": 6,
   "metadata": {},
   "outputs": [
    {
     "data": {
      "text/plain": [
       "Blood              16620\n",
       "Ovary              16620\n",
       "Uterus             16620\n",
       "Adrenal Gland      16620\n",
       "Testis             16620\n",
       "Kidney             16620\n",
       "Liver              16620\n",
       "Esophagus          16620\n",
       "Small Intestine    16620\n",
       "Stomach            16620\n",
       "Blood Vessel       16620\n",
       "Muscle             16620\n",
       "Fallopian Tube     16620\n",
       "Breast             16620\n",
       "Prostate           16620\n",
       "Brain              16620\n",
       "Thyroid            16620\n",
       "Skin               16620\n",
       "Adipose Tissue     16620\n",
       "Lung               16620\n",
       "Cervix Uteri       16620\n",
       "Heart              16620\n",
       "Colon              16620\n",
       "Nerve              16620\n",
       "Salivary Gland     16620\n",
       "Pituitary          16620\n",
       "Pancreas           16620\n",
       "Spleen             16620\n",
       "Bladder            16620\n",
       "Vagina             16620\n",
       "Name: Tissue, dtype: int64"
      ]
     },
     "execution_count": 6,
     "metadata": {},
     "output_type": "execute_result"
    }
   ],
   "source": [
    "gtex_params['Tissue'].value_counts()"
   ]
  },
  {
   "cell_type": "code",
   "execution_count": 7,
   "metadata": {},
   "outputs": [
    {
     "name": "stdout",
     "output_type": "stream",
     "text": [
      "(498600, 9)\n",
      "(453455, 10)\n"
     ]
    }
   ],
   "source": [
    "print(gtex_params.shape)\n",
    "print(graph_params.shape)"
   ]
  },
  {
   "cell_type": "code",
   "execution_count": 8,
   "metadata": {},
   "outputs": [
    {
     "data": {
      "text/plain": [
       "Clustering_coeff    False\n",
       "Gene                False\n",
       "IsKinase            False\n",
       "IsTF                False\n",
       "NeighborList        False\n",
       "NumOfKinaseNbs      False\n",
       "NumOfNeighbors      False\n",
       "NumOfTFNeighbors    False\n",
       "Tissue              False\n",
       "Centrality_coeff    False\n",
       "dtype: bool"
      ]
     },
     "execution_count": 8,
     "metadata": {},
     "output_type": "execute_result"
    }
   ],
   "source": [
    "graph_params.isnull().any()\n"
   ]
  },
  {
   "cell_type": "code",
   "execution_count": 9,
   "metadata": {
    "scrolled": true
   },
   "outputs": [
    {
     "data": {
      "text/plain": [
       "Gene         False\n",
       "Tissue       False\n",
       "MeanExp      False\n",
       "SDofExp      False\n",
       "ZScore        True\n",
       "MedianExp    False\n",
       "Breadth      False\n",
       "CV            True\n",
       "MAD          False\n",
       "dtype: bool"
      ]
     },
     "execution_count": 9,
     "metadata": {},
     "output_type": "execute_result"
    }
   ],
   "source": [
    "gtex_params.isnull().any()\n"
   ]
  },
  {
   "cell_type": "code",
   "execution_count": 10,
   "metadata": {},
   "outputs": [],
   "source": [
    "nan_genes = pd.DataFrame(gtex_params[gtex_params.isna().any(axis=1)]['Gene'].drop_duplicates().tolist())\n",
    "nan_genes.to_csv('./data_generated/genes_withnan_zs_or_cv')"
   ]
  },
  {
   "cell_type": "code",
   "execution_count": 11,
   "metadata": {},
   "outputs": [],
   "source": [
    "gtex_params = gtex_params[np.isfinite(gtex_params['ZScore'])]\n",
    "gtex_params = gtex_params[np.isfinite(gtex_params['CV'])]"
   ]
  },
  {
   "cell_type": "code",
   "execution_count": 12,
   "metadata": {
    "scrolled": true
   },
   "outputs": [
    {
     "data": {
      "text/plain": [
       "Gene         False\n",
       "Tissue       False\n",
       "MeanExp      False\n",
       "SDofExp      False\n",
       "ZScore       False\n",
       "MedianExp    False\n",
       "Breadth      False\n",
       "CV           False\n",
       "MAD          False\n",
       "dtype: bool"
      ]
     },
     "execution_count": 12,
     "metadata": {},
     "output_type": "execute_result"
    }
   ],
   "source": [
    "gtex_params.isnull().any()\n"
   ]
  },
  {
   "cell_type": "code",
   "execution_count": 13,
   "metadata": {},
   "outputs": [
    {
     "name": "stdout",
     "output_type": "stream",
     "text": [
      "(496503, 9)\n"
     ]
    },
    {
     "data": {
      "text/html": [
       "<div>\n",
       "<style scoped>\n",
       "    .dataframe tbody tr th:only-of-type {\n",
       "        vertical-align: middle;\n",
       "    }\n",
       "\n",
       "    .dataframe tbody tr th {\n",
       "        vertical-align: top;\n",
       "    }\n",
       "\n",
       "    .dataframe thead th {\n",
       "        text-align: right;\n",
       "    }\n",
       "</style>\n",
       "<table border=\"1\" class=\"dataframe\">\n",
       "  <thead>\n",
       "    <tr style=\"text-align: right;\">\n",
       "      <th></th>\n",
       "      <th>Gene</th>\n",
       "      <th>Tissue</th>\n",
       "      <th>MeanExp</th>\n",
       "      <th>SDofExp</th>\n",
       "      <th>ZScore</th>\n",
       "      <th>MedianExp</th>\n",
       "      <th>Breadth</th>\n",
       "      <th>CV</th>\n",
       "      <th>MAD</th>\n",
       "    </tr>\n",
       "  </thead>\n",
       "  <tbody>\n",
       "    <tr>\n",
       "      <td>0</td>\n",
       "      <td>ENSG00000187634</td>\n",
       "      <td>Stomach</td>\n",
       "      <td>4.720096</td>\n",
       "      <td>4.267317</td>\n",
       "      <td>-0.036851</td>\n",
       "      <td>3.423000</td>\n",
       "      <td>0.763231</td>\n",
       "      <td>0.904074</td>\n",
       "      <td>2.489289</td>\n",
       "    </tr>\n",
       "    <tr>\n",
       "      <td>1</td>\n",
       "      <td>ENSG00000188976</td>\n",
       "      <td>Stomach</td>\n",
       "      <td>44.847466</td>\n",
       "      <td>15.854806</td>\n",
       "      <td>-0.412520</td>\n",
       "      <td>42.380001</td>\n",
       "      <td>0.220056</td>\n",
       "      <td>0.353527</td>\n",
       "      <td>14.366420</td>\n",
       "    </tr>\n",
       "    <tr>\n",
       "      <td>2</td>\n",
       "      <td>ENSG00000187961</td>\n",
       "      <td>Stomach</td>\n",
       "      <td>11.037735</td>\n",
       "      <td>4.394696</td>\n",
       "      <td>-0.145059</td>\n",
       "      <td>10.360000</td>\n",
       "      <td>0.445682</td>\n",
       "      <td>0.398152</td>\n",
       "      <td>3.558246</td>\n",
       "    </tr>\n",
       "    <tr>\n",
       "      <td>3</td>\n",
       "      <td>ENSG00000187583</td>\n",
       "      <td>Stomach</td>\n",
       "      <td>1.643722</td>\n",
       "      <td>1.750657</td>\n",
       "      <td>-0.314139</td>\n",
       "      <td>1.138000</td>\n",
       "      <td>0.682451</td>\n",
       "      <td>1.065057</td>\n",
       "      <td>1.040194</td>\n",
       "    </tr>\n",
       "    <tr>\n",
       "      <td>4</td>\n",
       "      <td>ENSG00000187642</td>\n",
       "      <td>Stomach</td>\n",
       "      <td>0.612194</td>\n",
       "      <td>0.432204</td>\n",
       "      <td>-0.298348</td>\n",
       "      <td>0.489900</td>\n",
       "      <td>0.454039</td>\n",
       "      <td>0.705991</td>\n",
       "      <td>0.274874</td>\n",
       "    </tr>\n",
       "  </tbody>\n",
       "</table>\n",
       "</div>"
      ],
      "text/plain": [
       "              Gene   Tissue    MeanExp    SDofExp    ZScore  MedianExp  \\\n",
       "0  ENSG00000187634  Stomach   4.720096   4.267317 -0.036851   3.423000   \n",
       "1  ENSG00000188976  Stomach  44.847466  15.854806 -0.412520  42.380001   \n",
       "2  ENSG00000187961  Stomach  11.037735   4.394696 -0.145059  10.360000   \n",
       "3  ENSG00000187583  Stomach   1.643722   1.750657 -0.314139   1.138000   \n",
       "4  ENSG00000187642  Stomach   0.612194   0.432204 -0.298348   0.489900   \n",
       "\n",
       "    Breadth        CV        MAD  \n",
       "0  0.763231  0.904074   2.489289  \n",
       "1  0.220056  0.353527  14.366420  \n",
       "2  0.445682  0.398152   3.558246  \n",
       "3  0.682451  1.065057   1.040194  \n",
       "4  0.454039  0.705991   0.274874  "
      ]
     },
     "execution_count": 13,
     "metadata": {},
     "output_type": "execute_result"
    }
   ],
   "source": [
    "print(gtex_params.shape)\n",
    "gtex_params.head()"
   ]
  },
  {
   "cell_type": "code",
   "execution_count": 14,
   "metadata": {},
   "outputs": [
    {
     "name": "stdout",
     "output_type": "stream",
     "text": [
      "(453455, 17)\n"
     ]
    },
    {
     "data": {
      "text/html": [
       "<div>\n",
       "<style scoped>\n",
       "    .dataframe tbody tr th:only-of-type {\n",
       "        vertical-align: middle;\n",
       "    }\n",
       "\n",
       "    .dataframe tbody tr th {\n",
       "        vertical-align: top;\n",
       "    }\n",
       "\n",
       "    .dataframe thead th {\n",
       "        text-align: right;\n",
       "    }\n",
       "</style>\n",
       "<table border=\"1\" class=\"dataframe\">\n",
       "  <thead>\n",
       "    <tr style=\"text-align: right;\">\n",
       "      <th></th>\n",
       "      <th>Gene</th>\n",
       "      <th>Tissue</th>\n",
       "      <th>MeanExp</th>\n",
       "      <th>SDofExp</th>\n",
       "      <th>ZScore</th>\n",
       "      <th>MedianExp</th>\n",
       "      <th>Breadth</th>\n",
       "      <th>CV</th>\n",
       "      <th>MAD</th>\n",
       "      <th>Clustering_coeff</th>\n",
       "      <th>IsKinase</th>\n",
       "      <th>IsTF</th>\n",
       "      <th>NeighborList</th>\n",
       "      <th>NumOfKinaseNbs</th>\n",
       "      <th>NumOfNeighbors</th>\n",
       "      <th>NumOfTFNeighbors</th>\n",
       "      <th>Centrality_coeff</th>\n",
       "    </tr>\n",
       "  </thead>\n",
       "  <tbody>\n",
       "    <tr>\n",
       "      <td>0</td>\n",
       "      <td>ENSG00000187634</td>\n",
       "      <td>Stomach</td>\n",
       "      <td>4.720096</td>\n",
       "      <td>4.267317</td>\n",
       "      <td>-0.036851</td>\n",
       "      <td>3.423000</td>\n",
       "      <td>0.763231</td>\n",
       "      <td>0.904074</td>\n",
       "      <td>2.489289</td>\n",
       "      <td>0.047619</td>\n",
       "      <td>0</td>\n",
       "      <td>0</td>\n",
       "      <td>[ENSG00000128591, ENSG00000121060, ENSG0000011...</td>\n",
       "      <td>0</td>\n",
       "      <td>7</td>\n",
       "      <td>2</td>\n",
       "      <td>1.209951e-06</td>\n",
       "    </tr>\n",
       "    <tr>\n",
       "      <td>1</td>\n",
       "      <td>ENSG00000188976</td>\n",
       "      <td>Stomach</td>\n",
       "      <td>44.847466</td>\n",
       "      <td>15.854806</td>\n",
       "      <td>-0.412520</td>\n",
       "      <td>42.380001</td>\n",
       "      <td>0.220056</td>\n",
       "      <td>0.353527</td>\n",
       "      <td>14.366420</td>\n",
       "      <td>0.253545</td>\n",
       "      <td>0</td>\n",
       "      <td>0</td>\n",
       "      <td>[ENSG00000111676, ENSG00000166333, ENSG0000017...</td>\n",
       "      <td>2</td>\n",
       "      <td>110</td>\n",
       "      <td>15</td>\n",
       "      <td>9.446877e-05</td>\n",
       "    </tr>\n",
       "    <tr>\n",
       "      <td>2</td>\n",
       "      <td>ENSG00000187961</td>\n",
       "      <td>Stomach</td>\n",
       "      <td>11.037735</td>\n",
       "      <td>4.394696</td>\n",
       "      <td>-0.145059</td>\n",
       "      <td>10.360000</td>\n",
       "      <td>0.445682</td>\n",
       "      <td>0.398152</td>\n",
       "      <td>3.558246</td>\n",
       "      <td>0.333333</td>\n",
       "      <td>0</td>\n",
       "      <td>0</td>\n",
       "      <td>[ENSG00000159251, ENSG00000036257, ENSG0000001...</td>\n",
       "      <td>0</td>\n",
       "      <td>4</td>\n",
       "      <td>0</td>\n",
       "      <td>2.254576e-07</td>\n",
       "    </tr>\n",
       "    <tr>\n",
       "      <td>3</td>\n",
       "      <td>ENSG00000187583</td>\n",
       "      <td>Stomach</td>\n",
       "      <td>1.643722</td>\n",
       "      <td>1.750657</td>\n",
       "      <td>-0.314139</td>\n",
       "      <td>1.138000</td>\n",
       "      <td>0.682451</td>\n",
       "      <td>1.065057</td>\n",
       "      <td>1.040194</td>\n",
       "      <td>0.000000</td>\n",
       "      <td>0</td>\n",
       "      <td>0</td>\n",
       "      <td>[ENSG00000185002, ENSG00000110031, ENSG0000016...</td>\n",
       "      <td>0</td>\n",
       "      <td>3</td>\n",
       "      <td>1</td>\n",
       "      <td>5.063642e-07</td>\n",
       "    </tr>\n",
       "  </tbody>\n",
       "</table>\n",
       "</div>"
      ],
      "text/plain": [
       "              Gene   Tissue    MeanExp    SDofExp    ZScore  MedianExp  \\\n",
       "0  ENSG00000187634  Stomach   4.720096   4.267317 -0.036851   3.423000   \n",
       "1  ENSG00000188976  Stomach  44.847466  15.854806 -0.412520  42.380001   \n",
       "2  ENSG00000187961  Stomach  11.037735   4.394696 -0.145059  10.360000   \n",
       "3  ENSG00000187583  Stomach   1.643722   1.750657 -0.314139   1.138000   \n",
       "\n",
       "    Breadth        CV        MAD  Clustering_coeff IsKinase IsTF  \\\n",
       "0  0.763231  0.904074   2.489289          0.047619        0    0   \n",
       "1  0.220056  0.353527  14.366420          0.253545        0    0   \n",
       "2  0.445682  0.398152   3.558246          0.333333        0    0   \n",
       "3  0.682451  1.065057   1.040194          0.000000        0    0   \n",
       "\n",
       "                                        NeighborList NumOfKinaseNbs  \\\n",
       "0  [ENSG00000128591, ENSG00000121060, ENSG0000011...              0   \n",
       "1  [ENSG00000111676, ENSG00000166333, ENSG0000017...              2   \n",
       "2  [ENSG00000159251, ENSG00000036257, ENSG0000001...              0   \n",
       "3  [ENSG00000185002, ENSG00000110031, ENSG0000016...              0   \n",
       "\n",
       "  NumOfNeighbors NumOfTFNeighbors  Centrality_coeff  \n",
       "0              7                2      1.209951e-06  \n",
       "1            110               15      9.446877e-05  \n",
       "2              4                0      2.254576e-07  \n",
       "3              3                1      5.063642e-07  "
      ]
     },
     "execution_count": 14,
     "metadata": {},
     "output_type": "execute_result"
    }
   ],
   "source": [
    "gt_param_df = pd.merge(gtex_params, graph_params,  how='inner', \n",
    "                       left_on=['Gene','Tissue'], right_on = ['Gene','Tissue'])\n",
    "\n",
    "\n",
    "print(gt_param_df.shape)\n",
    "gt_param_df.head(4)"
   ]
  },
  {
   "cell_type": "code",
   "execution_count": 15,
   "metadata": {
    "scrolled": true
   },
   "outputs": [
    {
     "data": {
      "text/plain": [
       "Gene                False\n",
       "Tissue              False\n",
       "MeanExp             False\n",
       "SDofExp             False\n",
       "ZScore              False\n",
       "MedianExp           False\n",
       "Breadth             False\n",
       "CV                  False\n",
       "MAD                 False\n",
       "Clustering_coeff    False\n",
       "IsKinase            False\n",
       "IsTF                False\n",
       "NeighborList        False\n",
       "NumOfKinaseNbs      False\n",
       "NumOfNeighbors      False\n",
       "NumOfTFNeighbors    False\n",
       "Centrality_coeff    False\n",
       "dtype: bool"
      ]
     },
     "execution_count": 15,
     "metadata": {},
     "output_type": "execute_result"
    }
   ],
   "source": [
    "gt_param_df.isnull().any()\n"
   ]
  },
  {
   "cell_type": "markdown",
   "metadata": {},
   "source": [
    "# Calculating MeanZscore & Mean breadth of neighbors"
   ]
  },
  {
   "cell_type": "code",
   "execution_count": 16,
   "metadata": {},
   "outputs": [],
   "source": [
    "tissue_list = gt_param_df['Tissue'].drop_duplicates().tolist()\n",
    "gene_list = gt_param_df['Gene'].drop_duplicates().tolist()\n",
    "breadth_dict = {}\n",
    "zscore_dict = {}\n",
    "for tissue in tissue_list:\n",
    "    breadth_dict[tissue] = {}\n",
    "    zscore_dict[tissue] = {}\n"
   ]
  },
  {
   "cell_type": "code",
   "execution_count": 17,
   "metadata": {
    "scrolled": true
   },
   "outputs": [
    {
     "name": "stdout",
     "output_type": "stream",
     "text": [
      "10000\n",
      "20000\n",
      "30000\n",
      "40000\n",
      "50000\n",
      "60000\n",
      "70000\n",
      "80000\n",
      "90000\n",
      "100000\n",
      "110000\n",
      "120000\n",
      "130000\n",
      "140000\n",
      "150000\n",
      "160000\n",
      "170000\n",
      "180000\n",
      "190000\n",
      "200000\n",
      "210000\n",
      "220000\n",
      "230000\n",
      "240000\n",
      "250000\n",
      "260000\n",
      "270000\n",
      "280000\n",
      "290000\n",
      "300000\n",
      "310000\n",
      "320000\n",
      "330000\n",
      "340000\n",
      "350000\n",
      "360000\n",
      "370000\n",
      "380000\n",
      "390000\n",
      "400000\n",
      "410000\n",
      "420000\n",
      "430000\n",
      "440000\n",
      "450000\n"
     ]
    }
   ],
   "source": [
    "count = 0\n",
    "for index,row in gt_param_df.iterrows():\n",
    "    count+=1\n",
    "    gene = row['Gene']\n",
    "    tissue = row['Tissue']\n",
    "    breadth_dict[tissue][gene] = row['Breadth']\n",
    "    zscore_dict[tissue][gene] = row['ZScore']\n",
    "    if count%10000 ==  0:\n",
    "        print(count)"
   ]
  },
  {
   "cell_type": "code",
   "execution_count": null,
   "metadata": {
    "scrolled": true
   },
   "outputs": [
    {
     "name": "stdout",
     "output_type": "stream",
     "text": [
      "10000\n",
      "20000\n",
      "30000\n",
      "40000\n",
      "50000\n",
      "60000\n",
      "70000\n",
      "80000\n",
      "90000\n",
      "100000\n",
      "110000\n",
      "120000\n",
      "130000\n",
      "140000\n",
      "150000\n",
      "160000\n",
      "170000\n",
      "180000\n"
     ]
    }
   ],
   "source": [
    "count = 0\n",
    "mean_breadth_list = []\n",
    "mean_zscore_list = []\n",
    "median_breadth_list = []\n",
    "median_zscore_list = []\n",
    "\n",
    "for index,row in gt_param_df.iterrows():\n",
    "    count+=1\n",
    "    tissue = row['Tissue']\n",
    "    nl = row['NeighborList']\n",
    "#     print(tissue)\n",
    "    if nl == 0:\n",
    "        mean_breadth_list.append(0)\n",
    "        mean_zscore_list.append(0)\n",
    "    else:\n",
    "        nl = list(set(nl)&set(gene_list))\n",
    "        mean_breadth = np.mean([breadth_dict[tissue][x] for x in nl])\n",
    "        mean_zscore = np.mean([zscore_dict[tissue][x] for x in nl])\n",
    "        median_breadth = np.median([breadth_dict[tissue][x] for x in nl])\n",
    "        median_zscore = np.median([zscore_dict[tissue][x] for x in nl])\n",
    "        mean_breadth_list.append(mean_breadth)\n",
    "        mean_zscore_list.append(mean_zscore)\n",
    "        median_breadth_list.append(median_breadth)\n",
    "        median_zscore_list.append(median_zscore)\n",
    "    if count%10000 ==  0:\n",
    "        print(count)\n",
    "        \n",
    "gt_param_df['NeighborMeanBreadth'] = mean_breadth_list\n",
    "gt_param_df['NeighborMeanZscore'] = mean_zscore_list\n",
    "gt_param_df['NeighborMedianBreadth'] = median_breadth_list\n",
    "gt_param_df['NeighborMedianZscore'] = median_zscore_list\n",
    "\n"
   ]
  },
  {
   "cell_type": "code",
   "execution_count": null,
   "metadata": {},
   "outputs": [],
   "source": [
    "print(gt_param_df.shape)\n",
    "gt_param_df.head(2)"
   ]
  },
  {
   "cell_type": "code",
   "execution_count": null,
   "metadata": {},
   "outputs": [],
   "source": [
    "gt_param_df['Tissue'].value_counts()"
   ]
  },
  {
   "cell_type": "code",
   "execution_count": null,
   "metadata": {},
   "outputs": [],
   "source": [
    "gt_param_df.head()"
   ]
  },
  {
   "cell_type": "code",
   "execution_count": 26,
   "metadata": {},
   "outputs": [
    {
     "data": {
      "text/plain": [
       "<matplotlib.axes._subplots.AxesSubplot at 0x7f10443dee80>"
      ]
     },
     "execution_count": 26,
     "metadata": {},
     "output_type": "execute_result"
    },
    {
     "data": {
      "image/png": "[encoded data removed]",
      "text/plain": [
       "<Figure size 432x288 with 1 Axes>"
      ]
     },
     "metadata": {
      "needs_background": "light"
     },
     "output_type": "display_data"
    }
   ],
   "source": [
    "gt_param_df[gt_param_df['Tissue'] == 'Brain']['NeighborMeanZscore'].hist()"
   ]
  },
  {
   "cell_type": "code",
   "execution_count": 27,
   "metadata": {},
   "outputs": [
    {
     "data": {
      "text/plain": [
       "<matplotlib.axes._subplots.AxesSubplot at 0x7f10443de240>"
      ]
     },
     "execution_count": 27,
     "metadata": {},
     "output_type": "execute_result"
    },
    {
     "data": {
      "image/png": "[encoded data removed]",
      "text/plain": [
       "<Figure size 432x288 with 1 Axes>"
      ]
     },
     "metadata": {
      "needs_background": "light"
     },
     "output_type": "display_data"
    }
   ],
   "source": [
    "gt_param_df[gt_param_df['Tissue'] == 'Brain']['NeighborMeanBreadth'].hist()"
   ]
  },
  {
   "cell_type": "code",
   "execution_count": 28,
   "metadata": {},
   "outputs": [],
   "source": [
    "gene_lookup_dict_ensg2name = pickle.load( \n",
    "    open( \"./data_generated/ens2gname_lookup.p\", \"rb\" ) )\n"
   ]
  },
  {
   "cell_type": "code",
   "execution_count": 29,
   "metadata": {},
   "outputs": [],
   "source": [
    "gt_param_df[\"Description\"] = gt_param_df[\"Gene\"].map(gene_lookup_dict_ensg2name)\n",
    "gt_param_df.to_csv('./data_generated/gt_param_df.csv',index=False)\n",
    "pickle.dump( gt_param_df, open( \"./data_generated/gt_param_df.p\", \"wb\" ) )"
   ]
  },
  {
   "cell_type": "code",
   "execution_count": 30,
   "metadata": {},
   "outputs": [
    {
     "data": {
      "text/html": [
       "<div>\n",
       "<style scoped>\n",
       "    .dataframe tbody tr th:only-of-type {\n",
       "        vertical-align: middle;\n",
       "    }\n",
       "\n",
       "    .dataframe tbody tr th {\n",
       "        vertical-align: top;\n",
       "    }\n",
       "\n",
       "    .dataframe thead th {\n",
       "        text-align: right;\n",
       "    }\n",
       "</style>\n",
       "<table border=\"1\" class=\"dataframe\">\n",
       "  <thead>\n",
       "    <tr style=\"text-align: right;\">\n",
       "      <th></th>\n",
       "      <th>Gene</th>\n",
       "      <th>Tissue</th>\n",
       "      <th>MeanExp</th>\n",
       "      <th>SDofExp</th>\n",
       "      <th>ZScore</th>\n",
       "      <th>MedianExp</th>\n",
       "      <th>Breadth</th>\n",
       "      <th>CV</th>\n",
       "      <th>MAD</th>\n",
       "      <th>Clustering_coeff</th>\n",
       "      <th>IsKinase</th>\n",
       "      <th>IsTF</th>\n",
       "      <th>NeighborList</th>\n",
       "      <th>NumOfKinaseNbs</th>\n",
       "      <th>NumOfNeighbors</th>\n",
       "      <th>NumOfTFNeighbors</th>\n",
       "      <th>Centrality_coeff</th>\n",
       "      <th>NeighborMeanBreadth</th>\n",
       "      <th>NeighborMeanZscore</th>\n",
       "      <th>NeighborMedianBreadth</th>\n",
       "      <th>NeighborMedianZscore</th>\n",
       "      <th>Description</th>\n",
       "    </tr>\n",
       "  </thead>\n",
       "  <tbody>\n",
       "    <tr>\n",
       "      <td>0</td>\n",
       "      <td>ENSG00000187634</td>\n",
       "      <td>Stomach</td>\n",
       "      <td>4.720096</td>\n",
       "      <td>4.267317</td>\n",
       "      <td>-0.036851</td>\n",
       "      <td>3.423000</td>\n",
       "      <td>0.763231</td>\n",
       "      <td>0.904074</td>\n",
       "      <td>2.489289</td>\n",
       "      <td>0.047619</td>\n",
       "      <td>0</td>\n",
       "      <td>0</td>\n",
       "      <td>[ENSG00000128591, ENSG00000121060, ENSG0000011...</td>\n",
       "      <td>0</td>\n",
       "      <td>7</td>\n",
       "      <td>2</td>\n",
       "      <td>1.209951e-06</td>\n",
       "      <td>0.296060</td>\n",
       "      <td>-0.366241</td>\n",
       "      <td>0.261838</td>\n",
       "      <td>-0.380078</td>\n",
       "      <td>SAMD11</td>\n",
       "    </tr>\n",
       "    <tr>\n",
       "      <td>1</td>\n",
       "      <td>ENSG00000188976</td>\n",
       "      <td>Stomach</td>\n",
       "      <td>44.847466</td>\n",
       "      <td>15.854806</td>\n",
       "      <td>-0.412520</td>\n",
       "      <td>42.380001</td>\n",
       "      <td>0.220056</td>\n",
       "      <td>0.353527</td>\n",
       "      <td>14.366420</td>\n",
       "      <td>0.253545</td>\n",
       "      <td>0</td>\n",
       "      <td>0</td>\n",
       "      <td>[ENSG00000111676, ENSG00000166333, ENSG0000017...</td>\n",
       "      <td>2</td>\n",
       "      <td>110</td>\n",
       "      <td>15</td>\n",
       "      <td>9.446877e-05</td>\n",
       "      <td>0.349456</td>\n",
       "      <td>-0.245143</td>\n",
       "      <td>0.309192</td>\n",
       "      <td>-0.260509</td>\n",
       "      <td>NOC2L</td>\n",
       "    </tr>\n",
       "    <tr>\n",
       "      <td>2</td>\n",
       "      <td>ENSG00000187961</td>\n",
       "      <td>Stomach</td>\n",
       "      <td>11.037735</td>\n",
       "      <td>4.394696</td>\n",
       "      <td>-0.145059</td>\n",
       "      <td>10.360000</td>\n",
       "      <td>0.445682</td>\n",
       "      <td>0.398152</td>\n",
       "      <td>3.558246</td>\n",
       "      <td>0.333333</td>\n",
       "      <td>0</td>\n",
       "      <td>0</td>\n",
       "      <td>[ENSG00000159251, ENSG00000036257, ENSG0000001...</td>\n",
       "      <td>0</td>\n",
       "      <td>4</td>\n",
       "      <td>0</td>\n",
       "      <td>2.254576e-07</td>\n",
       "      <td>0.300836</td>\n",
       "      <td>-0.350367</td>\n",
       "      <td>0.274373</td>\n",
       "      <td>-0.335166</td>\n",
       "      <td>KLHL17</td>\n",
       "    </tr>\n",
       "    <tr>\n",
       "      <td>3</td>\n",
       "      <td>ENSG00000187583</td>\n",
       "      <td>Stomach</td>\n",
       "      <td>1.643722</td>\n",
       "      <td>1.750657</td>\n",
       "      <td>-0.314139</td>\n",
       "      <td>1.138000</td>\n",
       "      <td>0.682451</td>\n",
       "      <td>1.065057</td>\n",
       "      <td>1.040194</td>\n",
       "      <td>0.000000</td>\n",
       "      <td>0</td>\n",
       "      <td>0</td>\n",
       "      <td>[ENSG00000185002, ENSG00000110031, ENSG0000016...</td>\n",
       "      <td>0</td>\n",
       "      <td>3</td>\n",
       "      <td>1</td>\n",
       "      <td>5.063642e-07</td>\n",
       "      <td>0.470752</td>\n",
       "      <td>0.818392</td>\n",
       "      <td>0.284123</td>\n",
       "      <td>-0.294220</td>\n",
       "      <td>PLEKHN1</td>\n",
       "    </tr>\n",
       "    <tr>\n",
       "      <td>4</td>\n",
       "      <td>ENSG00000187642</td>\n",
       "      <td>Stomach</td>\n",
       "      <td>0.612194</td>\n",
       "      <td>0.432204</td>\n",
       "      <td>-0.298348</td>\n",
       "      <td>0.489900</td>\n",
       "      <td>0.454039</td>\n",
       "      <td>0.705991</td>\n",
       "      <td>0.274874</td>\n",
       "      <td>0.000000</td>\n",
       "      <td>0</td>\n",
       "      <td>0</td>\n",
       "      <td>[ENSG00000160789]</td>\n",
       "      <td>0</td>\n",
       "      <td>1</td>\n",
       "      <td>0</td>\n",
       "      <td>0.000000e+00</td>\n",
       "      <td>0.311978</td>\n",
       "      <td>-0.253442</td>\n",
       "      <td>0.311978</td>\n",
       "      <td>-0.253442</td>\n",
       "      <td>PERM1</td>\n",
       "    </tr>\n",
       "  </tbody>\n",
       "</table>\n",
       "</div>"
      ],
      "text/plain": [
       "              Gene   Tissue    MeanExp    SDofExp    ZScore  MedianExp  \\\n",
       "0  ENSG00000187634  Stomach   4.720096   4.267317 -0.036851   3.423000   \n",
       "1  ENSG00000188976  Stomach  44.847466  15.854806 -0.412520  42.380001   \n",
       "2  ENSG00000187961  Stomach  11.037735   4.394696 -0.145059  10.360000   \n",
       "3  ENSG00000187583  Stomach   1.643722   1.750657 -0.314139   1.138000   \n",
       "4  ENSG00000187642  Stomach   0.612194   0.432204 -0.298348   0.489900   \n",
       "\n",
       "    Breadth        CV        MAD  Clustering_coeff IsKinase IsTF  \\\n",
       "0  0.763231  0.904074   2.489289          0.047619        0    0   \n",
       "1  0.220056  0.353527  14.366420          0.253545        0    0   \n",
       "2  0.445682  0.398152   3.558246          0.333333        0    0   \n",
       "3  0.682451  1.065057   1.040194          0.000000        0    0   \n",
       "4  0.454039  0.705991   0.274874          0.000000        0    0   \n",
       "\n",
       "                                        NeighborList NumOfKinaseNbs  \\\n",
       "0  [ENSG00000128591, ENSG00000121060, ENSG0000011...              0   \n",
       "1  [ENSG00000111676, ENSG00000166333, ENSG0000017...              2   \n",
       "2  [ENSG00000159251, ENSG00000036257, ENSG0000001...              0   \n",
       "3  [ENSG00000185002, ENSG00000110031, ENSG0000016...              0   \n",
       "4                                  [ENSG00000160789]              0   \n",
       "\n",
       "  NumOfNeighbors NumOfTFNeighbors  Centrality_coeff  NeighborMeanBreadth  \\\n",
       "0              7                2      1.209951e-06             0.296060   \n",
       "1            110               15      9.446877e-05             0.349456   \n",
       "2              4                0      2.254576e-07             0.300836   \n",
       "3              3                1      5.063642e-07             0.470752   \n",
       "4              1                0      0.000000e+00             0.311978   \n",
       "\n",
       "   NeighborMeanZscore  NeighborMedianBreadth  NeighborMedianZscore Description  \n",
       "0           -0.366241               0.261838             -0.380078      SAMD11  \n",
       "1           -0.245143               0.309192             -0.260509       NOC2L  \n",
       "2           -0.350367               0.274373             -0.335166      KLHL17  \n",
       "3            0.818392               0.284123             -0.294220     PLEKHN1  \n",
       "4           -0.253442               0.311978             -0.253442       PERM1  "
      ]
     },
     "execution_count": 30,
     "metadata": {},
     "output_type": "execute_result"
    }
   ],
   "source": [
    "gt_param_df.head()"
   ]
  },
  {
   "cell_type": "code",
   "execution_count": 32,
   "metadata": {},
   "outputs": [
    {
     "data": {
      "text/plain": [
       "Gene                     False\n",
       "Tissue                   False\n",
       "MeanExp                  False\n",
       "SDofExp                  False\n",
       "ZScore                   False\n",
       "MedianExp                False\n",
       "Breadth                  False\n",
       "CV                       False\n",
       "MAD                      False\n",
       "Clustering_coeff         False\n",
       "IsKinase                 False\n",
       "IsTF                     False\n",
       "NeighborList             False\n",
       "NumOfKinaseNbs           False\n",
       "NumOfNeighbors           False\n",
       "NumOfTFNeighbors         False\n",
       "Centrality_coeff         False\n",
       "NeighborMeanBreadth      False\n",
       "NeighborMeanZscore       False\n",
       "NeighborMedianBreadth    False\n",
       "NeighborMedianZscore     False\n",
       "Description              False\n",
       "dtype: bool"
      ]
     },
     "execution_count": 32,
     "metadata": {},
     "output_type": "execute_result"
    }
   ],
   "source": [
    "gt_param_df.isnull().any()\n"
   ]
  },
  {
   "cell_type": "code",
   "execution_count": null,
   "metadata": {},
   "outputs": [],
   "source": []
  }
 ],
 "metadata": {
  "kernelspec": {
   "display_name": "Python 3",
   "language": "python",
   "name": "python3"
  },
  "language_info": {
   "codemirror_mode": {
    "name": "ipython",
    "version": 3
   },
   "file_extension": ".py",
   "mimetype": "text/x-python",
   "name": "python",
   "nbconvert_exporter": "python",
   "pygments_lexer": "ipython3",
   "version": "3.7.6"
  }
 },
 "nbformat": 4,
 "nbformat_minor": 4
}
