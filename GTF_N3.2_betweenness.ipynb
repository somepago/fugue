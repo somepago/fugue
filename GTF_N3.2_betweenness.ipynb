{
 "cells": [
  {
   "cell_type": "code",
   "execution_count": 1,
   "metadata": {},
   "outputs": [],
   "source": [
    "%matplotlib inline"
   ]
  },
  {
   "cell_type": "markdown",
   "metadata": {},
   "source": [
    "\n",
    "# Parallel Betweenness\n",
    "\n",
    "\n",
    "Example of parallel implementation of betweenness centrality using the\n",
    "multiprocessing module from Python Standard Library.\n",
    "\n",
    "The function betweenness centrality accepts a bunch of nodes and computes\n",
    "the contribution of those nodes to the betweenness centrality of the whole\n",
    "network. Here we divide the network in chunks of nodes and we compute their\n",
    "contribution to the betweenness centrality of the whole network.\n",
    "\n",
    "This doesn't work in python2.7.13. It does work in 3.6, 3.5, 3.4, and 3.3.\n",
    "\n",
    "It may be related to this:\n",
    "https://stackoverflow.com/questions/1816958/cant-pickle-type-instancemethod-when-using-multiprocessing-pool-map\n"
   ]
  },
  {
   "cell_type": "code",
   "execution_count": 1,
   "metadata": {},
   "outputs": [],
   "source": [
    "import pickle"
   ]
  },
  {
   "cell_type": "code",
   "execution_count": 2,
   "metadata": {},
   "outputs": [],
   "source": [
    "from multiprocessing import Pool\n",
    "import time\n",
    "import itertools\n",
    "\n",
    "import matplotlib.pyplot as plt\n",
    "import networkx as nx\n",
    "\n",
    "\n",
    "def chunks(l, n):\n",
    "    \"\"\"Divide a list of nodes `l` in `n` chunks\"\"\"\n",
    "    l_c = iter(l)\n",
    "    while 1:\n",
    "        x = tuple(itertools.islice(l_c, n))\n",
    "        if not x:\n",
    "            return\n",
    "        yield x\n",
    "\n",
    "\n",
    "def _betmap(G_normalized_weight_sources_tuple):\n",
    "    \"\"\"Pool for multiprocess only accepts functions with one argument.\n",
    "    This function uses a tuple as its only argument. We use a named tuple for\n",
    "    python 3 compatibility, and then unpack it when we send it to\n",
    "    `betweenness_centrality_source`\n",
    "    \"\"\"\n",
    "    return nx.betweenness_centrality_source(*G_normalized_weight_sources_tuple)\n",
    "\n",
    "\n",
    "def betweenness_centrality_parallel(G, processes=None):\n",
    "    \"\"\"Parallel betweenness centrality  function\"\"\"\n",
    "    p = Pool(processes=processes)\n",
    "    node_divisor = len(p._pool) * 4\n",
    "    node_chunks = list(chunks(G.nodes(), int(G.order() / node_divisor)))\n",
    "    num_chunks = len(node_chunks)\n",
    "    bt_sc = p.map(_betmap,\n",
    "                  zip([G] * num_chunks,\n",
    "                      [True] * num_chunks,\n",
    "                      [None] * num_chunks,\n",
    "                      node_chunks))\n",
    "\n",
    "    # Reduce the partial solutions\n",
    "    bt_c = bt_sc[0]\n",
    "    for bt in bt_sc[1:]:\n",
    "        for n in bt:\n",
    "            bt_c[n] += bt[n]\n",
    "    return bt_c\n",
    "\n",
    "\n",
    "# if __name__ == \"__main__\":\n",
    "#     G_ba = nx.barabasi_albert_graph(1000, 3)\n",
    "#     for G in [G_ba]:\n",
    "#         print(\"\")\n",
    "#         print(\"Computing betweenness centrality for:\")\n",
    "#         print(nx.info(G))\n",
    "#         print(\"\\tParallel version\")\n",
    "#         start = time.time()\n",
    "#         bt = betweenness_centrality_parallel(G)\n",
    "#         print(\"\\t\\tTime: %.4F\" % (time.time() - start))\n",
    "#         print(\"\\t\\tBetweenness centrality for node 0: %.5f\" % (bt[0]))\n",
    "#         print(\"\\tNon-Parallel version\")\n",
    "#         start = time.time()\n",
    "#         bt = nx.betweenness_centrality(G)\n",
    "#         print(\"\\t\\tTime: %.4F seconds\" % (time.time() - start))\n",
    "#         print(\"\\t\\tBetweenness centrality for node 0: %.5f\" % (bt[0]))\n",
    "#     print(\"\")\n",
    "\n",
    "#     nx.draw(G_ba)\n",
    "#     plt.show()"
   ]
  },
  {
   "cell_type": "code",
   "execution_count": 4,
   "metadata": {},
   "outputs": [],
   "source": [
    "tissue_list = ['Blood',\n",
    " 'Bladder',\n",
    " 'Stomach',\n",
    " 'Blood Vessel',\n",
    " 'Brain',\n",
    " 'Adipose Tissue',\n",
    " 'Pituitary',\n",
    " 'Heart',\n",
    " 'Colon',\n",
    " 'Thyroid',\n",
    " 'Ovary',\n",
    " 'Esophagus',\n",
    " 'Kidney',\n",
    " 'Prostate',\n",
    " 'Salivary Gland',\n",
    " 'Lung',\n",
    " 'Muscle',\n",
    " 'Pancreas',\n",
    " 'Skin',\n",
    " 'Liver',\n",
    " 'Adrenal Gland',\n",
    " 'Small Intestine',\n",
    " 'Cervix Uteri',\n",
    " 'Breast',\n",
    " 'Vagina',\n",
    " 'Spleen',\n",
    " 'Fallopian Tube',\n",
    " 'Uterus',\n",
    " 'Testis',\n",
    " 'Nerve']"
   ]
  },
  {
   "cell_type": "code",
   "execution_count": 5,
   "metadata": {
    "scrolled": true
   },
   "outputs": [
    {
     "name": "stdout",
     "output_type": "stream",
     "text": [
      "Vagina\n",
      "2020-04-14 01:04:54.781402\n",
      "k done\n",
      "2020-04-14 01:09:51.991503\n",
      "Spleen\n",
      "2020-04-14 01:09:52.226230\n",
      "k done\n",
      "2020-04-14 01:15:16.546903\n",
      "Fallopian Tube\n",
      "2020-04-14 01:15:16.720584\n",
      "k done\n",
      "2020-04-14 01:17:54.444607\n",
      "Uterus\n",
      "2020-04-14 01:17:57.115671\n",
      "k done\n",
      "2020-04-14 01:23:00.782334\n",
      "Testis\n",
      "2020-04-14 01:23:01.351338\n",
      "k done\n",
      "2020-04-14 01:27:47.365732\n",
      "Nerve\n",
      "2020-04-14 01:27:47.637233\n",
      "k done\n",
      "2020-04-14 01:33:15.010282\n"
     ]
    }
   ],
   "source": [
    "import datetime\n",
    "import pandas as pd\n",
    "# all_tissue_centrality = pd.DataFrame(columns = ['Gene','Centrality_coeff','Tissue'])\n",
    "all_tissue_centrality = pickle.load( \n",
    "    open( \"./data_generated/network_generated/all_tissue_centrality.p\", \"rb\" ) )\n",
    "tissue_list = ['Vagina',\n",
    " 'Spleen',\n",
    " 'Fallopian Tube',\n",
    " 'Uterus',\n",
    " 'Testis',\n",
    " 'Nerve']\n",
    "for tissue in tissue_list:\n",
    "    print(tissue)\n",
    "    print(datetime.datetime.now())\n",
    "    name = './data_generated/network_generated/'+ tissue + '_network.p'\n",
    "    tissue_nw = pickle.load( open( name, \"rb\" ) )\n",
    "    Gm = nx.from_pandas_edgelist(tissue_nw, 'Gene1', 'Gene2', 'PPI_val')\n",
    "    k = betweenness_centrality_parallel(Gm)\n",
    "    print('k done')\n",
    "    print(datetime.datetime.now())\n",
    "\n",
    "    tissue_df = pd.DataFrame.from_dict(k,orient='index', \n",
    "                       columns =['Centrality_coeff'] ).reset_index().rename(columns = {'index':'Gene'})\n",
    "    tissue_df['Tissue'] = tissue\n",
    "    all_tissue_centrality = all_tissue_centrality.append(tissue_df,ignore_index=True)\n",
    "pickle.dump( all_tissue_centrality, open( './data_generated/network_generated/all_tissue_centrality.p' , \"wb\" ) )"
   ]
  },
  {
   "cell_type": "code",
   "execution_count": 6,
   "metadata": {},
   "outputs": [
    {
     "data": {
      "text/plain": [
       "30"
      ]
     },
     "execution_count": 6,
     "metadata": {},
     "output_type": "execute_result"
    }
   ],
   "source": [
    "len(set(all_tissue_centrality['Tissue'].tolist()))"
   ]
  },
  {
   "cell_type": "code",
   "execution_count": 11,
   "metadata": {},
   "outputs": [
    {
     "data": {
      "text/html": [
       "<div>\n",
       "<style scoped>\n",
       "    .dataframe tbody tr th:only-of-type {\n",
       "        vertical-align: middle;\n",
       "    }\n",
       "\n",
       "    .dataframe tbody tr th {\n",
       "        vertical-align: top;\n",
       "    }\n",
       "\n",
       "    .dataframe thead th {\n",
       "        text-align: right;\n",
       "    }\n",
       "</style>\n",
       "<table border=\"1\" class=\"dataframe\">\n",
       "  <thead>\n",
       "    <tr style=\"text-align: right;\">\n",
       "      <th></th>\n",
       "      <th>Gene1</th>\n",
       "      <th>Gene2</th>\n",
       "      <th>PPI_val</th>\n",
       "      <th>Ratio_val</th>\n",
       "      <th>Tissue</th>\n",
       "    </tr>\n",
       "  </thead>\n",
       "  <tbody>\n",
       "  </tbody>\n",
       "</table>\n",
       "</div>"
      ],
      "text/plain": [
       "Empty DataFrame\n",
       "Columns: [Gene1, Gene2, PPI_val, Ratio_val, Tissue]\n",
       "Index: []"
      ]
     },
     "execution_count": 11,
     "metadata": {},
     "output_type": "execute_result"
    }
   ],
   "source": [
    "tissue_nw[tissue_nw['Ratio_val']<0.25]"
   ]
  },
  {
   "cell_type": "code",
   "execution_count": null,
   "metadata": {},
   "outputs": [],
   "source": []
  }
 ],
 "metadata": {
  "kernelspec": {
   "display_name": "Python 3",
   "language": "python",
   "name": "python3"
  },
  "language_info": {
   "codemirror_mode": {
    "name": "ipython",
    "version": 3
   },
   "file_extension": ".py",
   "mimetype": "text/x-python",
   "name": "python",
   "nbconvert_exporter": "python",
   "pygments_lexer": "ipython3",
   "version": "3.7.6"
  }
 },
 "nbformat": 4,
 "nbformat_minor": 4
}
