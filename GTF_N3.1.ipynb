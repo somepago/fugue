{
 "cells": [
  {
   "cell_type": "markdown",
   "metadata": {},
   "source": [
    "What's been done here?\n",
    "\n",
    "1. Get unique list of genes from HIPPIE(after removing 0 PPIs)\n",
    "2. Shortlist GTEX with those unique genes (check for duplicates & remove)\n",
    "3. Create GTEX attributes - gene level and gene-tissue level\n",
    "\n",
    "End product - Looks like below - Available at /scratch1/gowthami/GTF/GTF_Project_v2/data/gene_tissue_parameter_df.p\n",
    "\n",
    "Things that need to be fixed before using this data\n",
    "\n",
    "1. There are Nan values in some of the attributes, have to remove them\n",
    "2. There is space in tissue name - have to fix it when mapping this to diseases and later with HPA."
   ]
  },
  {
   "cell_type": "code",
   "execution_count": 18,
   "metadata": {
    "scrolled": true
   },
   "outputs": [
    {
     "data": {
      "text/html": [
       "<div>\n",
       "<style scoped>\n",
       "    .dataframe tbody tr th:only-of-type {\n",
       "        vertical-align: middle;\n",
       "    }\n",
       "\n",
       "    .dataframe tbody tr th {\n",
       "        vertical-align: top;\n",
       "    }\n",
       "\n",
       "    .dataframe thead th {\n",
       "        text-align: right;\n",
       "    }\n",
       "</style>\n",
       "<table border=\"1\" class=\"dataframe\">\n",
       "  <thead>\n",
       "    <tr style=\"text-align: right;\">\n",
       "      <th></th>\n",
       "      <th>Gene</th>\n",
       "      <th>Tissue</th>\n",
       "      <th>MeanExp</th>\n",
       "      <th>SDofExp</th>\n",
       "      <th>ZScore</th>\n",
       "      <th>MedianExp</th>\n",
       "      <th>Breadth</th>\n",
       "      <th>CoeffOfVar</th>\n",
       "      <th>MedAbsDev</th>\n",
       "    </tr>\n",
       "  </thead>\n",
       "  <tbody>\n",
       "    <tr>\n",
       "      <td>0</td>\n",
       "      <td>ENSG00000187634</td>\n",
       "      <td>Stomach</td>\n",
       "      <td>4.720096</td>\n",
       "      <td>4.267317</td>\n",
       "      <td>-0.036851</td>\n",
       "      <td>3.423000</td>\n",
       "      <td>0.763231</td>\n",
       "      <td>0.904074</td>\n",
       "      <td>2.489289</td>\n",
       "    </tr>\n",
       "    <tr>\n",
       "      <td>1</td>\n",
       "      <td>ENSG00000188976</td>\n",
       "      <td>Stomach</td>\n",
       "      <td>44.847466</td>\n",
       "      <td>15.854806</td>\n",
       "      <td>-0.412520</td>\n",
       "      <td>42.380001</td>\n",
       "      <td>0.220056</td>\n",
       "      <td>0.353527</td>\n",
       "      <td>14.366420</td>\n",
       "    </tr>\n",
       "    <tr>\n",
       "      <td>2</td>\n",
       "      <td>ENSG00000187961</td>\n",
       "      <td>Stomach</td>\n",
       "      <td>11.037735</td>\n",
       "      <td>4.394696</td>\n",
       "      <td>-0.145059</td>\n",
       "      <td>10.360000</td>\n",
       "      <td>0.445682</td>\n",
       "      <td>0.398152</td>\n",
       "      <td>3.558246</td>\n",
       "    </tr>\n",
       "    <tr>\n",
       "      <td>3</td>\n",
       "      <td>ENSG00000187583</td>\n",
       "      <td>Stomach</td>\n",
       "      <td>1.643722</td>\n",
       "      <td>1.750657</td>\n",
       "      <td>-0.314139</td>\n",
       "      <td>1.138000</td>\n",
       "      <td>0.682451</td>\n",
       "      <td>1.065057</td>\n",
       "      <td>1.040194</td>\n",
       "    </tr>\n",
       "    <tr>\n",
       "      <td>4</td>\n",
       "      <td>ENSG00000187642</td>\n",
       "      <td>Stomach</td>\n",
       "      <td>0.612194</td>\n",
       "      <td>0.432204</td>\n",
       "      <td>-0.298348</td>\n",
       "      <td>0.489900</td>\n",
       "      <td>0.454039</td>\n",
       "      <td>0.705991</td>\n",
       "      <td>0.274874</td>\n",
       "    </tr>\n",
       "  </tbody>\n",
       "</table>\n",
       "</div>"
      ],
      "text/plain": [
       "              Gene   Tissue    MeanExp    SDofExp    ZScore  MedianExp  \\\n",
       "0  ENSG00000187634  Stomach   4.720096   4.267317 -0.036851   3.423000   \n",
       "1  ENSG00000188976  Stomach  44.847466  15.854806 -0.412520  42.380001   \n",
       "2  ENSG00000187961  Stomach  11.037735   4.394696 -0.145059  10.360000   \n",
       "3  ENSG00000187583  Stomach   1.643722   1.750657 -0.314139   1.138000   \n",
       "4  ENSG00000187642  Stomach   0.612194   0.432204 -0.298348   0.489900   \n",
       "\n",
       "    Breadth  CoeffOfVar  MedAbsDev  \n",
       "0  0.763231    0.904074   2.489289  \n",
       "1  0.220056    0.353527  14.366420  \n",
       "2  0.445682    0.398152   3.558246  \n",
       "3  0.682451    1.065057   1.040194  \n",
       "4  0.454039    0.705991   0.274874  "
      ]
     },
     "execution_count": 18,
     "metadata": {},
     "output_type": "execute_result"
    }
   ],
   "source": [
    "gt_exp_param_df.head(5)"
   ]
  },
  {
   "cell_type": "code",
   "execution_count": 1,
   "metadata": {},
   "outputs": [],
   "source": [
    "import pandas as pd\n",
    "import csv\n",
    "import numpy as np\n",
    "import pickle\n",
    "import seaborn as sns\n",
    "import matplotlib.pyplot as plt\n",
    "plt.rcParams[\"figure.figsize\"]=20,10\n",
    "import matplotlib.mlab as mlab\n",
    "from IPython.display import display\n",
    "pd.options.display.max_columns = None\n",
    "from numpy import random\n",
    "from scipy import stats\n",
    "import collections\n",
    "from statsmodels import robust\n",
    "import datetime\n",
    "import itertools\n"
   ]
  },
  {
   "cell_type": "markdown",
   "metadata": {},
   "source": [
    "# Now calculating the gene level parameters across the tissues"
   ]
  },
  {
   "cell_type": "code",
   "execution_count": 2,
   "metadata": {
    "scrolled": true
   },
   "outputs": [
    {
     "name": "stdout",
     "output_type": "stream",
     "text": [
      "00:51:25.584738\n"
     ]
    }
   ],
   "source": [
    "print(datetime.datetime.now().time())\n",
    "gtex_shortlisted  = pd.read_csv(\n",
    "    '/fs/cbcb-scratch/gowthami/GTF/GTF_Project_v3/data_generated/gtex_shortlisted.tsv',\n",
    "    sep='\\t',chunksize=100)\n",
    "\n"
   ]
  },
  {
   "cell_type": "code",
   "execution_count": 3,
   "metadata": {
    "scrolled": true
   },
   "outputs": [
    {
     "name": "stdout",
     "output_type": "stream",
     "text": [
      "0 00:51:27.537049\n",
      "10 00:52:54.489488\n",
      "20 00:54:20.364857\n",
      "30 00:55:46.205589\n",
      "40 00:57:12.196077\n",
      "50 00:58:38.434237\n",
      "60 01:00:04.351167\n",
      "70 01:01:30.413644\n",
      "80 01:02:56.437582\n",
      "90 01:04:22.359916\n",
      "100 01:05:48.294401\n",
      "110 01:07:13.975118\n",
      "120 01:08:39.963472\n",
      "130 01:10:05.757115\n",
      "140 01:11:31.709314\n",
      "150 01:12:57.556575\n",
      "160 01:14:23.691215\n"
     ]
    },
    {
     "ename": "NameError",
     "evalue": "name 'gene_mean_dict_all' is not defined",
     "output_type": "error",
     "traceback": [
      "\u001b[0;31m---------------------------------------------------------------------------\u001b[0m",
      "\u001b[0;31mNameError\u001b[0m                                 Traceback (most recent call last)",
      "\u001b[0;32m<ipython-input-3-79adcd3f011b>\u001b[0m in \u001b[0;36m<module>\u001b[0;34m\u001b[0m\n\u001b[1;32m     25\u001b[0m \u001b[0mgene_std_dict\u001b[0m \u001b[0;34m=\u001b[0m \u001b[0mdict\u001b[0m\u001b[0;34m(\u001b[0m\u001b[0mzip\u001b[0m\u001b[0;34m(\u001b[0m\u001b[0mlist\u001b[0m\u001b[0;34m(\u001b[0m\u001b[0mitertools\u001b[0m\u001b[0;34m.\u001b[0m\u001b[0mchain\u001b[0m\u001b[0;34m(\u001b[0m\u001b[0;34m*\u001b[0m\u001b[0mgene_list\u001b[0m\u001b[0;34m)\u001b[0m\u001b[0;34m)\u001b[0m\u001b[0;34m,\u001b[0m \u001b[0mlist\u001b[0m\u001b[0;34m(\u001b[0m\u001b[0mitertools\u001b[0m\u001b[0;34m.\u001b[0m\u001b[0mchain\u001b[0m\u001b[0;34m(\u001b[0m\u001b[0;34m*\u001b[0m\u001b[0mstd_list\u001b[0m\u001b[0;34m)\u001b[0m\u001b[0;34m)\u001b[0m\u001b[0;34m)\u001b[0m\u001b[0;34m)\u001b[0m\u001b[0;34m\u001b[0m\u001b[0;34m\u001b[0m\u001b[0m\n\u001b[1;32m     26\u001b[0m \u001b[0;34m\u001b[0m\u001b[0m\n\u001b[0;32m---> 27\u001b[0;31m pickle.dump( gene_mean_dict_all, \n\u001b[0m\u001b[1;32m     28\u001b[0m             open( \"/fs/cbcb-scratch/gowthami/GTF/GTF_Project_v3/data_generated/gene_mean_dict.p\", \"wb\" ) )\n\u001b[1;32m     29\u001b[0m pickle.dump( gene_median_dict_all, \n",
      "\u001b[0;31mNameError\u001b[0m: name 'gene_mean_dict_all' is not defined"
     ]
    }
   ],
   "source": [
    "gene_list = []\n",
    "mean_list = []\n",
    "median_list = []\n",
    "std_list = []\n",
    "\n",
    "count = 0\n",
    "print(count, datetime.datetime.now().time())\n",
    "for chunk in gtex_shortlisted:\n",
    "    count+=1\n",
    "    genes = chunk['Name'].tolist()\n",
    "    genes = [i.split('.')[0] for i in genes] \n",
    "    expressions_np = np.array(chunk.iloc[:,2:]).astype(np.float32)\n",
    "    means = np.mean(expressions_np, axis=1)\n",
    "    medians = np.median(expressions_np, axis=1)\n",
    "    stds = np.std(expressions_np, axis=1)\n",
    "    gene_list.append(genes)\n",
    "    mean_list.append(means)\n",
    "    median_list.append(medians)\n",
    "    std_list.append(stds)\n",
    "    if count%10 ==0:\n",
    "        print(count, datetime.datetime.now().time())\n",
    "        \n",
    "gene_mean_dict = dict(zip(list(itertools.chain(*gene_list)), list(itertools.chain(*mean_list)))) \n",
    "gene_median_dict = dict(zip(list(itertools.chain(*gene_list)), list(itertools.chain(*median_list)))) \n",
    "gene_std_dict = dict(zip(list(itertools.chain(*gene_list)), list(itertools.chain(*std_list)))) \n",
    "\n",
    "pickle.dump( gene_mean_dict, \n",
    "            open( \"/fs/cbcb-scratch/gowthami/GTF/GTF_Project_v3/data_generated/gene_mean_dict.p\", \"wb\" ) )\n",
    "pickle.dump( gene_median_dict, \n",
    "            open( \"/fs/cbcb-scratch/gowthami/GTF/GTF_Project_v3/data_generated/gene_median_dict.p\", \"wb\" ) )\n",
    "pickle.dump( gene_std_dict, \n",
    "            open( \"/fs/cbcb-scratch/gowthami/GTF/GTF_Project_v3/data_generated/gene_std_dict.p\", \"wb\" ) )\n",
    "        "
   ]
  },
  {
   "cell_type": "markdown",
   "metadata": {},
   "source": [
    "# Now mapping sampleids to their relevant tissues.\n",
    "Following steps are followed - \n",
    "\n",
    "1. Read the file which is mapping ids to tissues\n",
    "2. Convert the gtex data into long format.\n",
    "3. Map the ids to relevant tissues\n",
    "4. Convert it into a dict for faster access when it's passed on the function later!\n"
   ]
  },
  {
   "cell_type": "code",
   "execution_count": 5,
   "metadata": {},
   "outputs": [
    {
     "name": "stdout",
     "output_type": "stream",
     "text": [
      "17382\n",
      "(17382, 3)\n"
     ]
    },
    {
     "data": {
      "text/html": [
       "<div>\n",
       "<style scoped>\n",
       "    .dataframe tbody tr th:only-of-type {\n",
       "        vertical-align: middle;\n",
       "    }\n",
       "\n",
       "    .dataframe tbody tr th {\n",
       "        vertical-align: top;\n",
       "    }\n",
       "\n",
       "    .dataframe thead th {\n",
       "        text-align: right;\n",
       "    }\n",
       "</style>\n",
       "<table border=\"1\" class=\"dataframe\">\n",
       "  <thead>\n",
       "    <tr style=\"text-align: right;\">\n",
       "      <th></th>\n",
       "      <th>SAMPID</th>\n",
       "      <th>SMTS</th>\n",
       "      <th>SMTSD</th>\n",
       "    </tr>\n",
       "  </thead>\n",
       "  <tbody>\n",
       "    <tr>\n",
       "      <td>5</td>\n",
       "      <td>GTEX-1117F-0226-SM-5GZZ7</td>\n",
       "      <td>Adipose Tissue</td>\n",
       "      <td>Adipose - Subcutaneous</td>\n",
       "    </tr>\n",
       "    <tr>\n",
       "      <td>6</td>\n",
       "      <td>GTEX-1117F-0426-SM-5EGHI</td>\n",
       "      <td>Muscle</td>\n",
       "      <td>Muscle - Skeletal</td>\n",
       "    </tr>\n",
       "  </tbody>\n",
       "</table>\n",
       "</div>"
      ],
      "text/plain": [
       "                     SAMPID            SMTS                   SMTSD\n",
       "5  GTEX-1117F-0226-SM-5GZZ7  Adipose Tissue  Adipose - Subcutaneous\n",
       "6  GTEX-1117F-0426-SM-5EGHI          Muscle       Muscle - Skeletal"
      ]
     },
     "execution_count": 5,
     "metadata": {},
     "output_type": "execute_result"
    }
   ],
   "source": [
    "temp = gtex_shortlisted  = pd.read_csv(\n",
    "    '/fs/cbcb-scratch/gowthami/GTF/GTF_Project_v3/data_generated/gtex_shortlisted.tsv',\n",
    "    sep='\\t',nrows = 2)\n",
    "col_list = temp.columns.tolist()[2:]\n",
    "print(len(col_list))\n",
    "\n",
    "sampleid_mapping = pd.read_csv('/fs/cbcb-scratch/gowthami/GTF/GTF_Project_v3/'+\n",
    "                               'data_generated/GTEx_Tissue_Attributes.csv',\n",
    "                               sep='\\t')\n",
    "sampleid_mapping = sampleid_mapping[sampleid_mapping['SAMPID'].isin(col_list)]\n",
    "print(sampleid_mapping.shape)\n",
    "sampleid_mapping.head(2)\n"
   ]
  },
  {
   "cell_type": "code",
   "execution_count": 6,
   "metadata": {
    "scrolled": true
   },
   "outputs": [],
   "source": [
    "tissues = set(sampleid_mapping['SMTS'].tolist())\n",
    "tissue_sample_map = {key: [] for key in tissues}\n",
    "for index, row in sampleid_mapping.iterrows():\n",
    "    tissue_sample_map[row['SMTS']].append(row['SAMPID'])"
   ]
  },
  {
   "cell_type": "code",
   "execution_count": 7,
   "metadata": {
    "scrolled": true
   },
   "outputs": [
    {
     "name": "stdout",
     "output_type": "stream",
     "text": [
      "01:19:22.569291\n",
      "0 01:19:22.585231\n",
      "5 01:20:05.587458\n",
      "10 01:20:48.569513\n",
      "15 01:21:31.421124\n",
      "20 01:22:14.244095\n",
      "25 01:22:57.152216\n",
      "30 01:23:40.003349\n",
      "35 01:24:22.896252\n",
      "40 01:25:05.715481\n",
      "45 01:25:48.496967\n",
      "50 01:26:31.444908\n",
      "55 01:27:14.273871\n",
      "60 01:27:57.098039\n",
      "65 01:28:40.015401\n",
      "70 01:29:22.982489\n",
      "75 01:30:05.956296\n",
      "80 01:30:48.909912\n",
      "85 01:31:31.737324\n",
      "90 01:32:14.697227\n",
      "95 01:32:57.623488\n",
      "100 01:33:40.594158\n",
      "105 01:34:23.460434\n",
      "110 01:35:06.325638\n",
      "115 01:35:49.281140\n",
      "120 01:36:32.284870\n",
      "125 01:37:15.093616\n",
      "130 01:37:57.899579\n",
      "135 01:38:40.844039\n",
      "140 01:39:23.698984\n",
      "160 01:42:14.889789\n",
      "165 01:42:58.319541\n"
     ]
    }
   ],
   "source": [
    "print(datetime.datetime.now().time())\n",
    "gtex_shortlisted  = pd.read_csv(\n",
    "    '/fs/cbcb-scratch/gowthami/GTF/GTF_Project_v3/data_generated/gtex_shortlisted.tsv',\n",
    "    sep='\\t',chunksize=100)\n",
    "\n",
    "count = 0\n",
    "print(count, datetime.datetime.now().time())\n",
    "g_t_exp_dict = {}\n",
    "for chunk in gtex_shortlisted:\n",
    "    count+=1\n",
    "    genes = chunk['Name'].tolist()\n",
    "    genes = [i.split('.')[0] for i in genes]\n",
    "    for tissue in tissues:\n",
    "        cols = tissue_sample_map[tissue]     \n",
    "        gt = [i+'_'+tissue for i in genes]\n",
    "        expressions_np = np.array(chunk[cols]).astype(np.float32)\n",
    "        temp_dict = dict(zip(gt,expressions_np))\n",
    "        g_t_exp_dict.update(temp_dict)\n",
    "        \n",
    "    if count%5 ==0:\n",
    "        print(count, datetime.datetime.now().time())\n",
    "        \n",
    "pickle.dump( g_t_exp_dict, \n",
    "            open( \"/fs/cbcb-scratch/gowthami/GTF/GTF_Project_v3/data_generated/g_t_exp_dict.p\", \"wb\" ) )"
   ]
  },
  {
   "cell_type": "code",
   "execution_count": 8,
   "metadata": {},
   "outputs": [],
   "source": [
    "def breadth_calc(data,thresh,key):\n",
    "    data = np.array(data)\n",
    "    try:\n",
    "        ratio = np.sum(np.array(data>=thresh,dtype=int))/len(data)\n",
    "        return ratio\n",
    "    except:\n",
    "        print('breadth broke at '+ key)\n",
    "        return 0\n",
    "\n",
    "def gene_tissue_level_attributes(gt_exp_dict,m_dict,med_dict,sd_dict):\n",
    "    \n",
    "    gene_list = []\n",
    "    tissue_list = []\n",
    "    mean_val = []\n",
    "    std_dev = []\n",
    "    median_val = []\n",
    "    cv = []\n",
    "    mad = []\n",
    "    breadth = []\n",
    "    zscore = []\n",
    "    gts = gt_exp_dict.keys()\n",
    "    print(\"Total rows: \"+str(len(gts)))\n",
    "    count = 0\n",
    "    print(count, datetime.datetime.now().time())\n",
    "    \n",
    "    for key in gts:\n",
    "        count+=1\n",
    "        [gene,tissue] = key.split('_')\n",
    "        data = gt_exp_dict[key]\n",
    "        #print(data)\n",
    "        gene_list.append(gene)\n",
    "        tissue_list.append(tissue)\n",
    "        gt_mean = np.mean(data)\n",
    "        mean_val.append(gt_mean)\n",
    "        std_dev.append(np.std(data))\n",
    "        median_val.append(np.median(data))\n",
    "        cv.append(np.std(data)/ np.mean(data))\n",
    "        mad.append(robust.mad(data))\n",
    "        \n",
    "        \n",
    "        #getting data from gene df here\n",
    "        gene_mean = m_dict[gene]\n",
    "        gene_sd = sd_dict[gene]\n",
    "        threshold_breadth = med_dict[gene]\n",
    "        ##done \n",
    "        \n",
    "        breadth.append(breadth_calc(data,threshold_breadth,key))\n",
    "        zscore.append(float((gt_mean-gene_mean)/gene_sd))\n",
    "        if count%10000 == 0:\n",
    "            print(count, datetime.datetime.now().time())\n",
    "            \n",
    "            \n",
    "    d = { 'Gene': gene_list, 'Tissue':tissue_list,\n",
    "         'MeanExp' : mean_val, 'SDofExp' : std_dev, 'ZScore':zscore,\n",
    "          'MedianExp':median_val,\n",
    "         'Breadth': breadth,'CoeffOfVar': cv, 'MedAbsDev':mad\n",
    "        }\n",
    "    \n",
    "    gene_tissue_parameter_df = pd.DataFrame(d)\n",
    "    \n",
    "    return gene_tissue_parameter_df\n",
    "                "
   ]
  },
  {
   "cell_type": "code",
   "execution_count": 9,
   "metadata": {
    "scrolled": true
   },
   "outputs": [
    {
     "name": "stdout",
     "output_type": "stream",
     "text": [
      "Total rows: 498600\n",
      "0 01:43:36.744111\n",
      "10000 01:43:45.529950\n",
      "20000 01:43:54.352228\n",
      "30000 01:44:03.119744\n"
     ]
    },
    {
     "name": "stderr",
     "output_type": "stream",
     "text": [
      "/fs/cbcb-scratch/gowthami/anaconda3/envs/py36/lib/python3.6/site-packages/ipykernel_launcher.py:37: RuntimeWarning: invalid value encountered in float_scalars\n"
     ]
    },
    {
     "name": "stdout",
     "output_type": "stream",
     "text": [
      "40000 01:44:11.876642\n",
      "50000 01:44:20.640664\n",
      "60000 01:44:29.366320\n",
      "70000 01:44:38.108608\n",
      "80000 01:44:46.884318\n",
      "90000 01:44:55.608977\n"
     ]
    },
    {
     "name": "stderr",
     "output_type": "stream",
     "text": [
      "/fs/cbcb-scratch/gowthami/anaconda3/envs/py36/lib/python3.6/site-packages/ipykernel_launcher.py:48: RuntimeWarning: invalid value encountered in float_scalars\n"
     ]
    },
    {
     "name": "stdout",
     "output_type": "stream",
     "text": [
      "100000 01:45:04.364465\n",
      "110000 01:45:13.129857\n",
      "120000 01:45:21.850224\n",
      "130000 01:45:30.586274\n",
      "140000 01:45:39.362195\n",
      "150000 01:45:48.070731\n",
      "160000 01:45:56.813283\n",
      "170000 01:46:05.554836\n",
      "180000 01:46:14.260951\n",
      "190000 01:46:23.010833\n",
      "200000 01:46:31.773315\n",
      "210000 01:46:40.498819\n",
      "220000 01:46:49.261031\n",
      "230000 01:46:58.016888\n",
      "240000 01:47:06.747632\n",
      "250000 01:47:15.487279\n",
      "260000 01:47:24.248605\n",
      "270000 01:47:32.960378\n",
      "280000 01:47:41.717547\n",
      "290000 01:47:50.456380\n",
      "300000 01:47:59.165451\n",
      "310000 01:48:07.893160\n",
      "320000 01:48:16.665973\n",
      "330000 01:48:25.377094\n",
      "340000 01:48:34.139458\n",
      "350000 01:48:42.906983\n",
      "360000 01:48:51.620334\n",
      "370000 01:49:00.366092\n",
      "380000 01:49:09.131233\n",
      "390000 01:49:17.809682\n",
      "400000 01:49:26.555255\n",
      "410000 01:49:35.297539\n",
      "420000 01:49:43.999914\n",
      "430000 01:49:52.748098\n",
      "440000 01:50:01.486421\n",
      "450000 01:50:10.189155\n",
      "460000 01:50:18.918267\n",
      "470000 01:50:27.665551\n",
      "480000 01:50:36.368601\n",
      "490000 01:50:45.074910\n"
     ]
    }
   ],
   "source": [
    "gt_exp_param_df = gene_tissue_level_attributes(g_t_exp_dict,\n",
    "                                                        gene_mean_dict,gene_median_dict,gene_std_dict)\n",
    "pickle.dump( gt_exp_param_df, \n",
    "            open( \"/fs/cbcb-scratch/gowthami/GTF/GTF_Project_v3/data_generated/gt_exp_param_df.p\", \"wb\" ) )"
   ]
  },
  {
   "cell_type": "code",
   "execution_count": 10,
   "metadata": {},
   "outputs": [
    {
     "name": "stdout",
     "output_type": "stream",
     "text": [
      "(498600, 9)\n"
     ]
    },
    {
     "data": {
      "text/html": [
       "<div>\n",
       "<style scoped>\n",
       "    .dataframe tbody tr th:only-of-type {\n",
       "        vertical-align: middle;\n",
       "    }\n",
       "\n",
       "    .dataframe tbody tr th {\n",
       "        vertical-align: top;\n",
       "    }\n",
       "\n",
       "    .dataframe thead th {\n",
       "        text-align: right;\n",
       "    }\n",
       "</style>\n",
       "<table border=\"1\" class=\"dataframe\">\n",
       "  <thead>\n",
       "    <tr style=\"text-align: right;\">\n",
       "      <th></th>\n",
       "      <th>Gene</th>\n",
       "      <th>Tissue</th>\n",
       "      <th>MeanExp</th>\n",
       "      <th>SDofExp</th>\n",
       "      <th>ZScore</th>\n",
       "      <th>MedianExp</th>\n",
       "      <th>Breadth</th>\n",
       "      <th>CoeffOfVar</th>\n",
       "      <th>MedAbsDev</th>\n",
       "    </tr>\n",
       "  </thead>\n",
       "  <tbody>\n",
       "    <tr>\n",
       "      <td>0</td>\n",
       "      <td>ENSG00000187634</td>\n",
       "      <td>Stomach</td>\n",
       "      <td>4.720096</td>\n",
       "      <td>4.267317</td>\n",
       "      <td>-0.036851</td>\n",
       "      <td>3.423000</td>\n",
       "      <td>0.763231</td>\n",
       "      <td>0.904074</td>\n",
       "      <td>2.489289</td>\n",
       "    </tr>\n",
       "    <tr>\n",
       "      <td>1</td>\n",
       "      <td>ENSG00000188976</td>\n",
       "      <td>Stomach</td>\n",
       "      <td>44.847466</td>\n",
       "      <td>15.854806</td>\n",
       "      <td>-0.412520</td>\n",
       "      <td>42.380001</td>\n",
       "      <td>0.220056</td>\n",
       "      <td>0.353527</td>\n",
       "      <td>14.366420</td>\n",
       "    </tr>\n",
       "    <tr>\n",
       "      <td>2</td>\n",
       "      <td>ENSG00000187961</td>\n",
       "      <td>Stomach</td>\n",
       "      <td>11.037735</td>\n",
       "      <td>4.394696</td>\n",
       "      <td>-0.145059</td>\n",
       "      <td>10.360000</td>\n",
       "      <td>0.445682</td>\n",
       "      <td>0.398152</td>\n",
       "      <td>3.558246</td>\n",
       "    </tr>\n",
       "    <tr>\n",
       "      <td>3</td>\n",
       "      <td>ENSG00000187583</td>\n",
       "      <td>Stomach</td>\n",
       "      <td>1.643722</td>\n",
       "      <td>1.750657</td>\n",
       "      <td>-0.314139</td>\n",
       "      <td>1.138000</td>\n",
       "      <td>0.682451</td>\n",
       "      <td>1.065057</td>\n",
       "      <td>1.040194</td>\n",
       "    </tr>\n",
       "    <tr>\n",
       "      <td>4</td>\n",
       "      <td>ENSG00000187642</td>\n",
       "      <td>Stomach</td>\n",
       "      <td>0.612194</td>\n",
       "      <td>0.432204</td>\n",
       "      <td>-0.298348</td>\n",
       "      <td>0.489900</td>\n",
       "      <td>0.454039</td>\n",
       "      <td>0.705991</td>\n",
       "      <td>0.274874</td>\n",
       "    </tr>\n",
       "  </tbody>\n",
       "</table>\n",
       "</div>"
      ],
      "text/plain": [
       "              Gene   Tissue    MeanExp    SDofExp    ZScore  MedianExp  \\\n",
       "0  ENSG00000187634  Stomach   4.720096   4.267317 -0.036851   3.423000   \n",
       "1  ENSG00000188976  Stomach  44.847466  15.854806 -0.412520  42.380001   \n",
       "2  ENSG00000187961  Stomach  11.037735   4.394696 -0.145059  10.360000   \n",
       "3  ENSG00000187583  Stomach   1.643722   1.750657 -0.314139   1.138000   \n",
       "4  ENSG00000187642  Stomach   0.612194   0.432204 -0.298348   0.489900   \n",
       "\n",
       "    Breadth  CoeffOfVar  MedAbsDev  \n",
       "0  0.763231    0.904074   2.489289  \n",
       "1  0.220056    0.353527  14.366420  \n",
       "2  0.445682    0.398152   3.558246  \n",
       "3  0.682451    1.065057   1.040194  \n",
       "4  0.454039    0.705991   0.274874  "
      ]
     },
     "execution_count": 10,
     "metadata": {},
     "output_type": "execute_result"
    }
   ],
   "source": [
    "print(gt_exp_param_df.shape)\n",
    "gt_exp_param_df.head()"
   ]
  },
  {
   "cell_type": "code",
   "execution_count": 11,
   "metadata": {},
   "outputs": [
    {
     "data": {
      "text/plain": [
       "Gene          False\n",
       "Tissue        False\n",
       "MeanExp       False\n",
       "SDofExp       False\n",
       "ZScore         True\n",
       "MedianExp     False\n",
       "Breadth       False\n",
       "CoeffOfVar     True\n",
       "MedAbsDev     False\n",
       "dtype: bool"
      ]
     },
     "execution_count": 11,
     "metadata": {},
     "output_type": "execute_result"
    }
   ],
   "source": [
    "gt_exp_param_df.isna().any()"
   ]
  },
  {
   "cell_type": "code",
   "execution_count": 12,
   "metadata": {
    "collapsed": true,
    "jupyter": {
     "outputs_hidden": true
    }
   },
   "outputs": [
    {
     "data": {
      "text/html": [
       "<div>\n",
       "<style scoped>\n",
       "    .dataframe tbody tr th:only-of-type {\n",
       "        vertical-align: middle;\n",
       "    }\n",
       "\n",
       "    .dataframe tbody tr th {\n",
       "        vertical-align: top;\n",
       "    }\n",
       "\n",
       "    .dataframe thead th {\n",
       "        text-align: right;\n",
       "    }\n",
       "</style>\n",
       "<table border=\"1\" class=\"dataframe\">\n",
       "  <thead>\n",
       "    <tr style=\"text-align: right;\">\n",
       "      <th></th>\n",
       "      <th>Gene</th>\n",
       "      <th>Tissue</th>\n",
       "      <th>MeanExp</th>\n",
       "      <th>SDofExp</th>\n",
       "      <th>ZScore</th>\n",
       "      <th>MedianExp</th>\n",
       "      <th>Breadth</th>\n",
       "      <th>CoeffOfVar</th>\n",
       "      <th>MedAbsDev</th>\n",
       "    </tr>\n",
       "  </thead>\n",
       "  <tbody>\n",
       "    <tr>\n",
       "      <td>32133</td>\n",
       "      <td>ENSG00000185962</td>\n",
       "      <td>Fallopian Tube</td>\n",
       "      <td>0.0</td>\n",
       "      <td>0.0</td>\n",
       "      <td>-0.072563</td>\n",
       "      <td>0.0</td>\n",
       "      <td>1.0</td>\n",
       "      <td>NaN</td>\n",
       "      <td>0.0</td>\n",
       "    </tr>\n",
       "    <tr>\n",
       "      <td>32136</td>\n",
       "      <td>ENSG00000187170</td>\n",
       "      <td>Fallopian Tube</td>\n",
       "      <td>0.0</td>\n",
       "      <td>0.0</td>\n",
       "      <td>-0.218608</td>\n",
       "      <td>0.0</td>\n",
       "      <td>1.0</td>\n",
       "      <td>NaN</td>\n",
       "      <td>0.0</td>\n",
       "    </tr>\n",
       "    <tr>\n",
       "      <td>35189</td>\n",
       "      <td>ENSG00000196184</td>\n",
       "      <td>Fallopian Tube</td>\n",
       "      <td>0.0</td>\n",
       "      <td>0.0</td>\n",
       "      <td>-0.126608</td>\n",
       "      <td>0.0</td>\n",
       "      <td>1.0</td>\n",
       "      <td>NaN</td>\n",
       "      <td>0.0</td>\n",
       "    </tr>\n",
       "    <tr>\n",
       "      <td>38165</td>\n",
       "      <td>ENSG00000162763</td>\n",
       "      <td>Fallopian Tube</td>\n",
       "      <td>0.0</td>\n",
       "      <td>0.0</td>\n",
       "      <td>-0.142651</td>\n",
       "      <td>0.0</td>\n",
       "      <td>1.0</td>\n",
       "      <td>NaN</td>\n",
       "      <td>0.0</td>\n",
       "    </tr>\n",
       "    <tr>\n",
       "      <td>45334</td>\n",
       "      <td>ENSG00000284485</td>\n",
       "      <td>Testis</td>\n",
       "      <td>0.0</td>\n",
       "      <td>0.0</td>\n",
       "      <td>-0.150718</td>\n",
       "      <td>0.0</td>\n",
       "      <td>1.0</td>\n",
       "      <td>NaN</td>\n",
       "      <td>0.0</td>\n",
       "    </tr>\n",
       "    <tr>\n",
       "      <td>...</td>\n",
       "      <td>...</td>\n",
       "      <td>...</td>\n",
       "      <td>...</td>\n",
       "      <td>...</td>\n",
       "      <td>...</td>\n",
       "      <td>...</td>\n",
       "      <td>...</td>\n",
       "      <td>...</td>\n",
       "      <td>...</td>\n",
       "    </tr>\n",
       "    <tr>\n",
       "      <td>498574</td>\n",
       "      <td>ENSG00000182415</td>\n",
       "      <td>Kidney</td>\n",
       "      <td>0.0</td>\n",
       "      <td>0.0</td>\n",
       "      <td>-0.109439</td>\n",
       "      <td>0.0</td>\n",
       "      <td>1.0</td>\n",
       "      <td>NaN</td>\n",
       "      <td>0.0</td>\n",
       "    </tr>\n",
       "    <tr>\n",
       "      <td>498582</td>\n",
       "      <td>ENSG00000183753</td>\n",
       "      <td>Kidney</td>\n",
       "      <td>0.0</td>\n",
       "      <td>0.0</td>\n",
       "      <td>-0.036980</td>\n",
       "      <td>0.0</td>\n",
       "      <td>1.0</td>\n",
       "      <td>NaN</td>\n",
       "      <td>0.0</td>\n",
       "    </tr>\n",
       "    <tr>\n",
       "      <td>498583</td>\n",
       "      <td>ENSG00000188120</td>\n",
       "      <td>Kidney</td>\n",
       "      <td>0.0</td>\n",
       "      <td>0.0</td>\n",
       "      <td>-0.091776</td>\n",
       "      <td>0.0</td>\n",
       "      <td>1.0</td>\n",
       "      <td>NaN</td>\n",
       "      <td>0.0</td>\n",
       "    </tr>\n",
       "    <tr>\n",
       "      <td>498585</td>\n",
       "      <td>ENSG00000205916</td>\n",
       "      <td>Kidney</td>\n",
       "      <td>0.0</td>\n",
       "      <td>0.0</td>\n",
       "      <td>-0.093716</td>\n",
       "      <td>0.0</td>\n",
       "      <td>1.0</td>\n",
       "      <td>NaN</td>\n",
       "      <td>0.0</td>\n",
       "    </tr>\n",
       "    <tr>\n",
       "      <td>498586</td>\n",
       "      <td>ENSG00000172288</td>\n",
       "      <td>Kidney</td>\n",
       "      <td>0.0</td>\n",
       "      <td>0.0</td>\n",
       "      <td>-0.046329</td>\n",
       "      <td>0.0</td>\n",
       "      <td>1.0</td>\n",
       "      <td>NaN</td>\n",
       "      <td>0.0</td>\n",
       "    </tr>\n",
       "  </tbody>\n",
       "</table>\n",
       "<p>2097 rows × 9 columns</p>\n",
       "</div>"
      ],
      "text/plain": [
       "                   Gene          Tissue  MeanExp  SDofExp    ZScore  \\\n",
       "32133   ENSG00000185962  Fallopian Tube      0.0      0.0 -0.072563   \n",
       "32136   ENSG00000187170  Fallopian Tube      0.0      0.0 -0.218608   \n",
       "35189   ENSG00000196184  Fallopian Tube      0.0      0.0 -0.126608   \n",
       "38165   ENSG00000162763  Fallopian Tube      0.0      0.0 -0.142651   \n",
       "45334   ENSG00000284485          Testis      0.0      0.0 -0.150718   \n",
       "...                 ...             ...      ...      ...       ...   \n",
       "498574  ENSG00000182415          Kidney      0.0      0.0 -0.109439   \n",
       "498582  ENSG00000183753          Kidney      0.0      0.0 -0.036980   \n",
       "498583  ENSG00000188120          Kidney      0.0      0.0 -0.091776   \n",
       "498585  ENSG00000205916          Kidney      0.0      0.0 -0.093716   \n",
       "498586  ENSG00000172288          Kidney      0.0      0.0 -0.046329   \n",
       "\n",
       "        MedianExp  Breadth  CoeffOfVar  MedAbsDev  \n",
       "32133         0.0      1.0         NaN        0.0  \n",
       "32136         0.0      1.0         NaN        0.0  \n",
       "35189         0.0      1.0         NaN        0.0  \n",
       "38165         0.0      1.0         NaN        0.0  \n",
       "45334         0.0      1.0         NaN        0.0  \n",
       "...           ...      ...         ...        ...  \n",
       "498574        0.0      1.0         NaN        0.0  \n",
       "498582        0.0      1.0         NaN        0.0  \n",
       "498583        0.0      1.0         NaN        0.0  \n",
       "498585        0.0      1.0         NaN        0.0  \n",
       "498586        0.0      1.0         NaN        0.0  \n",
       "\n",
       "[2097 rows x 9 columns]"
      ]
     },
     "execution_count": 12,
     "metadata": {},
     "output_type": "execute_result"
    }
   ],
   "source": [
    "gt_exp_param_df[gt_exp_param_df.isna().any(axis=1)]"
   ]
  },
  {
   "cell_type": "code",
   "execution_count": 13,
   "metadata": {
    "collapsed": true,
    "jupyter": {
     "outputs_hidden": true
    }
   },
   "outputs": [
    {
     "data": {
      "text/plain": [
       "<matplotlib.axes._subplots.AxesSubplot at 0x7f2d73fd8588>"
      ]
     },
     "execution_count": 13,
     "metadata": {},
     "output_type": "execute_result"
    },
    {
     "data": {
      "image/png": "[encoded data removed]",
      "text/plain": [
       "<Figure size 432x288 with 1 Axes>"
      ]
     },
     "metadata": {
      "needs_background": "light"
     },
     "output_type": "display_data"
    }
   ],
   "source": [
    "gt_exp_param_df[gt_exp_param_df['Gene'] == 'ENSG00000188976']['Breadth'].hist()"
   ]
  },
  {
   "cell_type": "code",
   "execution_count": 17,
   "metadata": {
    "collapsed": true,
    "jupyter": {
     "outputs_hidden": true
    }
   },
   "outputs": [
    {
     "data": {
      "text/plain": [
       "<matplotlib.axes._subplots.AxesSubplot at 0x7f2d7b376588>"
      ]
     },
     "execution_count": 17,
     "metadata": {},
     "output_type": "execute_result"
    },
    {
     "data": {
      "image/png": "[encoded data removed]",
      "text/plain": [
       "<Figure size 432x288 with 1 Axes>"
      ]
     },
     "metadata": {
      "needs_background": "light"
     },
     "output_type": "display_data"
    }
   ],
   "source": [
    "gt_exp_param_df[gt_exp_param_df['Tissue'] == 'Skin']['Breadth'].hist()"
   ]
  },
  {
   "cell_type": "code",
   "execution_count": 15,
   "metadata": {
    "collapsed": true,
    "jupyter": {
     "outputs_hidden": true
    }
   },
   "outputs": [
    {
     "data": {
      "text/plain": [
       "<matplotlib.axes._subplots.AxesSubplot at 0x7f2d7b376470>"
      ]
     },
     "execution_count": 15,
     "metadata": {},
     "output_type": "execute_result"
    },
    {
     "data": {
      "image/png": "[encoded data removed]",
      "text/plain": [
       "<Figure size 432x288 with 1 Axes>"
      ]
     },
     "metadata": {
      "needs_background": "light"
     },
     "output_type": "display_data"
    }
   ],
   "source": [
    "gt_exp_param_df[gt_exp_param_df['Tissue'] == 'Brain']['ZScore'].hist()"
   ]
  },
  {
   "cell_type": "markdown",
   "metadata": {},
   "source": [
    "# Creating a lookup dict"
   ]
  },
  {
   "cell_type": "code",
   "execution_count": 6,
   "metadata": {
    "scrolled": true
   },
   "outputs": [
    {
     "name": "stdout",
     "output_type": "stream",
     "text": [
      "0 13:17:14.191280\n",
      "10 13:18:40.512294\n",
      "20 13:20:06.736758\n",
      "30 13:21:33.020446\n",
      "40 13:22:59.180221\n",
      "50 13:24:27.213690\n",
      "60 13:25:53.390433\n",
      "70 13:27:19.624906\n",
      "80 13:28:45.755513\n",
      "90 13:30:11.957442\n",
      "100 13:31:38.199514\n",
      "110 13:33:04.627329\n",
      "120 13:34:32.145681\n",
      "130 13:35:58.269262\n",
      "140 13:37:24.073363\n",
      "150 13:38:50.340326\n",
      "160 13:40:16.371827\n"
     ]
    }
   ],
   "source": [
    "gtex_shortlisted  = pd.read_csv(\n",
    "    '/fs/cbcb-scratch/gowthami/GTF/GTF_Project_v3/data_generated/gtex_shortlisted.tsv',\n",
    "    sep='\\t',chunksize=100)\n",
    "ensembl_list = []\n",
    "genename_list = []\n",
    "count = 0\n",
    "print(count, datetime.datetime.now().time())\n",
    "for chunk in gtex_shortlisted:\n",
    "    count+=1\n",
    "    el = chunk['Name'].tolist()\n",
    "    el = [i.split('.')[0] for i in el] \n",
    "    gnl = chunk['Description'].tolist()\n",
    "    ensembl_list = ensembl_list+ el\n",
    "    genename_list = genename_list + gnl\n",
    "    if count%10 ==0:\n",
    "        print(count, datetime.datetime.now().time())\n",
    "        \n",
    "\n",
    "ens2gname_lookup = dict(zip(ensembl_list,genename_list))\n",
    "gname2ens_lookup = dict(zip(genename_list,ensembl_list))\n",
    "\n",
    "pickle.dump( ens2gname_lookup, \n",
    "            open( \"/fs/cbcb-scratch/gowthami/GTF/GTF_Project_v3/data_generated/ens2gname_lookup.p\", \"wb\" ) )\n",
    "pickle.dump( gname2ens_lookup, \n",
    "            open( \"/fs/cbcb-scratch/gowthami/GTF/GTF_Project_v3/data_generated/gname2ens_lookup.p\", \"wb\" ) )\n"
   ]
  },
  {
   "cell_type": "code",
   "execution_count": null,
   "metadata": {},
   "outputs": [],
   "source": []
  }
 ],
 "metadata": {
  "kernelspec": {
   "display_name": "Python 3",
   "language": "python",
   "name": "python3"
  },
  "language_info": {
   "codemirror_mode": {
    "name": "ipython",
    "version": 3
   },
   "file_extension": ".py",
   "mimetype": "text/x-python",
   "name": "python",
   "nbconvert_exporter": "python",
   "pygments_lexer": "ipython3",
   "version": "3.7.6"
  }
 },
 "nbformat": 4,
 "nbformat_minor": 4
}
