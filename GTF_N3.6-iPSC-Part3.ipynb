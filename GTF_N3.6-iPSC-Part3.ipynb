{
 "cells": [
  {
   "cell_type": "markdown",
   "metadata": {},
   "source": [
    " - https://www.g3journal.org/content/7/8/2719 - to get list of essential cells in stem cells - Table S2\n",
    " - crispr based list - https://www.nature.com/articles/s41556-018-0088-1#Sec33\n",
    " - another list? not really sure - check it out - https://www.sciencedirect.com/science/article/pii/S2211124719302128?via%3Dihub#app2"
   ]
  },
  {
   "cell_type": "code",
   "execution_count": 1,
   "metadata": {},
   "outputs": [],
   "source": [
    "import pandas as pd\n",
    "import csv\n",
    "import numpy as np\n",
    "import scipy\n",
    "import pickle\n",
    "import seaborn as sns\n",
    "import matplotlib.pyplot as plt\n",
    "plt.rcParams[\"figure.figsize\"]=40,20\n",
    "import matplotlib.mlab as mlab\n",
    "from IPython.display import display\n",
    "pd.options.display.max_columns = None\n",
    "from numpy import random\n",
    "from statsmodels import robust\n",
    "from scipy.stats import spearmanr\n",
    "from scipy.stats import pearsonr\n",
    "import itertools\n",
    "import networkx as nx\n",
    "import datetime\n",
    "\n",
    "from numpy import loadtxt\n",
    "from xgboost import XGBClassifier\n",
    "from sklearn.model_selection import train_test_split\n",
    "from sklearn.metrics import accuracy_score\n",
    "\n",
    "from sklearn import preprocessing\n",
    "from sklearn.model_selection import train_test_split\n",
    "from sklearn.svm import SVC\n",
    "from sklearn.metrics import classification_report, confusion_matrix\n",
    "from sklearn.metrics import precision_recall_curve\n",
    "from sklearn.metrics import roc_auc_score\n",
    "from sklearn.model_selection import train_test_split\n",
    "from sklearn.metrics import average_precision_score\n",
    "from sklearn.model_selection import GridSearchCV\n",
    "from sklearn import datasets\n",
    "from sklearn.metrics import roc_curve, auc\n",
    "from sklearn.multiclass import OneVsRestClassifier\n",
    "from scipy import interp\n",
    "from sklearn import metrics\n",
    "\n",
    "from sklearn.preprocessing import StandardScaler\n",
    "from sklearn.decomposition import PCA\n",
    "\n",
    "import requests\n",
    "import itertools\n",
    "import networkx as nx\n",
    "import datetime\n",
    "import io\n",
    "import random\n",
    "import warnings\n",
    "import json\n",
    "import requests\n",
    "import time\n",
    "\n",
    "sns.set_palette(\"husl\")\n"
   ]
  },
  {
   "cell_type": "code",
   "execution_count": 2,
   "metadata": {},
   "outputs": [],
   "source": [
    "graph_params = pickle.load( open( \"./iPSC/all_tissue_gene_graph_params_df_ipsc.p\", \"rb\" ) )\n",
    "gtex_params = pickle.load(open('./iPSC/gene_tissue_parameter_df_w_ipsc.p','rb'))"
   ]
  },
  {
   "cell_type": "code",
   "execution_count": 3,
   "metadata": {},
   "outputs": [
    {
     "name": "stdout",
     "output_type": "stream",
     "text": [
      "(6330, 9)\n"
     ]
    },
    {
     "data": {
      "text/html": [
       "<div>\n",
       "<style scoped>\n",
       "    .dataframe tbody tr th:only-of-type {\n",
       "        vertical-align: middle;\n",
       "    }\n",
       "\n",
       "    .dataframe tbody tr th {\n",
       "        vertical-align: top;\n",
       "    }\n",
       "\n",
       "    .dataframe thead th {\n",
       "        text-align: right;\n",
       "    }\n",
       "</style>\n",
       "<table border=\"1\" class=\"dataframe\">\n",
       "  <thead>\n",
       "    <tr style=\"text-align: right;\">\n",
       "      <th></th>\n",
       "      <th>Gene</th>\n",
       "      <th>Tissue</th>\n",
       "      <th>MeanExp</th>\n",
       "      <th>SDofExp</th>\n",
       "      <th>ZScore</th>\n",
       "      <th>MedianExp</th>\n",
       "      <th>Breadth</th>\n",
       "      <th>CV</th>\n",
       "      <th>MAD</th>\n",
       "    </tr>\n",
       "  </thead>\n",
       "  <tbody>\n",
       "    <tr>\n",
       "      <th>30</th>\n",
       "      <td>A1BG</td>\n",
       "      <td>iPSC</td>\n",
       "      <td>0.276511</td>\n",
       "      <td>0.166928</td>\n",
       "      <td>-0.168975</td>\n",
       "      <td>0.252296</td>\n",
       "      <td>0.000000</td>\n",
       "      <td>0.603693</td>\n",
       "      <td>0.157455</td>\n",
       "    </tr>\n",
       "    <tr>\n",
       "      <th>61</th>\n",
       "      <td>A1CF</td>\n",
       "      <td>iPSC</td>\n",
       "      <td>0.061459</td>\n",
       "      <td>0.123337</td>\n",
       "      <td>-0.165394</td>\n",
       "      <td>0.026737</td>\n",
       "      <td>0.589905</td>\n",
       "      <td>2.006809</td>\n",
       "      <td>0.032098</td>\n",
       "    </tr>\n",
       "  </tbody>\n",
       "</table>\n",
       "</div>"
      ],
      "text/plain": [
       "    Gene Tissue   MeanExp   SDofExp    ZScore  MedianExp   Breadth        CV  \\\n",
       "30  A1BG   iPSC  0.276511  0.166928 -0.168975   0.252296  0.000000  0.603693   \n",
       "61  A1CF   iPSC  0.061459  0.123337 -0.165394   0.026737  0.589905  2.006809   \n",
       "\n",
       "         MAD  \n",
       "30  0.157455  \n",
       "61  0.032098  "
      ]
     },
     "execution_count": 3,
     "metadata": {},
     "output_type": "execute_result"
    }
   ],
   "source": [
    "gtex_params = gtex_params[['Gene','Tissue','MeanExp','SDofExp','ZScore','MedianExp','Breadth','CoeffOfVar','MedAbsDev']]\n",
    "gtex_params = gtex_params.rename(columns={\"CoeffOfVar\": \"CV\",'MedAbsDev':'MAD'})\n",
    "gtex_params = gtex_params[gtex_params['Tissue']=='iPSC']\n",
    "print(gtex_params.shape)\n",
    "gtex_params.head(2)\n"
   ]
  },
  {
   "cell_type": "code",
   "execution_count": 4,
   "metadata": {},
   "outputs": [
    {
     "data": {
      "text/plain": [
       "Gene         False\n",
       "Tissue       False\n",
       "MeanExp      False\n",
       "SDofExp      False\n",
       "ZScore       False\n",
       "MedianExp    False\n",
       "Breadth      False\n",
       "CV            True\n",
       "MAD          False\n",
       "dtype: bool"
      ]
     },
     "execution_count": 4,
     "metadata": {},
     "output_type": "execute_result"
    }
   ],
   "source": [
    "gtex_params.isnull().any()\n"
   ]
  },
  {
   "cell_type": "code",
   "execution_count": 5,
   "metadata": {},
   "outputs": [
    {
     "data": {
      "text/html": [
       "<div>\n",
       "<style scoped>\n",
       "    .dataframe tbody tr th:only-of-type {\n",
       "        vertical-align: middle;\n",
       "    }\n",
       "\n",
       "    .dataframe tbody tr th {\n",
       "        vertical-align: top;\n",
       "    }\n",
       "\n",
       "    .dataframe thead th {\n",
       "        text-align: right;\n",
       "    }\n",
       "</style>\n",
       "<table border=\"1\" class=\"dataframe\">\n",
       "  <thead>\n",
       "    <tr style=\"text-align: right;\">\n",
       "      <th></th>\n",
       "      <th>Centrality_coeff</th>\n",
       "      <th>Clustering_coeff</th>\n",
       "      <th>Gene</th>\n",
       "      <th>IsKinase</th>\n",
       "      <th>IsTF</th>\n",
       "      <th>NeighborList</th>\n",
       "      <th>NumOfKinaseNbs</th>\n",
       "      <th>NumOfNeighbors</th>\n",
       "      <th>NumOfTFNeighbors</th>\n",
       "      <th>Sq_Clustering_coeff</th>\n",
       "      <th>Tissue</th>\n",
       "    </tr>\n",
       "  </thead>\n",
       "  <tbody>\n",
       "    <tr>\n",
       "      <th>0</th>\n",
       "      <td>0.000147</td>\n",
       "      <td>0.125000</td>\n",
       "      <td>GRB7</td>\n",
       "      <td>0</td>\n",
       "      <td>0</td>\n",
       "      <td>[ERBB2, KIT, ERBB3, GRB2, RND1, SHC1, RET, EPH...</td>\n",
       "      <td>3</td>\n",
       "      <td>19</td>\n",
       "      <td>1</td>\n",
       "      <td>0.002603</td>\n",
       "      <td>iPSC</td>\n",
       "    </tr>\n",
       "    <tr>\n",
       "      <th>1</th>\n",
       "      <td>0.005954</td>\n",
       "      <td>0.077434</td>\n",
       "      <td>ERBB2</td>\n",
       "      <td>0</td>\n",
       "      <td>0</td>\n",
       "      <td>[GRB7, PAK1, DLG4, MUC4, PICK1, GRB2, TGFA, ER...</td>\n",
       "      <td>16</td>\n",
       "      <td>115</td>\n",
       "      <td>7</td>\n",
       "      <td>0.001435</td>\n",
       "      <td>iPSC</td>\n",
       "    </tr>\n",
       "    <tr>\n",
       "      <th>2</th>\n",
       "      <td>0.001194</td>\n",
       "      <td>0.071373</td>\n",
       "      <td>PAK1</td>\n",
       "      <td>1</td>\n",
       "      <td>0</td>\n",
       "      <td>[ERBB2, PLCG1, LIMK1, RAC1, PAK1, HGS, NCK2, F...</td>\n",
       "      <td>9</td>\n",
       "      <td>53</td>\n",
       "      <td>8</td>\n",
       "      <td>0.001082</td>\n",
       "      <td>iPSC</td>\n",
       "    </tr>\n",
       "    <tr>\n",
       "      <th>3</th>\n",
       "      <td>0.002871</td>\n",
       "      <td>0.076655</td>\n",
       "      <td>DLG4</td>\n",
       "      <td>0</td>\n",
       "      <td>0</td>\n",
       "      <td>[ERBB2, LYN, PTPRG, DLG3, NLGN3, LRP2, GRIK5, ...</td>\n",
       "      <td>3</td>\n",
       "      <td>44</td>\n",
       "      <td>2</td>\n",
       "      <td>0.001025</td>\n",
       "      <td>iPSC</td>\n",
       "    </tr>\n",
       "  </tbody>\n",
       "</table>\n",
       "</div>"
      ],
      "text/plain": [
       "   Centrality_coeff  Clustering_coeff   Gene IsKinase IsTF  \\\n",
       "0          0.000147          0.125000   GRB7        0    0   \n",
       "1          0.005954          0.077434  ERBB2        0    0   \n",
       "2          0.001194          0.071373   PAK1        1    0   \n",
       "3          0.002871          0.076655   DLG4        0    0   \n",
       "\n",
       "                                        NeighborList NumOfKinaseNbs  \\\n",
       "0  [ERBB2, KIT, ERBB3, GRB2, RND1, SHC1, RET, EPH...              3   \n",
       "1  [GRB7, PAK1, DLG4, MUC4, PICK1, GRB2, TGFA, ER...             16   \n",
       "2  [ERBB2, PLCG1, LIMK1, RAC1, PAK1, HGS, NCK2, F...              9   \n",
       "3  [ERBB2, LYN, PTPRG, DLG3, NLGN3, LRP2, GRIK5, ...              3   \n",
       "\n",
       "  NumOfNeighbors NumOfTFNeighbors  Sq_Clustering_coeff Tissue  \n",
       "0             19                1             0.002603   iPSC  \n",
       "1            115                7             0.001435   iPSC  \n",
       "2             53                8             0.001082   iPSC  \n",
       "3             44                2             0.001025   iPSC  "
      ]
     },
     "execution_count": 5,
     "metadata": {},
     "output_type": "execute_result"
    }
   ],
   "source": [
    "graph_params.isnull().any()\n",
    "graph_params.head(4)"
   ]
  },
  {
   "cell_type": "code",
   "execution_count": 6,
   "metadata": {},
   "outputs": [
    {
     "name": "stdout",
     "output_type": "stream",
     "text": [
      "(3834, 18)\n"
     ]
    },
    {
     "data": {
      "text/html": [
       "<div>\n",
       "<style scoped>\n",
       "    .dataframe tbody tr th:only-of-type {\n",
       "        vertical-align: middle;\n",
       "    }\n",
       "\n",
       "    .dataframe tbody tr th {\n",
       "        vertical-align: top;\n",
       "    }\n",
       "\n",
       "    .dataframe thead th {\n",
       "        text-align: right;\n",
       "    }\n",
       "</style>\n",
       "<table border=\"1\" class=\"dataframe\">\n",
       "  <thead>\n",
       "    <tr style=\"text-align: right;\">\n",
       "      <th></th>\n",
       "      <th>Gene</th>\n",
       "      <th>Tissue</th>\n",
       "      <th>MeanExp</th>\n",
       "      <th>SDofExp</th>\n",
       "      <th>ZScore</th>\n",
       "      <th>MedianExp</th>\n",
       "      <th>Breadth</th>\n",
       "      <th>CV</th>\n",
       "      <th>MAD</th>\n",
       "      <th>Centrality_coeff</th>\n",
       "      <th>Clustering_coeff</th>\n",
       "      <th>IsKinase</th>\n",
       "      <th>IsTF</th>\n",
       "      <th>NeighborList</th>\n",
       "      <th>NumOfKinaseNbs</th>\n",
       "      <th>NumOfNeighbors</th>\n",
       "      <th>NumOfTFNeighbors</th>\n",
       "      <th>Sq_Clustering_coeff</th>\n",
       "    </tr>\n",
       "  </thead>\n",
       "  <tbody>\n",
       "    <tr>\n",
       "      <th>0</th>\n",
       "      <td>A1CF</td>\n",
       "      <td>iPSC</td>\n",
       "      <td>0.061459</td>\n",
       "      <td>0.123337</td>\n",
       "      <td>-0.165394</td>\n",
       "      <td>0.026737</td>\n",
       "      <td>0.589905</td>\n",
       "      <td>2.006809</td>\n",
       "      <td>0.032098</td>\n",
       "      <td>0.000006</td>\n",
       "      <td>0.000000</td>\n",
       "      <td>0</td>\n",
       "      <td>0</td>\n",
       "      <td>[TNPO2, FHL3, PSMG3]</td>\n",
       "      <td>0</td>\n",
       "      <td>3</td>\n",
       "      <td>0</td>\n",
       "      <td>0.000000</td>\n",
       "    </tr>\n",
       "    <tr>\n",
       "      <th>1</th>\n",
       "      <td>AAAS</td>\n",
       "      <td>iPSC</td>\n",
       "      <td>113.082342</td>\n",
       "      <td>18.743962</td>\n",
       "      <td>2.408154</td>\n",
       "      <td>113.622117</td>\n",
       "      <td>1.000000</td>\n",
       "      <td>0.165755</td>\n",
       "      <td>20.398794</td>\n",
       "      <td>0.000032</td>\n",
       "      <td>0.244444</td>\n",
       "      <td>0</td>\n",
       "      <td>0</td>\n",
       "      <td>[ISG15, NUDC, SUMO1, OBSL1, LYPD3, CUL7, XPO1,...</td>\n",
       "      <td>0</td>\n",
       "      <td>10</td>\n",
       "      <td>1</td>\n",
       "      <td>0.001206</td>\n",
       "    </tr>\n",
       "    <tr>\n",
       "      <th>2</th>\n",
       "      <td>AAGAB</td>\n",
       "      <td>iPSC</td>\n",
       "      <td>61.411809</td>\n",
       "      <td>10.297010</td>\n",
       "      <td>3.750179</td>\n",
       "      <td>59.889600</td>\n",
       "      <td>1.000000</td>\n",
       "      <td>0.167671</td>\n",
       "      <td>10.301162</td>\n",
       "      <td>0.000024</td>\n",
       "      <td>0.333333</td>\n",
       "      <td>0</td>\n",
       "      <td>0</td>\n",
       "      <td>[AP2A1, AP2A2, AP1G1, AP2S1, STX4, AP1S2, XPO1...</td>\n",
       "      <td>0</td>\n",
       "      <td>9</td>\n",
       "      <td>0</td>\n",
       "      <td>0.003260</td>\n",
       "    </tr>\n",
       "    <tr>\n",
       "      <th>3</th>\n",
       "      <td>AAMP</td>\n",
       "      <td>iPSC</td>\n",
       "      <td>170.700936</td>\n",
       "      <td>27.378651</td>\n",
       "      <td>1.685050</td>\n",
       "      <td>171.571187</td>\n",
       "      <td>0.996845</td>\n",
       "      <td>0.160390</td>\n",
       "      <td>29.875843</td>\n",
       "      <td>0.000089</td>\n",
       "      <td>0.088889</td>\n",
       "      <td>0</td>\n",
       "      <td>0</td>\n",
       "      <td>[PLIN3, HSF1, AEN, VPS52, PTPRU, WNK1, XPO1, A...</td>\n",
       "      <td>1</td>\n",
       "      <td>10</td>\n",
       "      <td>2</td>\n",
       "      <td>0.000756</td>\n",
       "    </tr>\n",
       "  </tbody>\n",
       "</table>\n",
       "</div>"
      ],
      "text/plain": [
       "    Gene Tissue     MeanExp    SDofExp    ZScore   MedianExp   Breadth  \\\n",
       "0   A1CF   iPSC    0.061459   0.123337 -0.165394    0.026737  0.589905   \n",
       "1   AAAS   iPSC  113.082342  18.743962  2.408154  113.622117  1.000000   \n",
       "2  AAGAB   iPSC   61.411809  10.297010  3.750179   59.889600  1.000000   \n",
       "3   AAMP   iPSC  170.700936  27.378651  1.685050  171.571187  0.996845   \n",
       "\n",
       "         CV        MAD  Centrality_coeff  Clustering_coeff IsKinase IsTF  \\\n",
       "0  2.006809   0.032098          0.000006          0.000000        0    0   \n",
       "1  0.165755  20.398794          0.000032          0.244444        0    0   \n",
       "2  0.167671  10.301162          0.000024          0.333333        0    0   \n",
       "3  0.160390  29.875843          0.000089          0.088889        0    0   \n",
       "\n",
       "                                        NeighborList NumOfKinaseNbs  \\\n",
       "0                               [TNPO2, FHL3, PSMG3]              0   \n",
       "1  [ISG15, NUDC, SUMO1, OBSL1, LYPD3, CUL7, XPO1,...              0   \n",
       "2  [AP2A1, AP2A2, AP1G1, AP2S1, STX4, AP1S2, XPO1...              0   \n",
       "3  [PLIN3, HSF1, AEN, VPS52, PTPRU, WNK1, XPO1, A...              1   \n",
       "\n",
       "  NumOfNeighbors NumOfTFNeighbors  Sq_Clustering_coeff  \n",
       "0              3                0             0.000000  \n",
       "1             10                1             0.001206  \n",
       "2              9                0             0.003260  \n",
       "3             10                2             0.000756  "
      ]
     },
     "execution_count": 6,
     "metadata": {},
     "output_type": "execute_result"
    }
   ],
   "source": [
    "gt_param_df_ipsc = pd.merge(gtex_params, graph_params,  how='inner', \n",
    "                       left_on=['Gene','Tissue'], right_on = ['Gene','Tissue'])\n",
    "\n",
    "\n",
    "print(gt_param_df_ipsc.shape)\n",
    "gt_param_df_ipsc.head(4)"
   ]
  },
  {
   "cell_type": "code",
   "execution_count": 7,
   "metadata": {},
   "outputs": [
    {
     "data": {
      "text/plain": [
       "Gene                   False\n",
       "Tissue                 False\n",
       "MeanExp                False\n",
       "SDofExp                False\n",
       "ZScore                 False\n",
       "MedianExp              False\n",
       "Breadth                False\n",
       "CV                     False\n",
       "MAD                    False\n",
       "Centrality_coeff       False\n",
       "Clustering_coeff       False\n",
       "IsKinase               False\n",
       "IsTF                   False\n",
       "NeighborList           False\n",
       "NumOfKinaseNbs         False\n",
       "NumOfNeighbors         False\n",
       "NumOfTFNeighbors       False\n",
       "Sq_Clustering_coeff    False\n",
       "dtype: bool"
      ]
     },
     "execution_count": 7,
     "metadata": {},
     "output_type": "execute_result"
    }
   ],
   "source": [
    "gt_param_df_ipsc.isnull().any()\n"
   ]
  },
  {
   "cell_type": "code",
   "execution_count": 8,
   "metadata": {},
   "outputs": [],
   "source": [
    "# gtex_params = gtex_params[np.isfinite(gtex_params['CV'])]\n",
    "# print(gtex_params.shape)\n"
   ]
  },
  {
   "cell_type": "code",
   "execution_count": 9,
   "metadata": {},
   "outputs": [],
   "source": [
    "tissue_list = gt_param_df_ipsc['Tissue'].drop_duplicates().tolist()\n",
    "gene_list = gt_param_df_ipsc['Gene'].drop_duplicates().tolist()\n",
    "breadth_dict = {}\n",
    "zscore_dict = {}\n",
    "for tissue in tissue_list:\n",
    "    breadth_dict[tissue] = {}\n",
    "    zscore_dict[tissue] = {}\n"
   ]
  },
  {
   "cell_type": "code",
   "execution_count": 10,
   "metadata": {},
   "outputs": [],
   "source": [
    "count = 0\n",
    "for index,row in gt_param_df_ipsc.iterrows():\n",
    "    count+=1\n",
    "    gene = row['Gene']\n",
    "    tissue = row['Tissue']\n",
    "    breadth_dict[tissue][gene] = row['Breadth']\n",
    "    zscore_dict[tissue][gene] = row['ZScore']\n",
    "    if count%10000 ==  0:\n",
    "        print(count)"
   ]
  },
  {
   "cell_type": "code",
   "execution_count": 11,
   "metadata": {},
   "outputs": [],
   "source": [
    "count = 0\n",
    "mean_breadth_list = []\n",
    "mean_zscore_list = []\n",
    "for index,row in gt_param_df_ipsc.iterrows():\n",
    "    count+=1\n",
    "    tissue = row['Tissue']\n",
    "    nl = row['NeighborList']\n",
    "#     print(tissue)\n",
    "    if nl == 0:\n",
    "        mean_breadth_list.append(0)\n",
    "        mean_zscore_list.append(0)\n",
    "    else:\n",
    "        nl = list(set(nl)&set(gene_list))\n",
    "        mean_breadth = np.mean([breadth_dict[tissue][x] for x in nl])\n",
    "        mean_zscore = np.mean([zscore_dict[tissue][x] for x in nl])\n",
    "        mean_breadth_list.append(mean_breadth)\n",
    "        mean_zscore_list.append(mean_zscore)\n",
    "    if count%10000 ==  0:\n",
    "        print(count)\n",
    "        \n",
    "gt_param_df_ipsc['NeighborMeanBreadth'] = mean_breadth_list\n",
    "gt_param_df_ipsc['NeighborMeanZscore'] = mean_zscore_list\n",
    "\n"
   ]
  },
  {
   "cell_type": "code",
   "execution_count": 12,
   "metadata": {},
   "outputs": [],
   "source": [
    "gt_param_df_ipsc = gt_param_df_ipsc.drop(columns=[ 'NeighborList'])"
   ]
  },
  {
   "cell_type": "code",
   "execution_count": 13,
   "metadata": {},
   "outputs": [
    {
     "data": {
      "text/html": [
       "<div>\n",
       "<style scoped>\n",
       "    .dataframe tbody tr th:only-of-type {\n",
       "        vertical-align: middle;\n",
       "    }\n",
       "\n",
       "    .dataframe tbody tr th {\n",
       "        vertical-align: top;\n",
       "    }\n",
       "\n",
       "    .dataframe thead th {\n",
       "        text-align: right;\n",
       "    }\n",
       "</style>\n",
       "<table border=\"1\" class=\"dataframe\">\n",
       "  <thead>\n",
       "    <tr style=\"text-align: right;\">\n",
       "      <th></th>\n",
       "      <th>Gene</th>\n",
       "      <th>Tissue</th>\n",
       "      <th>MeanExp</th>\n",
       "      <th>SDofExp</th>\n",
       "      <th>ZScore</th>\n",
       "      <th>MedianExp</th>\n",
       "      <th>Breadth</th>\n",
       "      <th>CV</th>\n",
       "      <th>MAD</th>\n",
       "      <th>Centrality_coeff</th>\n",
       "      <th>Clustering_coeff</th>\n",
       "      <th>IsKinase</th>\n",
       "      <th>IsTF</th>\n",
       "      <th>NumOfKinaseNbs</th>\n",
       "      <th>NumOfNeighbors</th>\n",
       "      <th>NumOfTFNeighbors</th>\n",
       "      <th>Sq_Clustering_coeff</th>\n",
       "      <th>NeighborMeanBreadth</th>\n",
       "      <th>NeighborMeanZscore</th>\n",
       "    </tr>\n",
       "  </thead>\n",
       "  <tbody>\n",
       "    <tr>\n",
       "      <th>0</th>\n",
       "      <td>A1CF</td>\n",
       "      <td>iPSC</td>\n",
       "      <td>0.061459</td>\n",
       "      <td>0.123337</td>\n",
       "      <td>-0.165394</td>\n",
       "      <td>0.026737</td>\n",
       "      <td>0.589905</td>\n",
       "      <td>2.006809</td>\n",
       "      <td>0.032098</td>\n",
       "      <td>0.000006</td>\n",
       "      <td>0.000000</td>\n",
       "      <td>0</td>\n",
       "      <td>0</td>\n",
       "      <td>0</td>\n",
       "      <td>3</td>\n",
       "      <td>0</td>\n",
       "      <td>0.000000</td>\n",
       "      <td>0.983176</td>\n",
       "      <td>1.335035</td>\n",
       "    </tr>\n",
       "    <tr>\n",
       "      <th>1</th>\n",
       "      <td>AAAS</td>\n",
       "      <td>iPSC</td>\n",
       "      <td>113.082342</td>\n",
       "      <td>18.743962</td>\n",
       "      <td>2.408154</td>\n",
       "      <td>113.622117</td>\n",
       "      <td>1.000000</td>\n",
       "      <td>0.165755</td>\n",
       "      <td>20.398794</td>\n",
       "      <td>0.000032</td>\n",
       "      <td>0.244444</td>\n",
       "      <td>0</td>\n",
       "      <td>0</td>\n",
       "      <td>0</td>\n",
       "      <td>10</td>\n",
       "      <td>1</td>\n",
       "      <td>0.001206</td>\n",
       "      <td>0.974763</td>\n",
       "      <td>2.541551</td>\n",
       "    </tr>\n",
       "  </tbody>\n",
       "</table>\n",
       "</div>"
      ],
      "text/plain": [
       "   Gene Tissue     MeanExp    SDofExp    ZScore   MedianExp   Breadth  \\\n",
       "0  A1CF   iPSC    0.061459   0.123337 -0.165394    0.026737  0.589905   \n",
       "1  AAAS   iPSC  113.082342  18.743962  2.408154  113.622117  1.000000   \n",
       "\n",
       "         CV        MAD  Centrality_coeff  Clustering_coeff IsKinase IsTF  \\\n",
       "0  2.006809   0.032098          0.000006          0.000000        0    0   \n",
       "1  0.165755  20.398794          0.000032          0.244444        0    0   \n",
       "\n",
       "  NumOfKinaseNbs NumOfNeighbors NumOfTFNeighbors  Sq_Clustering_coeff  \\\n",
       "0              0              3                0             0.000000   \n",
       "1              0             10                1             0.001206   \n",
       "\n",
       "   NeighborMeanBreadth  NeighborMeanZscore  \n",
       "0             0.983176            1.335035  \n",
       "1             0.974763            2.541551  "
      ]
     },
     "execution_count": 13,
     "metadata": {},
     "output_type": "execute_result"
    }
   ],
   "source": [
    "gt_param_df_ipsc.head(2)"
   ]
  },
  {
   "cell_type": "code",
   "execution_count": 14,
   "metadata": {},
   "outputs": [
    {
     "data": {
      "text/plain": [
       "4.5"
      ]
     },
     "execution_count": 14,
     "metadata": {},
     "output_type": "execute_result"
    }
   ],
   "source": [
    "np.max(gt_param_df_ipsc['Sq_Clustering_coeff'].tolist())"
   ]
  },
  {
   "cell_type": "code",
   "execution_count": 15,
   "metadata": {},
   "outputs": [
    {
     "name": "stdout",
     "output_type": "stream",
     "text": [
      "MeanExp\n",
      "2021-01-10 21:49:32.572354\n",
      "SDofExp\n",
      "2021-01-10 21:49:32.908727\n",
      "MedianExp\n",
      "2021-01-10 21:49:33.254898\n",
      "MAD\n",
      "2021-01-10 21:49:33.592934\n",
      "NumOfKinaseNbs\n",
      "2021-01-10 21:49:33.930763\n",
      "NumOfNeighbors\n",
      "2021-01-10 21:49:34.269201\n",
      "NumOfTFNeighbors\n",
      "2021-01-10 21:49:34.607433\n"
     ]
    }
   ],
   "source": [
    "features = ['MeanExp', 'SDofExp', 'MedianExp','MAD',\n",
    "            'NumOfKinaseNbs','NumOfNeighbors', 'NumOfTFNeighbors']\n",
    "\n",
    "for feature in features:\n",
    "    normalized_list = []\n",
    "    tissue_max_vals =  gt_param_df_ipsc.groupby('Tissue')[feature].max()\n",
    "    tissue_max_vals = tissue_max_vals.to_dict()\n",
    "    print(feature)\n",
    "    print(datetime.datetime.now())\n",
    "    count = 0\n",
    "    for index,row in gt_param_df_ipsc.iterrows():\n",
    "        count+=1\n",
    "        feature_val = row[feature]\n",
    "        tissue = row['Tissue']\n",
    "        feature_val = feature_val/tissue_max_vals[tissue]\n",
    "        normalized_list.append(feature_val)\n",
    "        if count % 10000 ==0:\n",
    "            print(count)\n",
    "            \n",
    "    gt_param_df_ipsc[feature] = normalized_list\n",
    "\n"
   ]
  },
  {
   "cell_type": "code",
   "execution_count": 16,
   "metadata": {},
   "outputs": [
    {
     "data": {
      "text/html": [
       "<div>\n",
       "<style scoped>\n",
       "    .dataframe tbody tr th:only-of-type {\n",
       "        vertical-align: middle;\n",
       "    }\n",
       "\n",
       "    .dataframe tbody tr th {\n",
       "        vertical-align: top;\n",
       "    }\n",
       "\n",
       "    .dataframe thead th {\n",
       "        text-align: right;\n",
       "    }\n",
       "</style>\n",
       "<table border=\"1\" class=\"dataframe\">\n",
       "  <thead>\n",
       "    <tr style=\"text-align: right;\">\n",
       "      <th></th>\n",
       "      <th>Gene</th>\n",
       "      <th>Tissue</th>\n",
       "      <th>MeanExp</th>\n",
       "      <th>SDofExp</th>\n",
       "      <th>ZScore</th>\n",
       "      <th>MedianExp</th>\n",
       "      <th>Breadth</th>\n",
       "      <th>CV</th>\n",
       "      <th>MAD</th>\n",
       "      <th>Centrality_coeff</th>\n",
       "      <th>Clustering_coeff</th>\n",
       "      <th>IsKinase</th>\n",
       "      <th>IsTF</th>\n",
       "      <th>NumOfKinaseNbs</th>\n",
       "      <th>NumOfNeighbors</th>\n",
       "      <th>NumOfTFNeighbors</th>\n",
       "      <th>Sq_Clustering_coeff</th>\n",
       "      <th>NeighborMeanBreadth</th>\n",
       "      <th>NeighborMeanZscore</th>\n",
       "    </tr>\n",
       "  </thead>\n",
       "  <tbody>\n",
       "    <tr>\n",
       "      <th>0</th>\n",
       "      <td>A1CF</td>\n",
       "      <td>iPSC</td>\n",
       "      <td>0.000011</td>\n",
       "      <td>0.000072</td>\n",
       "      <td>-0.165394</td>\n",
       "      <td>0.000005</td>\n",
       "      <td>0.589905</td>\n",
       "      <td>2.006809</td>\n",
       "      <td>0.000016</td>\n",
       "      <td>0.000006</td>\n",
       "      <td>0.000000</td>\n",
       "      <td>0</td>\n",
       "      <td>0</td>\n",
       "      <td>0.000000</td>\n",
       "      <td>0.004910</td>\n",
       "      <td>0.000000</td>\n",
       "      <td>0.000000</td>\n",
       "      <td>0.983176</td>\n",
       "      <td>1.335035</td>\n",
       "    </tr>\n",
       "    <tr>\n",
       "      <th>1</th>\n",
       "      <td>AAAS</td>\n",
       "      <td>iPSC</td>\n",
       "      <td>0.019668</td>\n",
       "      <td>0.010921</td>\n",
       "      <td>2.408154</td>\n",
       "      <td>0.019540</td>\n",
       "      <td>1.000000</td>\n",
       "      <td>0.165755</td>\n",
       "      <td>0.010087</td>\n",
       "      <td>0.000032</td>\n",
       "      <td>0.244444</td>\n",
       "      <td>0</td>\n",
       "      <td>0</td>\n",
       "      <td>0.000000</td>\n",
       "      <td>0.016367</td>\n",
       "      <td>0.009009</td>\n",
       "      <td>0.001206</td>\n",
       "      <td>0.974763</td>\n",
       "      <td>2.541551</td>\n",
       "    </tr>\n",
       "    <tr>\n",
       "      <th>2</th>\n",
       "      <td>AAGAB</td>\n",
       "      <td>iPSC</td>\n",
       "      <td>0.010681</td>\n",
       "      <td>0.005999</td>\n",
       "      <td>3.750179</td>\n",
       "      <td>0.010299</td>\n",
       "      <td>1.000000</td>\n",
       "      <td>0.167671</td>\n",
       "      <td>0.005094</td>\n",
       "      <td>0.000024</td>\n",
       "      <td>0.333333</td>\n",
       "      <td>0</td>\n",
       "      <td>0</td>\n",
       "      <td>0.000000</td>\n",
       "      <td>0.014730</td>\n",
       "      <td>0.000000</td>\n",
       "      <td>0.003260</td>\n",
       "      <td>0.944269</td>\n",
       "      <td>2.083606</td>\n",
       "    </tr>\n",
       "    <tr>\n",
       "      <th>3</th>\n",
       "      <td>AAMP</td>\n",
       "      <td>iPSC</td>\n",
       "      <td>0.029689</td>\n",
       "      <td>0.015952</td>\n",
       "      <td>1.685050</td>\n",
       "      <td>0.029505</td>\n",
       "      <td>0.996845</td>\n",
       "      <td>0.160390</td>\n",
       "      <td>0.014774</td>\n",
       "      <td>0.000089</td>\n",
       "      <td>0.088889</td>\n",
       "      <td>0</td>\n",
       "      <td>0</td>\n",
       "      <td>0.027778</td>\n",
       "      <td>0.016367</td>\n",
       "      <td>0.018018</td>\n",
       "      <td>0.000756</td>\n",
       "      <td>0.880126</td>\n",
       "      <td>1.415679</td>\n",
       "    </tr>\n",
       "  </tbody>\n",
       "</table>\n",
       "</div>"
      ],
      "text/plain": [
       "    Gene Tissue   MeanExp   SDofExp    ZScore  MedianExp   Breadth        CV  \\\n",
       "0   A1CF   iPSC  0.000011  0.000072 -0.165394   0.000005  0.589905  2.006809   \n",
       "1   AAAS   iPSC  0.019668  0.010921  2.408154   0.019540  1.000000  0.165755   \n",
       "2  AAGAB   iPSC  0.010681  0.005999  3.750179   0.010299  1.000000  0.167671   \n",
       "3   AAMP   iPSC  0.029689  0.015952  1.685050   0.029505  0.996845  0.160390   \n",
       "\n",
       "        MAD  Centrality_coeff  Clustering_coeff IsKinase IsTF  NumOfKinaseNbs  \\\n",
       "0  0.000016          0.000006          0.000000        0    0        0.000000   \n",
       "1  0.010087          0.000032          0.244444        0    0        0.000000   \n",
       "2  0.005094          0.000024          0.333333        0    0        0.000000   \n",
       "3  0.014774          0.000089          0.088889        0    0        0.027778   \n",
       "\n",
       "   NumOfNeighbors  NumOfTFNeighbors  Sq_Clustering_coeff  NeighborMeanBreadth  \\\n",
       "0        0.004910          0.000000             0.000000             0.983176   \n",
       "1        0.016367          0.009009             0.001206             0.974763   \n",
       "2        0.014730          0.000000             0.003260             0.944269   \n",
       "3        0.016367          0.018018             0.000756             0.880126   \n",
       "\n",
       "   NeighborMeanZscore  \n",
       "0            1.335035  \n",
       "1            2.541551  \n",
       "2            2.083606  \n",
       "3            1.415679  "
      ]
     },
     "execution_count": 16,
     "metadata": {},
     "output_type": "execute_result"
    }
   ],
   "source": [
    "gt_param_df_ipsc.head(4)"
   ]
  },
  {
   "cell_type": "code",
   "execution_count": 17,
   "metadata": {},
   "outputs": [],
   "source": [
    "# gt_param_df_ipsc.to_csv('./iPSC/gt_param_df_ipsc_50norm.csv',index = False)"
   ]
  },
  {
   "cell_type": "code",
   "execution_count": 18,
   "metadata": {},
   "outputs": [],
   "source": [
    "gt_param_df = pd.read_csv('./data_generated/gt_param_df_wlabel.csv')\n",
    "gt_param_df_ipsc = pd.read_csv('./iPSC/gt_param_df_ipsc_50norm.csv')\n",
    "\n",
    "gt_param_df = gt_param_df.drop(columns=['IsKinase', 'IsTF','NeighborList','Gene','NeighborMedianBreadth','NeighborMedianZscore'])\n",
    "gt_param_df = gt_param_df.rename(columns={\"Description\": \"Gene\"})\n",
    "gt_param_df_ipsc = gt_param_df_ipsc.drop(columns=['IsKinase', 'IsTF','Sq_Clustering_coeff'])\n",
    "\n",
    "gt_param_df = gt_param_df[list(gt_param_df_ipsc.columns) + ['Label']]"
   ]
  },
  {
   "cell_type": "code",
   "execution_count": 19,
   "metadata": {},
   "outputs": [
    {
     "name": "stdout",
     "output_type": "stream",
     "text": [
      "(453455, 17)\n",
      "(3834, 16)\n"
     ]
    }
   ],
   "source": [
    "print(gt_param_df.shape)\n",
    "print(gt_param_df_ipsc.shape)\n"
   ]
  },
  {
   "cell_type": "code",
   "execution_count": 20,
   "metadata": {},
   "outputs": [
    {
     "data": {
      "text/plain": [
       "Gene                    object\n",
       "Tissue                  object\n",
       "MeanExp                float64\n",
       "SDofExp                float64\n",
       "ZScore                 float64\n",
       "MedianExp              float64\n",
       "Breadth                float64\n",
       "CV                     float64\n",
       "MAD                    float64\n",
       "Centrality_coeff       float64\n",
       "Clustering_coeff       float64\n",
       "NumOfKinaseNbs         float64\n",
       "NumOfNeighbors         float64\n",
       "NumOfTFNeighbors       float64\n",
       "NeighborMeanBreadth    float64\n",
       "NeighborMeanZscore     float64\n",
       "dtype: object"
      ]
     },
     "execution_count": 20,
     "metadata": {},
     "output_type": "execute_result"
    }
   ],
   "source": [
    "gt_param_df_ipsc.dtypes"
   ]
  },
  {
   "cell_type": "code",
   "execution_count": 21,
   "metadata": {},
   "outputs": [
    {
     "data": {
      "text/html": [
       "<div>\n",
       "<style scoped>\n",
       "    .dataframe tbody tr th:only-of-type {\n",
       "        vertical-align: middle;\n",
       "    }\n",
       "\n",
       "    .dataframe tbody tr th {\n",
       "        vertical-align: top;\n",
       "    }\n",
       "\n",
       "    .dataframe thead th {\n",
       "        text-align: right;\n",
       "    }\n",
       "</style>\n",
       "<table border=\"1\" class=\"dataframe\">\n",
       "  <thead>\n",
       "    <tr style=\"text-align: right;\">\n",
       "      <th></th>\n",
       "      <th>Gene</th>\n",
       "      <th>Tissue</th>\n",
       "      <th>MeanExp</th>\n",
       "      <th>SDofExp</th>\n",
       "      <th>ZScore</th>\n",
       "      <th>MedianExp</th>\n",
       "      <th>Breadth</th>\n",
       "      <th>CV</th>\n",
       "      <th>MAD</th>\n",
       "      <th>Centrality_coeff</th>\n",
       "      <th>Clustering_coeff</th>\n",
       "      <th>NumOfKinaseNbs</th>\n",
       "      <th>NumOfNeighbors</th>\n",
       "      <th>NumOfTFNeighbors</th>\n",
       "      <th>NeighborMeanBreadth</th>\n",
       "      <th>NeighborMeanZscore</th>\n",
       "      <th>Label</th>\n",
       "    </tr>\n",
       "  </thead>\n",
       "  <tbody>\n",
       "    <tr>\n",
       "      <th>0</th>\n",
       "      <td>SAMD11</td>\n",
       "      <td>Stomach</td>\n",
       "      <td>4.720096</td>\n",
       "      <td>4.267317</td>\n",
       "      <td>-0.036851</td>\n",
       "      <td>3.423000</td>\n",
       "      <td>0.763231</td>\n",
       "      <td>0.904074</td>\n",
       "      <td>2.489289</td>\n",
       "      <td>1.209951e-06</td>\n",
       "      <td>0.047619</td>\n",
       "      <td>0</td>\n",
       "      <td>7</td>\n",
       "      <td>2</td>\n",
       "      <td>0.296060</td>\n",
       "      <td>-0.366241</td>\n",
       "      <td>U</td>\n",
       "    </tr>\n",
       "    <tr>\n",
       "      <th>1</th>\n",
       "      <td>NOC2L</td>\n",
       "      <td>Stomach</td>\n",
       "      <td>44.847466</td>\n",
       "      <td>15.854806</td>\n",
       "      <td>-0.412520</td>\n",
       "      <td>42.380001</td>\n",
       "      <td>0.220056</td>\n",
       "      <td>0.353527</td>\n",
       "      <td>14.366420</td>\n",
       "      <td>9.446877e-05</td>\n",
       "      <td>0.253545</td>\n",
       "      <td>2</td>\n",
       "      <td>110</td>\n",
       "      <td>15</td>\n",
       "      <td>0.349456</td>\n",
       "      <td>-0.245143</td>\n",
       "      <td>N</td>\n",
       "    </tr>\n",
       "    <tr>\n",
       "      <th>2</th>\n",
       "      <td>KLHL17</td>\n",
       "      <td>Stomach</td>\n",
       "      <td>11.037735</td>\n",
       "      <td>4.394696</td>\n",
       "      <td>-0.145059</td>\n",
       "      <td>10.360000</td>\n",
       "      <td>0.445682</td>\n",
       "      <td>0.398152</td>\n",
       "      <td>3.558246</td>\n",
       "      <td>2.254576e-07</td>\n",
       "      <td>0.333333</td>\n",
       "      <td>0</td>\n",
       "      <td>4</td>\n",
       "      <td>0</td>\n",
       "      <td>0.300836</td>\n",
       "      <td>-0.350367</td>\n",
       "      <td>U</td>\n",
       "    </tr>\n",
       "    <tr>\n",
       "      <th>3</th>\n",
       "      <td>PLEKHN1</td>\n",
       "      <td>Stomach</td>\n",
       "      <td>1.643722</td>\n",
       "      <td>1.750657</td>\n",
       "      <td>-0.314139</td>\n",
       "      <td>1.138000</td>\n",
       "      <td>0.682451</td>\n",
       "      <td>1.065057</td>\n",
       "      <td>1.040194</td>\n",
       "      <td>5.063642e-07</td>\n",
       "      <td>0.000000</td>\n",
       "      <td>0</td>\n",
       "      <td>3</td>\n",
       "      <td>1</td>\n",
       "      <td>0.470752</td>\n",
       "      <td>0.818392</td>\n",
       "      <td>U</td>\n",
       "    </tr>\n",
       "    <tr>\n",
       "      <th>4</th>\n",
       "      <td>PERM1</td>\n",
       "      <td>Stomach</td>\n",
       "      <td>0.612194</td>\n",
       "      <td>0.432204</td>\n",
       "      <td>-0.298348</td>\n",
       "      <td>0.489900</td>\n",
       "      <td>0.454039</td>\n",
       "      <td>0.705991</td>\n",
       "      <td>0.274874</td>\n",
       "      <td>0.000000e+00</td>\n",
       "      <td>0.000000</td>\n",
       "      <td>0</td>\n",
       "      <td>1</td>\n",
       "      <td>0</td>\n",
       "      <td>0.311978</td>\n",
       "      <td>-0.253442</td>\n",
       "      <td>N</td>\n",
       "    </tr>\n",
       "  </tbody>\n",
       "</table>\n",
       "</div>"
      ],
      "text/plain": [
       "      Gene   Tissue    MeanExp    SDofExp    ZScore  MedianExp   Breadth  \\\n",
       "0   SAMD11  Stomach   4.720096   4.267317 -0.036851   3.423000  0.763231   \n",
       "1    NOC2L  Stomach  44.847466  15.854806 -0.412520  42.380001  0.220056   \n",
       "2   KLHL17  Stomach  11.037735   4.394696 -0.145059  10.360000  0.445682   \n",
       "3  PLEKHN1  Stomach   1.643722   1.750657 -0.314139   1.138000  0.682451   \n",
       "4    PERM1  Stomach   0.612194   0.432204 -0.298348   0.489900  0.454039   \n",
       "\n",
       "         CV        MAD  Centrality_coeff  Clustering_coeff  NumOfKinaseNbs  \\\n",
       "0  0.904074   2.489289      1.209951e-06          0.047619               0   \n",
       "1  0.353527  14.366420      9.446877e-05          0.253545               2   \n",
       "2  0.398152   3.558246      2.254576e-07          0.333333               0   \n",
       "3  1.065057   1.040194      5.063642e-07          0.000000               0   \n",
       "4  0.705991   0.274874      0.000000e+00          0.000000               0   \n",
       "\n",
       "   NumOfNeighbors  NumOfTFNeighbors  NeighborMeanBreadth  NeighborMeanZscore  \\\n",
       "0               7                 2             0.296060           -0.366241   \n",
       "1             110                15             0.349456           -0.245143   \n",
       "2               4                 0             0.300836           -0.350367   \n",
       "3               3                 1             0.470752            0.818392   \n",
       "4               1                 0             0.311978           -0.253442   \n",
       "\n",
       "  Label  \n",
       "0     U  \n",
       "1     N  \n",
       "2     U  \n",
       "3     U  \n",
       "4     N  "
      ]
     },
     "execution_count": 21,
     "metadata": {},
     "output_type": "execute_result"
    }
   ],
   "source": [
    "gt_param_df.head()"
   ]
  },
  {
   "cell_type": "code",
   "execution_count": 22,
   "metadata": {},
   "outputs": [
    {
     "data": {
      "text/html": [
       "<div>\n",
       "<style scoped>\n",
       "    .dataframe tbody tr th:only-of-type {\n",
       "        vertical-align: middle;\n",
       "    }\n",
       "\n",
       "    .dataframe tbody tr th {\n",
       "        vertical-align: top;\n",
       "    }\n",
       "\n",
       "    .dataframe thead th {\n",
       "        text-align: right;\n",
       "    }\n",
       "</style>\n",
       "<table border=\"1\" class=\"dataframe\">\n",
       "  <thead>\n",
       "    <tr style=\"text-align: right;\">\n",
       "      <th></th>\n",
       "      <th>Gene</th>\n",
       "      <th>Tissue</th>\n",
       "      <th>MeanExp</th>\n",
       "      <th>SDofExp</th>\n",
       "      <th>ZScore</th>\n",
       "      <th>MedianExp</th>\n",
       "      <th>Breadth</th>\n",
       "      <th>CV</th>\n",
       "      <th>MAD</th>\n",
       "      <th>Centrality_coeff</th>\n",
       "      <th>Clustering_coeff</th>\n",
       "      <th>NumOfKinaseNbs</th>\n",
       "      <th>NumOfNeighbors</th>\n",
       "      <th>NumOfTFNeighbors</th>\n",
       "      <th>NeighborMeanBreadth</th>\n",
       "      <th>NeighborMeanZscore</th>\n",
       "    </tr>\n",
       "  </thead>\n",
       "  <tbody>\n",
       "    <tr>\n",
       "      <th>0</th>\n",
       "      <td>A1CF</td>\n",
       "      <td>iPSC</td>\n",
       "      <td>0.000011</td>\n",
       "      <td>0.000072</td>\n",
       "      <td>-0.165394</td>\n",
       "      <td>0.000005</td>\n",
       "      <td>0.589905</td>\n",
       "      <td>2.006809</td>\n",
       "      <td>0.000016</td>\n",
       "      <td>0.000006</td>\n",
       "      <td>0.000000</td>\n",
       "      <td>0.000000</td>\n",
       "      <td>0.004910</td>\n",
       "      <td>0.000000</td>\n",
       "      <td>0.983176</td>\n",
       "      <td>1.335035</td>\n",
       "    </tr>\n",
       "    <tr>\n",
       "      <th>1</th>\n",
       "      <td>AAAS</td>\n",
       "      <td>iPSC</td>\n",
       "      <td>0.019668</td>\n",
       "      <td>0.010921</td>\n",
       "      <td>2.408154</td>\n",
       "      <td>0.019540</td>\n",
       "      <td>1.000000</td>\n",
       "      <td>0.165755</td>\n",
       "      <td>0.010087</td>\n",
       "      <td>0.000032</td>\n",
       "      <td>0.244444</td>\n",
       "      <td>0.000000</td>\n",
       "      <td>0.016367</td>\n",
       "      <td>0.009009</td>\n",
       "      <td>0.974763</td>\n",
       "      <td>2.541551</td>\n",
       "    </tr>\n",
       "    <tr>\n",
       "      <th>2</th>\n",
       "      <td>AAGAB</td>\n",
       "      <td>iPSC</td>\n",
       "      <td>0.010681</td>\n",
       "      <td>0.005999</td>\n",
       "      <td>3.750179</td>\n",
       "      <td>0.010299</td>\n",
       "      <td>1.000000</td>\n",
       "      <td>0.167671</td>\n",
       "      <td>0.005094</td>\n",
       "      <td>0.000024</td>\n",
       "      <td>0.333333</td>\n",
       "      <td>0.000000</td>\n",
       "      <td>0.014730</td>\n",
       "      <td>0.000000</td>\n",
       "      <td>0.944269</td>\n",
       "      <td>2.083606</td>\n",
       "    </tr>\n",
       "    <tr>\n",
       "      <th>3</th>\n",
       "      <td>AAMP</td>\n",
       "      <td>iPSC</td>\n",
       "      <td>0.029689</td>\n",
       "      <td>0.015952</td>\n",
       "      <td>1.685050</td>\n",
       "      <td>0.029505</td>\n",
       "      <td>0.996845</td>\n",
       "      <td>0.160390</td>\n",
       "      <td>0.014774</td>\n",
       "      <td>0.000089</td>\n",
       "      <td>0.088889</td>\n",
       "      <td>0.027778</td>\n",
       "      <td>0.016367</td>\n",
       "      <td>0.018018</td>\n",
       "      <td>0.880126</td>\n",
       "      <td>1.415679</td>\n",
       "    </tr>\n",
       "    <tr>\n",
       "      <th>4</th>\n",
       "      <td>AASS</td>\n",
       "      <td>iPSC</td>\n",
       "      <td>0.049496</td>\n",
       "      <td>0.066663</td>\n",
       "      <td>4.690561</td>\n",
       "      <td>0.048664</td>\n",
       "      <td>1.000000</td>\n",
       "      <td>0.402048</td>\n",
       "      <td>0.053329</td>\n",
       "      <td>0.000003</td>\n",
       "      <td>0.166667</td>\n",
       "      <td>0.027778</td>\n",
       "      <td>0.006547</td>\n",
       "      <td>0.009009</td>\n",
       "      <td>0.926656</td>\n",
       "      <td>1.351420</td>\n",
       "    </tr>\n",
       "  </tbody>\n",
       "</table>\n",
       "</div>"
      ],
      "text/plain": [
       "    Gene Tissue   MeanExp   SDofExp    ZScore  MedianExp   Breadth        CV  \\\n",
       "0   A1CF   iPSC  0.000011  0.000072 -0.165394   0.000005  0.589905  2.006809   \n",
       "1   AAAS   iPSC  0.019668  0.010921  2.408154   0.019540  1.000000  0.165755   \n",
       "2  AAGAB   iPSC  0.010681  0.005999  3.750179   0.010299  1.000000  0.167671   \n",
       "3   AAMP   iPSC  0.029689  0.015952  1.685050   0.029505  0.996845  0.160390   \n",
       "4   AASS   iPSC  0.049496  0.066663  4.690561   0.048664  1.000000  0.402048   \n",
       "\n",
       "        MAD  Centrality_coeff  Clustering_coeff  NumOfKinaseNbs  \\\n",
       "0  0.000016          0.000006          0.000000        0.000000   \n",
       "1  0.010087          0.000032          0.244444        0.000000   \n",
       "2  0.005094          0.000024          0.333333        0.000000   \n",
       "3  0.014774          0.000089          0.088889        0.027778   \n",
       "4  0.053329          0.000003          0.166667        0.027778   \n",
       "\n",
       "   NumOfNeighbors  NumOfTFNeighbors  NeighborMeanBreadth  NeighborMeanZscore  \n",
       "0        0.004910          0.000000             0.983176            1.335035  \n",
       "1        0.016367          0.009009             0.974763            2.541551  \n",
       "2        0.014730          0.000000             0.944269            2.083606  \n",
       "3        0.016367          0.018018             0.880126            1.415679  \n",
       "4        0.006547          0.009009             0.926656            1.351420  "
      ]
     },
     "execution_count": 22,
     "metadata": {},
     "output_type": "execute_result"
    }
   ],
   "source": [
    "gt_param_df_ipsc.head()"
   ]
  },
  {
   "cell_type": "code",
   "execution_count": 23,
   "metadata": {},
   "outputs": [
    {
     "name": "stderr",
     "output_type": "stream",
     "text": [
      "/cmlscratch/gowthami/Anaconda3/envs/torch_projects/lib/python3.7/site-packages/ipykernel_launcher.py:16: SettingWithCopyWarning: \n",
      "A value is trying to be set on a copy of a slice from a DataFrame.\n",
      "Try using .loc[row_indexer,col_indexer] = value instead\n",
      "\n",
      "See the caveats in the documentation: http://pandas.pydata.org/pandas-docs/stable/user_guide/indexing.html#returning-a-view-versus-a-copy\n",
      "  app.launch_new_instance()\n"
     ]
    }
   ],
   "source": [
    "gene_list = []\n",
    "tissue_list = []\n",
    "probability_list = []\n",
    "zs_list = []\n",
    "\n",
    "train_df = gt_param_df[gt_param_df['Label'] != 'U']\n",
    "labels = []\n",
    "\n",
    "for index,row in train_df.iterrows():\n",
    "    if row['Label'] == 'P':\n",
    "        labels.append(1)\n",
    "    else:\n",
    "        labels.append(0)\n",
    "\n",
    "\n",
    "train_df['Label'] = labels\n",
    "test_df  =  gt_param_df_ipsc\n",
    "\n",
    "X_train = train_df.drop(['Gene', 'Tissue', 'Label'],axis=1)\n",
    "y_train = train_df['Label'].tolist()\n",
    "\n",
    "X_test = test_df.drop(['Gene', 'Tissue'],axis=1)\n",
    "\n",
    "model = XGBClassifier(max_depth=5, n_estimators=100,\n",
    "                      learning_rate=0.2,scale_pos_weight=10,objective = 'binary:logistic')\n",
    "model.fit(X_train, y_train)\n",
    "\n",
    "tl = test_df['Tissue'].tolist()\n",
    "gl = test_df['Gene'].tolist()\n",
    "zs  = test_df['ZScore'].tolist()\n",
    "y_scores = model.predict_proba(X_test)\n",
    "pl = []\n",
    "for i in y_scores:\n",
    "    pl.append(i[1])\n",
    "\n",
    "\n",
    "gene_list+= gl\n",
    "tissue_list+= tl\n",
    "probability_list+=pl\n",
    "zs_list+=zs"
   ]
  },
  {
   "cell_type": "code",
   "execution_count": 24,
   "metadata": {},
   "outputs": [
    {
     "name": "stdout",
     "output_type": "stream",
     "text": [
      "3834\n",
      "3834\n",
      "3834\n"
     ]
    }
   ],
   "source": [
    "print(len(gene_list))\n",
    "print(len(tissue_list))\n",
    "print(len(probability_list))\n",
    "\n"
   ]
  },
  {
   "cell_type": "code",
   "execution_count": 25,
   "metadata": {},
   "outputs": [
    {
     "name": "stdout",
     "output_type": "stream",
     "text": [
      "(3834, 6)\n"
     ]
    },
    {
     "data": {
      "text/html": [
       "<div>\n",
       "<style scoped>\n",
       "    .dataframe tbody tr th:only-of-type {\n",
       "        vertical-align: middle;\n",
       "    }\n",
       "\n",
       "    .dataframe tbody tr th {\n",
       "        vertical-align: top;\n",
       "    }\n",
       "\n",
       "    .dataframe thead th {\n",
       "        text-align: right;\n",
       "    }\n",
       "</style>\n",
       "<table border=\"1\" class=\"dataframe\">\n",
       "  <thead>\n",
       "    <tr style=\"text-align: right;\">\n",
       "      <th></th>\n",
       "      <th>Gene</th>\n",
       "      <th>Tissue</th>\n",
       "      <th>Zscore</th>\n",
       "      <th>Probability</th>\n",
       "      <th>Prob_ranking</th>\n",
       "      <th>Zscore_ranking</th>\n",
       "    </tr>\n",
       "  </thead>\n",
       "  <tbody>\n",
       "    <tr>\n",
       "      <th>3583</th>\n",
       "      <td>UCHL1</td>\n",
       "      <td>iPSC</td>\n",
       "      <td>2.210405</td>\n",
       "      <td>0.670096</td>\n",
       "      <td>1.000000</td>\n",
       "      <td>0.673448</td>\n",
       "    </tr>\n",
       "    <tr>\n",
       "      <th>3</th>\n",
       "      <td>AAMP</td>\n",
       "      <td>iPSC</td>\n",
       "      <td>1.685050</td>\n",
       "      <td>0.668656</td>\n",
       "      <td>0.999739</td>\n",
       "      <td>0.600417</td>\n",
       "    </tr>\n",
       "    <tr>\n",
       "      <th>474</th>\n",
       "      <td>CD9</td>\n",
       "      <td>iPSC</td>\n",
       "      <td>1.149646</td>\n",
       "      <td>0.530307</td>\n",
       "      <td>0.999478</td>\n",
       "      <td>0.497392</td>\n",
       "    </tr>\n",
       "    <tr>\n",
       "      <th>3732</th>\n",
       "      <td>WRN</td>\n",
       "      <td>iPSC</td>\n",
       "      <td>3.025612</td>\n",
       "      <td>0.519672</td>\n",
       "      <td>0.999218</td>\n",
       "      <td>0.767866</td>\n",
       "    </tr>\n",
       "    <tr>\n",
       "      <th>600</th>\n",
       "      <td>CKS2</td>\n",
       "      <td>iPSC</td>\n",
       "      <td>4.846468</td>\n",
       "      <td>0.497037</td>\n",
       "      <td>0.998957</td>\n",
       "      <td>0.942358</td>\n",
       "    </tr>\n",
       "  </tbody>\n",
       "</table>\n",
       "</div>"
      ],
      "text/plain": [
       "       Gene Tissue    Zscore  Probability  Prob_ranking  Zscore_ranking\n",
       "3583  UCHL1   iPSC  2.210405     0.670096      1.000000        0.673448\n",
       "3      AAMP   iPSC  1.685050     0.668656      0.999739        0.600417\n",
       "474     CD9   iPSC  1.149646     0.530307      0.999478        0.497392\n",
       "3732    WRN   iPSC  3.025612     0.519672      0.999218        0.767866\n",
       "600    CKS2   iPSC  4.846468     0.497037      0.998957        0.942358"
      ]
     },
     "execution_count": 25,
     "metadata": {},
     "output_type": "execute_result"
    }
   ],
   "source": [
    "ipsc_prob_df = pd.DataFrame({'Gene': gene_list, 'Tissue': tissue_list,'Probability': probability_list,'Zscore':zs_list})\n",
    "\n",
    "ipsc_prob_df = ipsc_prob_df[['Gene','Tissue','Zscore','Probability']]\n",
    "ipsc_prob_df['Prob_ranking'] = ipsc_prob_df['Probability'].rank(pct = True)\n",
    "ipsc_prob_df['Zscore_ranking'] = ipsc_prob_df['Zscore'].rank(pct = True)\n",
    "\n",
    "ipsc_prob_df = ipsc_prob_df.sort_values(by=['Probability'],ascending=False)\n",
    "print(ipsc_prob_df.shape)\n",
    "\n",
    "ipsc_prob_df.head()"
   ]
  },
  {
   "cell_type": "code",
   "execution_count": 26,
   "metadata": {},
   "outputs": [],
   "source": [
    "# ipsc_prob_df.to_csv('./iPSC/ipsc_prob_df.csv',index = False)"
   ]
  },
  {
   "cell_type": "markdown",
   "metadata": {},
   "source": [
    "### Yilmez et al paper comparisons"
   ]
  },
  {
   "cell_type": "code",
   "execution_count": 27,
   "metadata": {},
   "outputs": [],
   "source": [
    "# !wget https://static-content.springer.com/esm/art%3A10.1038%2Fs41556-018-0088-1/MediaObjects/41556_2018_88_MOESM3_ESM.xlsx"
   ]
  },
  {
   "cell_type": "code",
   "execution_count": 26,
   "metadata": {},
   "outputs": [
    {
     "data": {
      "text/html": [
       "<div>\n",
       "<style scoped>\n",
       "    .dataframe tbody tr th:only-of-type {\n",
       "        vertical-align: middle;\n",
       "    }\n",
       "\n",
       "    .dataframe tbody tr th {\n",
       "        vertical-align: top;\n",
       "    }\n",
       "\n",
       "    .dataframe thead th {\n",
       "        text-align: right;\n",
       "    }\n",
       "</style>\n",
       "<table border=\"1\" class=\"dataframe\">\n",
       "  <thead>\n",
       "    <tr style=\"text-align: right;\">\n",
       "      <th></th>\n",
       "      <th>Ensembl</th>\n",
       "      <th>Gene</th>\n",
       "      <th>CRISPR score</th>\n",
       "    </tr>\n",
       "  </thead>\n",
       "  <tbody>\n",
       "    <tr>\n",
       "      <th>0</th>\n",
       "      <td>ENSG00000000003</td>\n",
       "      <td>TSPAN6</td>\n",
       "      <td>-0.790299</td>\n",
       "    </tr>\n",
       "    <tr>\n",
       "      <th>1</th>\n",
       "      <td>ENSG00000000005</td>\n",
       "      <td>TNMD</td>\n",
       "      <td>-0.284688</td>\n",
       "    </tr>\n",
       "    <tr>\n",
       "      <th>2</th>\n",
       "      <td>ENSG00000000419</td>\n",
       "      <td>DPM1</td>\n",
       "      <td>-0.208128</td>\n",
       "    </tr>\n",
       "    <tr>\n",
       "      <th>3</th>\n",
       "      <td>ENSG00000000457</td>\n",
       "      <td>SCYL3</td>\n",
       "      <td>-0.181916</td>\n",
       "    </tr>\n",
       "    <tr>\n",
       "      <th>4</th>\n",
       "      <td>ENSG00000000460</td>\n",
       "      <td>C1orf112</td>\n",
       "      <td>-1.418501</td>\n",
       "    </tr>\n",
       "  </tbody>\n",
       "</table>\n",
       "</div>"
      ],
      "text/plain": [
       "           Ensembl      Gene  CRISPR score\n",
       "0  ENSG00000000003    TSPAN6     -0.790299\n",
       "1  ENSG00000000005      TNMD     -0.284688\n",
       "2  ENSG00000000419      DPM1     -0.208128\n",
       "3  ENSG00000000457     SCYL3     -0.181916\n",
       "4  ENSG00000000460  C1orf112     -1.418501"
      ]
     },
     "execution_count": 26,
     "metadata": {},
     "output_type": "execute_result"
    }
   ],
   "source": [
    "es_crispr_tab = pd.read_excel('./data/41556_2018_88_MOESM3_ESM.xlsx')\n",
    "es_crispr_tab = es_crispr_tab.rename(columns={'Ensembl ID':'Ensembl','Gene Symbol':'Gene','CRISPR score ':'CRISPR score'})\n",
    "es_crispr_tab=es_crispr_tab[['Ensembl', 'Gene', 'CRISPR score']]\n",
    "es_crispr_tab.head()"
   ]
  },
  {
   "cell_type": "code",
   "execution_count": 27,
   "metadata": {},
   "outputs": [
    {
     "data": {
      "text/plain": [
       "((3834, 16), (18166, 3))"
      ]
     },
     "execution_count": 27,
     "metadata": {},
     "output_type": "execute_result"
    }
   ],
   "source": [
    "gt_param_df_ipsc.shape, es_crispr_tab.shape"
   ]
  },
  {
   "cell_type": "code",
   "execution_count": 28,
   "metadata": {},
   "outputs": [
    {
     "name": "stdout",
     "output_type": "stream",
     "text": [
      "(3795, 19)\n"
     ]
    },
    {
     "name": "stderr",
     "output_type": "stream",
     "text": [
      "/cmlscratch/gowthami/Anaconda3/envs/torch_projects/lib/python3.7/site-packages/ipykernel_launcher.py:5: SettingWithCopyWarning: \n",
      "A value is trying to be set on a copy of a slice from a DataFrame.\n",
      "Try using .loc[row_indexer,col_indexer] = value instead\n",
      "\n",
      "See the caveats in the documentation: http://pandas.pydata.org/pandas-docs/stable/user_guide/indexing.html#returning-a-view-versus-a-copy\n",
      "  \"\"\"\n"
     ]
    },
    {
     "data": {
      "text/html": [
       "<div>\n",
       "<style scoped>\n",
       "    .dataframe tbody tr th:only-of-type {\n",
       "        vertical-align: middle;\n",
       "    }\n",
       "\n",
       "    .dataframe tbody tr th {\n",
       "        vertical-align: top;\n",
       "    }\n",
       "\n",
       "    .dataframe thead th {\n",
       "        text-align: right;\n",
       "    }\n",
       "</style>\n",
       "<table border=\"1\" class=\"dataframe\">\n",
       "  <thead>\n",
       "    <tr style=\"text-align: right;\">\n",
       "      <th></th>\n",
       "      <th>Gene</th>\n",
       "      <th>Tissue</th>\n",
       "      <th>MeanExp</th>\n",
       "      <th>SDofExp</th>\n",
       "      <th>ZScore</th>\n",
       "      <th>MedianExp</th>\n",
       "      <th>Breadth</th>\n",
       "      <th>CV</th>\n",
       "      <th>MAD</th>\n",
       "      <th>Centrality_coeff</th>\n",
       "      <th>Clustering_coeff</th>\n",
       "      <th>NumOfKinaseNbs</th>\n",
       "      <th>NumOfNeighbors</th>\n",
       "      <th>NumOfTFNeighbors</th>\n",
       "      <th>NeighborMeanBreadth</th>\n",
       "      <th>NeighborMeanZscore</th>\n",
       "      <th>Ensembl</th>\n",
       "      <th>CRISPR score</th>\n",
       "      <th>Label</th>\n",
       "    </tr>\n",
       "  </thead>\n",
       "  <tbody>\n",
       "    <tr>\n",
       "      <th>3706</th>\n",
       "      <td>XPO1</td>\n",
       "      <td>iPSC</td>\n",
       "      <td>0.050070</td>\n",
       "      <td>0.032537</td>\n",
       "      <td>5.195333</td>\n",
       "      <td>0.050039</td>\n",
       "      <td>1.000000</td>\n",
       "      <td>0.193978</td>\n",
       "      <td>0.027536</td>\n",
       "      <td>0.049141</td>\n",
       "      <td>0.024841</td>\n",
       "      <td>0.527778</td>\n",
       "      <td>0.731588</td>\n",
       "      <td>0.459459</td>\n",
       "      <td>0.959316</td>\n",
       "      <td>2.260500</td>\n",
       "      <td>ENSG00000082898</td>\n",
       "      <td>-3.404514</td>\n",
       "      <td>1</td>\n",
       "    </tr>\n",
       "    <tr>\n",
       "      <th>213</th>\n",
       "      <td>ASH2L</td>\n",
       "      <td>iPSC</td>\n",
       "      <td>0.016104</td>\n",
       "      <td>0.008949</td>\n",
       "      <td>4.521891</td>\n",
       "      <td>0.015751</td>\n",
       "      <td>1.000000</td>\n",
       "      <td>0.165882</td>\n",
       "      <td>0.006956</td>\n",
       "      <td>0.000305</td>\n",
       "      <td>0.163585</td>\n",
       "      <td>0.027778</td>\n",
       "      <td>0.065466</td>\n",
       "      <td>0.153153</td>\n",
       "      <td>0.947909</td>\n",
       "      <td>2.294734</td>\n",
       "      <td>ENSG00000129691</td>\n",
       "      <td>-3.359176</td>\n",
       "      <td>1</td>\n",
       "    </tr>\n",
       "    <tr>\n",
       "      <th>3305</th>\n",
       "      <td>TEX10</td>\n",
       "      <td>iPSC</td>\n",
       "      <td>0.012406</td>\n",
       "      <td>0.009080</td>\n",
       "      <td>5.280250</td>\n",
       "      <td>0.012093</td>\n",
       "      <td>1.000000</td>\n",
       "      <td>0.218485</td>\n",
       "      <td>0.008136</td>\n",
       "      <td>0.000070</td>\n",
       "      <td>0.256917</td>\n",
       "      <td>0.027778</td>\n",
       "      <td>0.037643</td>\n",
       "      <td>0.036036</td>\n",
       "      <td>0.964065</td>\n",
       "      <td>2.633684</td>\n",
       "      <td>ENSG00000136891</td>\n",
       "      <td>-3.033343</td>\n",
       "      <td>1</td>\n",
       "    </tr>\n",
       "    <tr>\n",
       "      <th>641</th>\n",
       "      <td>COG4</td>\n",
       "      <td>iPSC</td>\n",
       "      <td>0.009039</td>\n",
       "      <td>0.004497</td>\n",
       "      <td>0.619183</td>\n",
       "      <td>0.008887</td>\n",
       "      <td>0.943218</td>\n",
       "      <td>0.148512</td>\n",
       "      <td>0.004181</td>\n",
       "      <td>0.000220</td>\n",
       "      <td>0.180952</td>\n",
       "      <td>0.027778</td>\n",
       "      <td>0.027823</td>\n",
       "      <td>0.018018</td>\n",
       "      <td>0.958991</td>\n",
       "      <td>1.443660</td>\n",
       "      <td>ENSG00000103051</td>\n",
       "      <td>-3.029250</td>\n",
       "      <td>1</td>\n",
       "    </tr>\n",
       "    <tr>\n",
       "      <th>612</th>\n",
       "      <td>CLP1</td>\n",
       "      <td>iPSC</td>\n",
       "      <td>0.006863</td>\n",
       "      <td>0.003530</td>\n",
       "      <td>4.152917</td>\n",
       "      <td>0.006760</td>\n",
       "      <td>1.000000</td>\n",
       "      <td>0.153549</td>\n",
       "      <td>0.003081</td>\n",
       "      <td>0.000041</td>\n",
       "      <td>0.212121</td>\n",
       "      <td>0.000000</td>\n",
       "      <td>0.019640</td>\n",
       "      <td>0.027027</td>\n",
       "      <td>0.972923</td>\n",
       "      <td>1.962676</td>\n",
       "      <td>ENSG00000172409</td>\n",
       "      <td>-2.999917</td>\n",
       "      <td>1</td>\n",
       "    </tr>\n",
       "  </tbody>\n",
       "</table>\n",
       "</div>"
      ],
      "text/plain": [
       "       Gene Tissue   MeanExp   SDofExp    ZScore  MedianExp   Breadth  \\\n",
       "3706   XPO1   iPSC  0.050070  0.032537  5.195333   0.050039  1.000000   \n",
       "213   ASH2L   iPSC  0.016104  0.008949  4.521891   0.015751  1.000000   \n",
       "3305  TEX10   iPSC  0.012406  0.009080  5.280250   0.012093  1.000000   \n",
       "641    COG4   iPSC  0.009039  0.004497  0.619183   0.008887  0.943218   \n",
       "612    CLP1   iPSC  0.006863  0.003530  4.152917   0.006760  1.000000   \n",
       "\n",
       "            CV       MAD  Centrality_coeff  Clustering_coeff  NumOfKinaseNbs  \\\n",
       "3706  0.193978  0.027536          0.049141          0.024841        0.527778   \n",
       "213   0.165882  0.006956          0.000305          0.163585        0.027778   \n",
       "3305  0.218485  0.008136          0.000070          0.256917        0.027778   \n",
       "641   0.148512  0.004181          0.000220          0.180952        0.027778   \n",
       "612   0.153549  0.003081          0.000041          0.212121        0.000000   \n",
       "\n",
       "      NumOfNeighbors  NumOfTFNeighbors  NeighborMeanBreadth  \\\n",
       "3706        0.731588          0.459459             0.959316   \n",
       "213         0.065466          0.153153             0.947909   \n",
       "3305        0.037643          0.036036             0.964065   \n",
       "641         0.027823          0.018018             0.958991   \n",
       "612         0.019640          0.027027             0.972923   \n",
       "\n",
       "      NeighborMeanZscore          Ensembl  CRISPR score  Label  \n",
       "3706            2.260500  ENSG00000082898     -3.404514      1  \n",
       "213             2.294734  ENSG00000129691     -3.359176      1  \n",
       "3305            2.633684  ENSG00000136891     -3.033343      1  \n",
       "641             1.443660  ENSG00000103051     -3.029250      1  \n",
       "612             1.962676  ENSG00000172409     -2.999917      1  "
      ]
     },
     "execution_count": 28,
     "metadata": {},
     "output_type": "execute_result"
    }
   ],
   "source": [
    "ipsc_fulltab = pd.merge(gt_param_df_ipsc, es_crispr_tab,  how='inner', \n",
    "                       left_on=['Gene'], right_on = ['Gene'])\n",
    "ipsc_fulltab = ipsc_fulltab.sort_values(by=['CRISPR score'],ascending=True)\n",
    "ipsc_fulltab['Label'] = 0\n",
    "ipsc_fulltab[:500]['Label'] = 1\n",
    "print(ipsc_fulltab.shape)\n",
    "ipsc_fulltab.head()"
   ]
  },
  {
   "cell_type": "code",
   "execution_count": 37,
   "metadata": {},
   "outputs": [],
   "source": [
    "# train_df = ipsc_fulltab.drop(['Gene', 'Tissue', 'Ensembl', 'CRISPR score'],axis=1)\n",
    "train_df = ipsc_fulltab[['ZScore','Label']]"
   ]
  },
  {
   "cell_type": "code",
   "execution_count": 38,
   "metadata": {},
   "outputs": [
    {
     "name": "stdout",
     "output_type": "stream",
     "text": [
      "0\n",
      "AU-ROC stats: 0.6674267944302434 , 0.02402960370541022\n",
      "AU-PRC stats: 0.20830474535755897 , 0.019740373855788258\n"
     ]
    }
   ],
   "source": [
    "aurocs = []\n",
    "auprcs = []\n",
    "for j in range(20):\n",
    "    X = train_df.drop(['Label'],axis=1)\n",
    "\n",
    "    y = train_df['Label'].tolist()\n",
    "    X_train, X_test, y_train, y_test = train_test_split(X, y, test_size = 0.2)\n",
    "#     print(X_train.shape,X_test.shape )\n",
    "\n",
    "    model = XGBClassifier(max_depth=5, n_estimators=100,\n",
    "                          learning_rate=0.2,scale_pos_weight=5,objective = 'binary:logistic')\n",
    "    model.fit(X_train, y_train)\n",
    "\n",
    "    y_scores = model.predict_proba(X_test)\n",
    "\n",
    "    y_prob_dict = {0:[],1:[]}\n",
    "\n",
    "    for i in y_scores:\n",
    "        y_prob_dict[0].append(i[0])\n",
    "        y_prob_dict[1].append(i[1])\n",
    "\n",
    "    precisions, recalls, thresholds = precision_recall_curve(y_test, y_prob_dict[1])\n",
    "    roc = roc_auc_score(y_test, y_prob_dict[1])\n",
    "    prc = metrics.auc(recalls, precisions)\n",
    "    aurocs.append(roc)\n",
    "    auprcs.append(prc)\n",
    "    if j%25 ==0:\n",
    "        print(j)\n",
    "        \n",
    "print('AU-ROC stats: '+str(np.mean(aurocs)) + ' , ' + str(np.std(aurocs)))\n",
    "print('AU-PRC stats: '+str(np.mean(auprcs)) + ' , ' + str(np.std(auprcs)))\n"
   ]
  },
  {
   "cell_type": "code",
   "execution_count": 104,
   "metadata": {},
   "outputs": [
    {
     "data": {
      "text/plain": [
       "0.13175230566534915"
      ]
     },
     "execution_count": 104,
     "metadata": {},
     "output_type": "execute_result"
    }
   ],
   "source": [
    "500/3795"
   ]
  },
  {
   "cell_type": "markdown",
   "metadata": {},
   "source": [
    "## top 500 crispr genes"
   ]
  },
  {
   "cell_type": "code",
   "execution_count": 32,
   "metadata": {},
   "outputs": [
    {
     "name": "stdout",
     "output_type": "stream",
     "text": [
      "(3795, 9)\n"
     ]
    },
    {
     "name": "stderr",
     "output_type": "stream",
     "text": [
      "/cmlscratch/gowthami/Anaconda3/envs/torch_projects/lib/python3.7/site-packages/ipykernel_launcher.py:5: SettingWithCopyWarning: \n",
      "A value is trying to be set on a copy of a slice from a DataFrame.\n",
      "Try using .loc[row_indexer,col_indexer] = value instead\n",
      "\n",
      "See the caveats in the documentation: http://pandas.pydata.org/pandas-docs/stable/user_guide/indexing.html#returning-a-view-versus-a-copy\n",
      "  \"\"\"\n"
     ]
    },
    {
     "data": {
      "text/html": [
       "<div>\n",
       "<style scoped>\n",
       "    .dataframe tbody tr th:only-of-type {\n",
       "        vertical-align: middle;\n",
       "    }\n",
       "\n",
       "    .dataframe tbody tr th {\n",
       "        vertical-align: top;\n",
       "    }\n",
       "\n",
       "    .dataframe thead th {\n",
       "        text-align: right;\n",
       "    }\n",
       "</style>\n",
       "<table border=\"1\" class=\"dataframe\">\n",
       "  <thead>\n",
       "    <tr style=\"text-align: right;\">\n",
       "      <th></th>\n",
       "      <th>Gene</th>\n",
       "      <th>Tissue</th>\n",
       "      <th>Zscore</th>\n",
       "      <th>Probability</th>\n",
       "      <th>Prob_ranking</th>\n",
       "      <th>Zscore_ranking</th>\n",
       "      <th>Ensembl</th>\n",
       "      <th>CRISPR score</th>\n",
       "      <th>Label</th>\n",
       "    </tr>\n",
       "  </thead>\n",
       "  <tbody>\n",
       "    <tr>\n",
       "      <th>3368</th>\n",
       "      <td>XPO1</td>\n",
       "      <td>iPSC</td>\n",
       "      <td>5.195333</td>\n",
       "      <td>0.005765</td>\n",
       "      <td>0.112154</td>\n",
       "      <td>0.966354</td>\n",
       "      <td>ENSG00000082898</td>\n",
       "      <td>-3.404514</td>\n",
       "      <td>1</td>\n",
       "    </tr>\n",
       "    <tr>\n",
       "      <th>1826</th>\n",
       "      <td>ASH2L</td>\n",
       "      <td>iPSC</td>\n",
       "      <td>4.521891</td>\n",
       "      <td>0.024472</td>\n",
       "      <td>0.519562</td>\n",
       "      <td>0.917319</td>\n",
       "      <td>ENSG00000129691</td>\n",
       "      <td>-3.359176</td>\n",
       "      <td>1</td>\n",
       "    </tr>\n",
       "    <tr>\n",
       "      <th>726</th>\n",
       "      <td>TEX10</td>\n",
       "      <td>iPSC</td>\n",
       "      <td>5.280250</td>\n",
       "      <td>0.065644</td>\n",
       "      <td>0.808164</td>\n",
       "      <td>0.973135</td>\n",
       "      <td>ENSG00000136891</td>\n",
       "      <td>-3.033343</td>\n",
       "      <td>1</td>\n",
       "    </tr>\n",
       "    <tr>\n",
       "      <th>2725</th>\n",
       "      <td>COG4</td>\n",
       "      <td>iPSC</td>\n",
       "      <td>0.619183</td>\n",
       "      <td>0.011624</td>\n",
       "      <td>0.283255</td>\n",
       "      <td>0.381586</td>\n",
       "      <td>ENSG00000103051</td>\n",
       "      <td>-3.029250</td>\n",
       "      <td>1</td>\n",
       "    </tr>\n",
       "    <tr>\n",
       "      <th>648</th>\n",
       "      <td>CLP1</td>\n",
       "      <td>iPSC</td>\n",
       "      <td>4.152917</td>\n",
       "      <td>0.073346</td>\n",
       "      <td>0.828899</td>\n",
       "      <td>0.882368</td>\n",
       "      <td>ENSG00000172409</td>\n",
       "      <td>-2.999917</td>\n",
       "      <td>1</td>\n",
       "    </tr>\n",
       "  </tbody>\n",
       "</table>\n",
       "</div>"
      ],
      "text/plain": [
       "       Gene Tissue    Zscore  Probability  Prob_ranking  Zscore_ranking  \\\n",
       "3368   XPO1   iPSC  5.195333     0.005765      0.112154        0.966354   \n",
       "1826  ASH2L   iPSC  4.521891     0.024472      0.519562        0.917319   \n",
       "726   TEX10   iPSC  5.280250     0.065644      0.808164        0.973135   \n",
       "2725   COG4   iPSC  0.619183     0.011624      0.283255        0.381586   \n",
       "648    CLP1   iPSC  4.152917     0.073346      0.828899        0.882368   \n",
       "\n",
       "              Ensembl  CRISPR score  Label  \n",
       "3368  ENSG00000082898     -3.404514      1  \n",
       "1826  ENSG00000129691     -3.359176      1  \n",
       "726   ENSG00000136891     -3.033343      1  \n",
       "2725  ENSG00000103051     -3.029250      1  \n",
       "648   ENSG00000172409     -2.999917      1  "
      ]
     },
     "execution_count": 32,
     "metadata": {},
     "output_type": "execute_result"
    }
   ],
   "source": [
    "ipsc_fugue_crispr = pd.merge(ipsc_prob_df, es_crispr_tab,  how='inner', \n",
    "                       left_on=['Gene'], right_on = ['Gene'])\n",
    "ipsc_fugue_crispr = ipsc_fugue_crispr.sort_values(by=['CRISPR score'],ascending=True)\n",
    "ipsc_fugue_crispr['Label'] = 0\n",
    "ipsc_fugue_crispr[:500]['Label'] = 1\n",
    "\n",
    "# ipsc_fugue_crispr = ipsc_fugue_crispr[:500]\n",
    "# print(ipsc_fugue_crispr.shape)\n",
    "print(ipsc_fugue_crispr.shape)\n",
    "ipsc_fugue_crispr.head()"
   ]
  },
  {
   "cell_type": "code",
   "execution_count": 33,
   "metadata": {
    "collapsed": true,
    "jupyter": {
     "outputs_hidden": true,
     "source_hidden": true
    }
   },
   "outputs": [
    {
     "data": {
      "image/png": "[encoded data removed]",
      "text/plain": [
       "<Figure size 432x288 with 1 Axes>"
      ]
     },
     "metadata": {
      "needs_background": "light"
     },
     "output_type": "display_data"
    }
   ],
   "source": [
    "ax = sns.scatterplot(data=ipsc_fugue_crispr[ipsc_fugue_crispr['Label']==1], x='Zscore_ranking', y='Prob_ranking')\n"
   ]
  },
  {
   "cell_type": "code",
   "execution_count": 34,
   "metadata": {},
   "outputs": [
    {
     "name": "stdout",
     "output_type": "stream",
     "text": [
      "500\n",
      "MannwhitneyuResult(statistic=621052.0, pvalue=3.3737167437287916e-19)\n"
     ]
    },
    {
     "data": {
      "text/plain": [
       "Text(0, 0.5, 'FUGUE ranks')"
      ]
     },
     "execution_count": 34,
     "metadata": {},
     "output_type": "execute_result"
    },
    {
     "data": {
      "image/png": "[encoded data removed]",
      "text/plain": [
       "<Figure size 576x576 with 1 Axes>"
      ]
     },
     "metadata": {
      "needs_background": "light"
     },
     "output_type": "display_data"
    }
   ],
   "source": [
    "ax = plt.figure(figsize=(8,8))\n",
    "\n",
    "essential_list = ipsc_fugue_crispr[ipsc_fugue_crispr['Label']==1]['Prob_ranking'].tolist()\n",
    "print(len(essential_list))\n",
    "othergenes_list = ipsc_fugue_crispr[ipsc_fugue_crispr['Label']!=1]['Prob_ranking'].tolist()\n",
    "\n",
    "print(scipy.stats.mannwhitneyu(othergenes_list, essential_list, use_continuity=True, alternative='less'))\n",
    "\n",
    "# ranks  = [essential_list,othergenes_list]\n",
    "# names = ['Essential genes', 'Other genes']\n",
    "\n",
    "ranks  = [essential_list]\n",
    "names = ['Essential genes']\n",
    "\n",
    "ax = sns.boxplot(data=ranks,color = 'plum')\n",
    "ax.set(xticklabels=names)\n",
    "ax.tick_params(labelsize=15)\n",
    "\n",
    "ax.axhline(0.5, ls='--')\n",
    "ax.text(0.1,0.505, \"Random Expectation\",fontsize=17)\n",
    "\n",
    "plt.title('FUGUE ranks of essential genes in iPSC tissue',fontsize=25)\n",
    "\n",
    "plt.xlabel('',fontsize=25)\n",
    "plt.ylabel('FUGUE ranks',fontsize=25)\n",
    "# plt.rc('axes', titlesize=12) "
   ]
  },
  {
   "cell_type": "code",
   "execution_count": null,
   "metadata": {},
   "outputs": [],
   "source": []
  },
  {
   "cell_type": "code",
   "execution_count": null,
   "metadata": {},
   "outputs": [],
   "source": []
  },
  {
   "cell_type": "code",
   "execution_count": null,
   "metadata": {},
   "outputs": [],
   "source": []
  },
  {
   "cell_type": "code",
   "execution_count": 45,
   "metadata": {},
   "outputs": [
    {
     "name": "stdout",
     "output_type": "stream",
     "text": [
      "0.26283569372524856\n"
     ]
    },
    {
     "data": {
      "image/png": "[encoded data removed]",
      "text/plain": [
       "<Figure size 432x288 with 1 Axes>"
      ]
     },
     "metadata": {
      "needs_background": "light"
     },
     "output_type": "display_data"
    }
   ],
   "source": [
    "print(np.corrcoef(ipsc_fulltab['p-value'].tolist(), ipsc_fulltab['CRISPR score '].tolist())[0,1])\n",
    "ax = sns.scatterplot(data=ipsc_fulltab, x='p-value', y='CRISPR score ')\n"
   ]
  },
  {
   "cell_type": "code",
   "execution_count": 63,
   "metadata": {},
   "outputs": [],
   "source": [
    "ipsc_fulltab['CRISPR_abs_score'] = list(map(abs,ipsc_fulltab['CRISPR score '].tolist()))"
   ]
  },
  {
   "cell_type": "code",
   "execution_count": 64,
   "metadata": {},
   "outputs": [
    {
     "data": {
      "text/html": [
       "<div>\n",
       "<style scoped>\n",
       "    .dataframe tbody tr th:only-of-type {\n",
       "        vertical-align: middle;\n",
       "    }\n",
       "\n",
       "    .dataframe tbody tr th {\n",
       "        vertical-align: top;\n",
       "    }\n",
       "\n",
       "    .dataframe thead th {\n",
       "        text-align: right;\n",
       "    }\n",
       "</style>\n",
       "<table border=\"1\" class=\"dataframe\">\n",
       "  <thead>\n",
       "    <tr style=\"text-align: right;\">\n",
       "      <th></th>\n",
       "      <th>Gene</th>\n",
       "      <th>Tissue</th>\n",
       "      <th>Zscore</th>\n",
       "      <th>Probability</th>\n",
       "      <th>Prob_ranking</th>\n",
       "      <th>Zscore_ranking</th>\n",
       "      <th>Ensembl</th>\n",
       "      <th>CRISPR score</th>\n",
       "      <th>p-value</th>\n",
       "      <th>FDR</th>\n",
       "      <th>CRISPR_abs_score</th>\n",
       "    </tr>\n",
       "  </thead>\n",
       "  <tbody>\n",
       "    <tr>\n",
       "      <th>3368</th>\n",
       "      <td>XPO1</td>\n",
       "      <td>iPSC</td>\n",
       "      <td>5.195333</td>\n",
       "      <td>0.005765</td>\n",
       "      <td>0.112154</td>\n",
       "      <td>0.966354</td>\n",
       "      <td>ENSG00000082898</td>\n",
       "      <td>-3.404514</td>\n",
       "      <td>1.484276e-10</td>\n",
       "      <td>2.696335e-07</td>\n",
       "      <td>3.404514</td>\n",
       "    </tr>\n",
       "    <tr>\n",
       "      <th>1826</th>\n",
       "      <td>ASH2L</td>\n",
       "      <td>iPSC</td>\n",
       "      <td>4.521891</td>\n",
       "      <td>0.024472</td>\n",
       "      <td>0.519562</td>\n",
       "      <td>0.917319</td>\n",
       "      <td>ENSG00000129691</td>\n",
       "      <td>-3.359176</td>\n",
       "      <td>2.117012e-08</td>\n",
       "      <td>7.256158e-06</td>\n",
       "      <td>3.359176</td>\n",
       "    </tr>\n",
       "    <tr>\n",
       "      <th>726</th>\n",
       "      <td>TEX10</td>\n",
       "      <td>iPSC</td>\n",
       "      <td>5.280250</td>\n",
       "      <td>0.065644</td>\n",
       "      <td>0.808164</td>\n",
       "      <td>0.973135</td>\n",
       "      <td>ENSG00000136891</td>\n",
       "      <td>-3.033343</td>\n",
       "      <td>1.508088e-08</td>\n",
       "      <td>6.087984e-06</td>\n",
       "      <td>3.033343</td>\n",
       "    </tr>\n",
       "    <tr>\n",
       "      <th>2725</th>\n",
       "      <td>COG4</td>\n",
       "      <td>iPSC</td>\n",
       "      <td>0.619183</td>\n",
       "      <td>0.011624</td>\n",
       "      <td>0.283255</td>\n",
       "      <td>0.381586</td>\n",
       "      <td>ENSG00000103051</td>\n",
       "      <td>-3.029250</td>\n",
       "      <td>7.241742e-09</td>\n",
       "      <td>3.654263e-06</td>\n",
       "      <td>3.029250</td>\n",
       "    </tr>\n",
       "    <tr>\n",
       "      <th>648</th>\n",
       "      <td>CLP1</td>\n",
       "      <td>iPSC</td>\n",
       "      <td>4.152917</td>\n",
       "      <td>0.073346</td>\n",
       "      <td>0.828899</td>\n",
       "      <td>0.882368</td>\n",
       "      <td>ENSG00000172409</td>\n",
       "      <td>-2.999917</td>\n",
       "      <td>3.004159e-12</td>\n",
       "      <td>7.796221e-09</td>\n",
       "      <td>2.999917</td>\n",
       "    </tr>\n",
       "  </tbody>\n",
       "</table>\n",
       "</div>"
      ],
      "text/plain": [
       "       Gene Tissue    Zscore  Probability  Prob_ranking  Zscore_ranking  \\\n",
       "3368   XPO1   iPSC  5.195333     0.005765      0.112154        0.966354   \n",
       "1826  ASH2L   iPSC  4.521891     0.024472      0.519562        0.917319   \n",
       "726   TEX10   iPSC  5.280250     0.065644      0.808164        0.973135   \n",
       "2725   COG4   iPSC  0.619183     0.011624      0.283255        0.381586   \n",
       "648    CLP1   iPSC  4.152917     0.073346      0.828899        0.882368   \n",
       "\n",
       "              Ensembl  CRISPR score        p-value           FDR  \\\n",
       "3368  ENSG00000082898      -3.404514  1.484276e-10  2.696335e-07   \n",
       "1826  ENSG00000129691      -3.359176  2.117012e-08  7.256158e-06   \n",
       "726   ENSG00000136891      -3.033343  1.508088e-08  6.087984e-06   \n",
       "2725  ENSG00000103051      -3.029250  7.241742e-09  3.654263e-06   \n",
       "648   ENSG00000172409      -2.999917  3.004159e-12  7.796221e-09   \n",
       "\n",
       "      CRISPR_abs_score  \n",
       "3368          3.404514  \n",
       "1826          3.359176  \n",
       "726           3.033343  \n",
       "2725          3.029250  \n",
       "648           2.999917  "
      ]
     },
     "execution_count": 64,
     "metadata": {},
     "output_type": "execute_result"
    }
   ],
   "source": [
    "ipsc_fulltab.head()"
   ]
  },
  {
   "cell_type": "code",
   "execution_count": 65,
   "metadata": {},
   "outputs": [
    {
     "name": "stdout",
     "output_type": "stream",
     "text": [
      "0.169034058245202\n"
     ]
    },
    {
     "data": {
      "image/png": "[encoded data removed]",
      "text/plain": [
       "<Figure size 432x288 with 1 Axes>"
      ]
     },
     "metadata": {
      "needs_background": "light"
     },
     "output_type": "display_data"
    }
   ],
   "source": [
    "print(np.corrcoef(ipsc_fulltab['Prob_ranking'].tolist(), ipsc_fulltab['CRISPR_abs_score'].tolist())[0,1])\n",
    "ax = sns.scatterplot(data=ipsc_fulltab, x='Prob_ranking', y='CRISPR_abs_score')"
   ]
  },
  {
   "cell_type": "code",
   "execution_count": 66,
   "metadata": {},
   "outputs": [
    {
     "name": "stdout",
     "output_type": "stream",
     "text": [
      "0.3169051254415479\n"
     ]
    },
    {
     "data": {
      "image/png": "[encoded data removed]",
      "text/plain": [
       "<Figure size 432x288 with 1 Axes>"
      ]
     },
     "metadata": {
      "needs_background": "light"
     },
     "output_type": "display_data"
    }
   ],
   "source": [
    "print(np.corrcoef(ipsc_fulltab['Zscore_ranking'].tolist(), ipsc_fulltab['CRISPR_abs_score'].tolist())[0,1])\n",
    "ax = sns.scatterplot(data=ipsc_fulltab, x='Zscore_ranking', y='CRISPR_abs_score')"
   ]
  },
  {
   "cell_type": "code",
   "execution_count": 68,
   "metadata": {},
   "outputs": [
    {
     "name": "stdout",
     "output_type": "stream",
     "text": [
      "-0.16408013089341816\n"
     ]
    },
    {
     "data": {
      "image/png": "[encoded data removed]",
      "text/plain": [
       "<Figure size 432x288 with 1 Axes>"
      ]
     },
     "metadata": {
      "needs_background": "light"
     },
     "output_type": "display_data"
    }
   ],
   "source": [
    "print(np.corrcoef(ipsc_fulltab['Prob_ranking'].tolist(), ipsc_fulltab['CRISPR score '].tolist())[0,1])\n",
    "ax = sns.scatterplot(data=ipsc_fulltab, x='Prob_ranking', y='CRISPR score ')\n"
   ]
  },
  {
   "cell_type": "code",
   "execution_count": 69,
   "metadata": {},
   "outputs": [
    {
     "name": "stdout",
     "output_type": "stream",
     "text": [
      "-0.29443995934743644\n"
     ]
    },
    {
     "data": {
      "image/png": "[encoded data removed]",
      "text/plain": [
       "<Figure size 432x288 with 1 Axes>"
      ]
     },
     "metadata": {
      "needs_background": "light"
     },
     "output_type": "display_data"
    }
   ],
   "source": [
    "print(np.corrcoef(ipsc_fulltab['Zscore_ranking'].tolist(), ipsc_fulltab['CRISPR score '].tolist())[0,1])\n",
    "ax = sns.scatterplot(data=ipsc_fulltab, x='Zscore_ranking', y='CRISPR score ')\n"
   ]
  },
  {
   "cell_type": "code",
   "execution_count": 56,
   "metadata": {},
   "outputs": [
    {
     "data": {
      "text/html": [
       "<div>\n",
       "<style scoped>\n",
       "    .dataframe tbody tr th:only-of-type {\n",
       "        vertical-align: middle;\n",
       "    }\n",
       "\n",
       "    .dataframe tbody tr th {\n",
       "        vertical-align: top;\n",
       "    }\n",
       "\n",
       "    .dataframe thead th {\n",
       "        text-align: right;\n",
       "    }\n",
       "</style>\n",
       "<table border=\"1\" class=\"dataframe\">\n",
       "  <thead>\n",
       "    <tr style=\"text-align: right;\">\n",
       "      <th></th>\n",
       "      <th>Gene</th>\n",
       "      <th>Tissue</th>\n",
       "      <th>Zscore</th>\n",
       "      <th>Probability</th>\n",
       "      <th>Prob_ranking</th>\n",
       "      <th>Zscore_ranking</th>\n",
       "      <th>Ensembl</th>\n",
       "      <th>CRISPR score</th>\n",
       "      <th>p-value</th>\n",
       "      <th>FDR</th>\n",
       "    </tr>\n",
       "  </thead>\n",
       "  <tbody>\n",
       "    <tr>\n",
       "      <th>3368</th>\n",
       "      <td>XPO1</td>\n",
       "      <td>iPSC</td>\n",
       "      <td>5.195333</td>\n",
       "      <td>0.005765</td>\n",
       "      <td>0.112154</td>\n",
       "      <td>0.966354</td>\n",
       "      <td>ENSG00000082898</td>\n",
       "      <td>-3.404514</td>\n",
       "      <td>1.484276e-10</td>\n",
       "      <td>2.696335e-07</td>\n",
       "    </tr>\n",
       "    <tr>\n",
       "      <th>1826</th>\n",
       "      <td>ASH2L</td>\n",
       "      <td>iPSC</td>\n",
       "      <td>4.521891</td>\n",
       "      <td>0.024472</td>\n",
       "      <td>0.519562</td>\n",
       "      <td>0.917319</td>\n",
       "      <td>ENSG00000129691</td>\n",
       "      <td>-3.359176</td>\n",
       "      <td>2.117012e-08</td>\n",
       "      <td>7.256158e-06</td>\n",
       "    </tr>\n",
       "    <tr>\n",
       "      <th>726</th>\n",
       "      <td>TEX10</td>\n",
       "      <td>iPSC</td>\n",
       "      <td>5.280250</td>\n",
       "      <td>0.065644</td>\n",
       "      <td>0.808164</td>\n",
       "      <td>0.973135</td>\n",
       "      <td>ENSG00000136891</td>\n",
       "      <td>-3.033343</td>\n",
       "      <td>1.508088e-08</td>\n",
       "      <td>6.087984e-06</td>\n",
       "    </tr>\n",
       "    <tr>\n",
       "      <th>2725</th>\n",
       "      <td>COG4</td>\n",
       "      <td>iPSC</td>\n",
       "      <td>0.619183</td>\n",
       "      <td>0.011624</td>\n",
       "      <td>0.283255</td>\n",
       "      <td>0.381586</td>\n",
       "      <td>ENSG00000103051</td>\n",
       "      <td>-3.029250</td>\n",
       "      <td>7.241742e-09</td>\n",
       "      <td>3.654263e-06</td>\n",
       "    </tr>\n",
       "    <tr>\n",
       "      <th>648</th>\n",
       "      <td>CLP1</td>\n",
       "      <td>iPSC</td>\n",
       "      <td>4.152917</td>\n",
       "      <td>0.073346</td>\n",
       "      <td>0.828899</td>\n",
       "      <td>0.882368</td>\n",
       "      <td>ENSG00000172409</td>\n",
       "      <td>-2.999917</td>\n",
       "      <td>3.004159e-12</td>\n",
       "      <td>7.796221e-09</td>\n",
       "    </tr>\n",
       "  </tbody>\n",
       "</table>\n",
       "</div>"
      ],
      "text/plain": [
       "       Gene Tissue    Zscore  Probability  Prob_ranking  Zscore_ranking  \\\n",
       "3368   XPO1   iPSC  5.195333     0.005765      0.112154        0.966354   \n",
       "1826  ASH2L   iPSC  4.521891     0.024472      0.519562        0.917319   \n",
       "726   TEX10   iPSC  5.280250     0.065644      0.808164        0.973135   \n",
       "2725   COG4   iPSC  0.619183     0.011624      0.283255        0.381586   \n",
       "648    CLP1   iPSC  4.152917     0.073346      0.828899        0.882368   \n",
       "\n",
       "              Ensembl  CRISPR score        p-value           FDR  \n",
       "3368  ENSG00000082898      -3.404514  1.484276e-10  2.696335e-07  \n",
       "1826  ENSG00000129691      -3.359176  2.117012e-08  7.256158e-06  \n",
       "726   ENSG00000136891      -3.033343  1.508088e-08  6.087984e-06  \n",
       "2725  ENSG00000103051      -3.029250  7.241742e-09  3.654263e-06  \n",
       "648   ENSG00000172409      -2.999917  3.004159e-12  7.796221e-09  "
      ]
     },
     "execution_count": 56,
     "metadata": {},
     "output_type": "execute_result"
    }
   ],
   "source": [
    "ipsc_fulltab = ipsc_fulltab.sort_values(by=['CRISPR score '],ascending=True)\n",
    "short = ipsc_fulltab[ipsc_fulltab['p-value']<=0.05]\n",
    "short = short[:500]\n",
    "short.head()"
   ]
  },
  {
   "cell_type": "code",
   "execution_count": 57,
   "metadata": {},
   "outputs": [
    {
     "name": "stdout",
     "output_type": "stream",
     "text": [
      "0.9999999988053931\n"
     ]
    },
    {
     "data": {
      "image/png": "[encoded data removed]",
      "text/plain": [
       "<Figure size 432x288 with 1 Axes>"
      ]
     },
     "metadata": {
      "needs_background": "light"
     },
     "output_type": "display_data"
    }
   ],
   "source": [
    "print(scipy.stats.wilcoxon(short['Prob_ranking'].tolist(), short['Zscore_ranking'].tolist(), zero_method='wilcox',alternative='greater')[1])\n",
    "sns.boxplot(x=\"variable\", y=\"value\", data=pd.melt(short[['Prob_ranking','Zscore_ranking']]))\n",
    "plt.title('Highest 500 CRISPR score')\n",
    "plt.show()"
   ]
  },
  {
   "cell_type": "code",
   "execution_count": 48,
   "metadata": {},
   "outputs": [
    {
     "data": {
      "text/plain": [
       "Text(0.5, 1.0, 'Top 500 Fugue ranked genes')"
      ]
     },
     "execution_count": 48,
     "metadata": {},
     "output_type": "execute_result"
    },
    {
     "data": {
      "image/png": "[encoded data removed]",
      "text/plain": [
       "<Figure size 432x288 with 1 Axes>"
      ]
     },
     "metadata": {
      "needs_background": "light"
     },
     "output_type": "display_data"
    }
   ],
   "source": [
    "ipsc_fulltab = ipsc_fulltab.sort_values(by=['Prob_ranking'],ascending=False)\n",
    "short = ipsc_fulltab[:500]\n",
    "sns.distplot( short[\"CRISPR score \"] , color=\"skyblue\")\n",
    "plt.title('Top 500 Fugue ranked genes')"
   ]
  },
  {
   "cell_type": "code",
   "execution_count": 44,
   "metadata": {},
   "outputs": [
    {
     "data": {
      "text/plain": [
       "Text(0.5, 1.0, 'Top 500 Zscore ranked genes')"
      ]
     },
     "execution_count": 44,
     "metadata": {},
     "output_type": "execute_result"
    },
    {
     "data": {
      "image/png": "[encoded data removed]",
      "text/plain": [
       "<Figure size 432x288 with 1 Axes>"
      ]
     },
     "metadata": {
      "needs_background": "light"
     },
     "output_type": "display_data"
    }
   ],
   "source": [
    "ipsc_fulltab = ipsc_fulltab.sort_values(by=['Zscore_ranking'],ascending=False)\n",
    "short = ipsc_fulltab[:500]\n",
    "sns.distplot( short[\"CRISPR score \"] , color=\"olive\")\n",
    "plt.title('Top 500 Zscore ranked genes')"
   ]
  },
  {
   "cell_type": "markdown",
   "metadata": {},
   "source": [
    "# Checking Enrichment for essential stem cell genes\n",
    "gene list from this link - https://www.g3journal.org/highwire/filestream/485245/field_highwire_adjunct_files/1/TableS2.txt"
   ]
  },
  {
   "cell_type": "code",
   "execution_count": 27,
   "metadata": {},
   "outputs": [
    {
     "data": {
      "text/plain": [
       "3834"
      ]
     },
     "execution_count": 27,
     "metadata": {},
     "output_type": "execute_result"
    }
   ],
   "source": [
    "ipsc_genes = set(ipsc_prob_df['Gene'].tolist())\n",
    "len(ipsc_genes)"
   ]
  },
  {
   "cell_type": "code",
   "execution_count": 28,
   "metadata": {},
   "outputs": [
    {
     "data": {
      "text/html": [
       "<div>\n",
       "<style scoped>\n",
       "    .dataframe tbody tr th:only-of-type {\n",
       "        vertical-align: middle;\n",
       "    }\n",
       "\n",
       "    .dataframe tbody tr th {\n",
       "        vertical-align: top;\n",
       "    }\n",
       "\n",
       "    .dataframe thead th {\n",
       "        text-align: right;\n",
       "    }\n",
       "</style>\n",
       "<table border=\"1\" class=\"dataframe\">\n",
       "  <thead>\n",
       "    <tr style=\"text-align: right;\">\n",
       "      <th></th>\n",
       "      <th>Gene_name</th>\n",
       "      <th>HGNC</th>\n",
       "    </tr>\n",
       "  </thead>\n",
       "  <tbody>\n",
       "    <tr>\n",
       "      <th>0</th>\n",
       "      <td>AARS</td>\n",
       "      <td>HGNC:20</td>\n",
       "    </tr>\n",
       "    <tr>\n",
       "      <th>1</th>\n",
       "      <td>ABCE1</td>\n",
       "      <td>HGNC:69</td>\n",
       "    </tr>\n",
       "  </tbody>\n",
       "</table>\n",
       "</div>"
      ],
      "text/plain": [
       "  Gene_name     HGNC\n",
       "0      AARS  HGNC:20\n",
       "1     ABCE1  HGNC:69"
      ]
     },
     "execution_count": 28,
     "metadata": {},
     "output_type": "execute_result"
    }
   ],
   "source": [
    "essential_gene_df = pd.read_csv('./iPSC/TableS2.txt',sep='\\t',header = None)\n",
    "essential_gene_df = essential_gene_df.rename(columns={0:'Gene_name',1:'HGNC'})\n",
    "essential_gene_df.head(2)"
   ]
  },
  {
   "cell_type": "code",
   "execution_count": 29,
   "metadata": {},
   "outputs": [
    {
     "data": {
      "text/plain": [
       "(684, 2)"
      ]
     },
     "execution_count": 29,
     "metadata": {},
     "output_type": "execute_result"
    }
   ],
   "source": [
    "essential_gene_df.shape"
   ]
  },
  {
   "cell_type": "code",
   "execution_count": 30,
   "metadata": {},
   "outputs": [
    {
     "name": "stdout",
     "output_type": "stream",
     "text": [
      "251\n"
     ]
    }
   ],
   "source": [
    "essential_genes = set(essential_gene_df['Gene_name'].tolist()) & set(ipsc_genes)\n",
    "print(len(essential_genes))"
   ]
  },
  {
   "cell_type": "code",
   "execution_count": 31,
   "metadata": {},
   "outputs": [
    {
     "data": {
      "text/plain": [
       "3583"
      ]
     },
     "execution_count": 31,
     "metadata": {},
     "output_type": "execute_result"
    }
   ],
   "source": [
    "othergenes = ipsc_genes - essential_genes\n",
    "len(othergenes)"
   ]
  },
  {
   "cell_type": "code",
   "execution_count": 32,
   "metadata": {},
   "outputs": [
    {
     "data": {
      "text/html": [
       "<div>\n",
       "<style scoped>\n",
       "    .dataframe tbody tr th:only-of-type {\n",
       "        vertical-align: middle;\n",
       "    }\n",
       "\n",
       "    .dataframe tbody tr th {\n",
       "        vertical-align: top;\n",
       "    }\n",
       "\n",
       "    .dataframe thead th {\n",
       "        text-align: right;\n",
       "    }\n",
       "</style>\n",
       "<table border=\"1\" class=\"dataframe\">\n",
       "  <thead>\n",
       "    <tr style=\"text-align: right;\">\n",
       "      <th></th>\n",
       "      <th>Gene</th>\n",
       "      <th>Tissue</th>\n",
       "      <th>Probability</th>\n",
       "      <th>Prob_ranking</th>\n",
       "    </tr>\n",
       "  </thead>\n",
       "  <tbody>\n",
       "    <tr>\n",
       "      <th>662</th>\n",
       "      <td>COX11</td>\n",
       "      <td>iPSC</td>\n",
       "      <td>0.004623</td>\n",
       "      <td>0.076682</td>\n",
       "    </tr>\n",
       "    <tr>\n",
       "      <th>2153</th>\n",
       "      <td>NKAP</td>\n",
       "      <td>iPSC</td>\n",
       "      <td>0.004363</td>\n",
       "      <td>0.068336</td>\n",
       "    </tr>\n",
       "    <tr>\n",
       "      <th>1891</th>\n",
       "      <td>MED12</td>\n",
       "      <td>iPSC</td>\n",
       "      <td>0.004235</td>\n",
       "      <td>0.065206</td>\n",
       "    </tr>\n",
       "    <tr>\n",
       "      <th>3088</th>\n",
       "      <td>SNW1</td>\n",
       "      <td>iPSC</td>\n",
       "      <td>0.003608</td>\n",
       "      <td>0.049296</td>\n",
       "    </tr>\n",
       "    <tr>\n",
       "      <th>1036</th>\n",
       "      <td>ERCC3</td>\n",
       "      <td>iPSC</td>\n",
       "      <td>0.003583</td>\n",
       "      <td>0.048513</td>\n",
       "    </tr>\n",
       "    <tr>\n",
       "      <th>817</th>\n",
       "      <td>DGCR8</td>\n",
       "      <td>iPSC</td>\n",
       "      <td>0.003012</td>\n",
       "      <td>0.035733</td>\n",
       "    </tr>\n",
       "    <tr>\n",
       "      <th>850</th>\n",
       "      <td>DMAP1</td>\n",
       "      <td>iPSC</td>\n",
       "      <td>0.002516</td>\n",
       "      <td>0.026604</td>\n",
       "    </tr>\n",
       "    <tr>\n",
       "      <th>2236</th>\n",
       "      <td>NSF</td>\n",
       "      <td>iPSC</td>\n",
       "      <td>0.001869</td>\n",
       "      <td>0.013824</td>\n",
       "    </tr>\n",
       "    <tr>\n",
       "      <th>510</th>\n",
       "      <td>CDK9</td>\n",
       "      <td>iPSC</td>\n",
       "      <td>0.001686</td>\n",
       "      <td>0.011215</td>\n",
       "    </tr>\n",
       "    <tr>\n",
       "      <th>2033</th>\n",
       "      <td>MYC</td>\n",
       "      <td>iPSC</td>\n",
       "      <td>0.000807</td>\n",
       "      <td>0.001826</td>\n",
       "    </tr>\n",
       "  </tbody>\n",
       "</table>\n",
       "</div>"
      ],
      "text/plain": [
       "       Gene Tissue  Probability  Prob_ranking\n",
       "662   COX11   iPSC     0.004623      0.076682\n",
       "2153   NKAP   iPSC     0.004363      0.068336\n",
       "1891  MED12   iPSC     0.004235      0.065206\n",
       "3088   SNW1   iPSC     0.003608      0.049296\n",
       "1036  ERCC3   iPSC     0.003583      0.048513\n",
       "817   DGCR8   iPSC     0.003012      0.035733\n",
       "850   DMAP1   iPSC     0.002516      0.026604\n",
       "2236    NSF   iPSC     0.001869      0.013824\n",
       "510    CDK9   iPSC     0.001686      0.011215\n",
       "2033    MYC   iPSC     0.000807      0.001826"
      ]
     },
     "execution_count": 32,
     "metadata": {},
     "output_type": "execute_result"
    }
   ],
   "source": [
    "ipsc_prob_df[ipsc_prob_df['Gene'].isin(essential_genes)].tail(10)"
   ]
  },
  {
   "cell_type": "code",
   "execution_count": 33,
   "metadata": {},
   "outputs": [],
   "source": [
    "essential_list = []\n",
    "\n",
    "for index,row in ipsc_prob_df.iterrows():\n",
    "    if row['Gene'] in (essential_genes):\n",
    "        essential_list.append(1)\n",
    "    else:\n",
    "        essential_list.append(0)\n",
    "\n",
    "ipsc_prob_df['essential_gene'] =  essential_list      "
   ]
  },
  {
   "cell_type": "code",
   "execution_count": 34,
   "metadata": {},
   "outputs": [],
   "source": [
    "# ipsc_prob_df.to_csv('./iPSC/ipsc_prob_df.csv',index = False)"
   ]
  },
  {
   "cell_type": "code",
   "execution_count": 36,
   "metadata": {},
   "outputs": [
    {
     "data": {
      "text/html": [
       "<div>\n",
       "<style scoped>\n",
       "    .dataframe tbody tr th:only-of-type {\n",
       "        vertical-align: middle;\n",
       "    }\n",
       "\n",
       "    .dataframe tbody tr th {\n",
       "        vertical-align: top;\n",
       "    }\n",
       "\n",
       "    .dataframe thead th {\n",
       "        text-align: right;\n",
       "    }\n",
       "</style>\n",
       "<table border=\"1\" class=\"dataframe\">\n",
       "  <thead>\n",
       "    <tr style=\"text-align: right;\">\n",
       "      <th></th>\n",
       "      <th>Gene</th>\n",
       "      <th>Tissue</th>\n",
       "      <th>Probability</th>\n",
       "      <th>Prob_ranking</th>\n",
       "      <th>essential_gene</th>\n",
       "    </tr>\n",
       "  </thead>\n",
       "  <tbody>\n",
       "    <tr>\n",
       "      <th>0</th>\n",
       "      <td>UCHL1</td>\n",
       "      <td>iPSC</td>\n",
       "      <td>0.670096</td>\n",
       "      <td>1.000000</td>\n",
       "      <td>0</td>\n",
       "    </tr>\n",
       "    <tr>\n",
       "      <th>1</th>\n",
       "      <td>AAMP</td>\n",
       "      <td>iPSC</td>\n",
       "      <td>0.668656</td>\n",
       "      <td>0.999739</td>\n",
       "      <td>0</td>\n",
       "    </tr>\n",
       "    <tr>\n",
       "      <th>2</th>\n",
       "      <td>CD9</td>\n",
       "      <td>iPSC</td>\n",
       "      <td>0.530307</td>\n",
       "      <td>0.999478</td>\n",
       "      <td>0</td>\n",
       "    </tr>\n",
       "    <tr>\n",
       "      <th>3</th>\n",
       "      <td>WRN</td>\n",
       "      <td>iPSC</td>\n",
       "      <td>0.519672</td>\n",
       "      <td>0.999218</td>\n",
       "      <td>0</td>\n",
       "    </tr>\n",
       "    <tr>\n",
       "      <th>4</th>\n",
       "      <td>CKS2</td>\n",
       "      <td>iPSC</td>\n",
       "      <td>0.497037</td>\n",
       "      <td>0.998957</td>\n",
       "      <td>0</td>\n",
       "    </tr>\n",
       "  </tbody>\n",
       "</table>\n",
       "</div>"
      ],
      "text/plain": [
       "    Gene Tissue  Probability  Prob_ranking  essential_gene\n",
       "0  UCHL1   iPSC     0.670096      1.000000               0\n",
       "1   AAMP   iPSC     0.668656      0.999739               0\n",
       "2    CD9   iPSC     0.530307      0.999478               0\n",
       "3    WRN   iPSC     0.519672      0.999218               0\n",
       "4   CKS2   iPSC     0.497037      0.998957               0"
      ]
     },
     "execution_count": 36,
     "metadata": {},
     "output_type": "execute_result"
    }
   ],
   "source": [
    "ipsc_prob_df = pd.read_csv('./iPSC/ipsc_prob_df.csv')\n",
    "ipsc_prob_df.head()"
   ]
  },
  {
   "cell_type": "code",
   "execution_count": 37,
   "metadata": {},
   "outputs": [
    {
     "name": "stdout",
     "output_type": "stream",
     "text": [
      "(3834, 7)\n"
     ]
    },
    {
     "name": "stderr",
     "output_type": "stream",
     "text": [
      "/cmlscratch/gowthami/Anaconda3/envs/torch_projects/lib/python3.7/site-packages/ipykernel_launcher.py:2: SettingWithCopyWarning: \n",
      "A value is trying to be set on a copy of a slice from a DataFrame.\n",
      "Try using .loc[row_indexer,col_indexer] = value instead\n",
      "\n",
      "See the caveats in the documentation: http://pandas.pydata.org/pandas-docs/stable/user_guide/indexing.html#returning-a-view-versus-a-copy\n",
      "  \n"
     ]
    },
    {
     "data": {
      "text/html": [
       "<div>\n",
       "<style scoped>\n",
       "    .dataframe tbody tr th:only-of-type {\n",
       "        vertical-align: middle;\n",
       "    }\n",
       "\n",
       "    .dataframe tbody tr th {\n",
       "        vertical-align: top;\n",
       "    }\n",
       "\n",
       "    .dataframe thead th {\n",
       "        text-align: right;\n",
       "    }\n",
       "</style>\n",
       "<table border=\"1\" class=\"dataframe\">\n",
       "  <thead>\n",
       "    <tr style=\"text-align: right;\">\n",
       "      <th></th>\n",
       "      <th>Gene</th>\n",
       "      <th>Tissue</th>\n",
       "      <th>Probability</th>\n",
       "      <th>Prob_ranking</th>\n",
       "      <th>essential_gene</th>\n",
       "      <th>ZScore</th>\n",
       "      <th>zscore_pct_rank</th>\n",
       "    </tr>\n",
       "  </thead>\n",
       "  <tbody>\n",
       "    <tr>\n",
       "      <th>0</th>\n",
       "      <td>UCHL1</td>\n",
       "      <td>iPSC</td>\n",
       "      <td>0.670096</td>\n",
       "      <td>1.000000</td>\n",
       "      <td>0</td>\n",
       "      <td>2.210405</td>\n",
       "      <td>0.673448</td>\n",
       "    </tr>\n",
       "    <tr>\n",
       "      <th>1</th>\n",
       "      <td>AAMP</td>\n",
       "      <td>iPSC</td>\n",
       "      <td>0.668656</td>\n",
       "      <td>0.999739</td>\n",
       "      <td>0</td>\n",
       "      <td>1.685050</td>\n",
       "      <td>0.600417</td>\n",
       "    </tr>\n",
       "    <tr>\n",
       "      <th>2</th>\n",
       "      <td>CD9</td>\n",
       "      <td>iPSC</td>\n",
       "      <td>0.530307</td>\n",
       "      <td>0.999478</td>\n",
       "      <td>0</td>\n",
       "      <td>1.149646</td>\n",
       "      <td>0.497392</td>\n",
       "    </tr>\n",
       "    <tr>\n",
       "      <th>3</th>\n",
       "      <td>WRN</td>\n",
       "      <td>iPSC</td>\n",
       "      <td>0.519672</td>\n",
       "      <td>0.999218</td>\n",
       "      <td>0</td>\n",
       "      <td>3.025612</td>\n",
       "      <td>0.767866</td>\n",
       "    </tr>\n",
       "    <tr>\n",
       "      <th>4</th>\n",
       "      <td>CKS2</td>\n",
       "      <td>iPSC</td>\n",
       "      <td>0.497037</td>\n",
       "      <td>0.998957</td>\n",
       "      <td>0</td>\n",
       "      <td>4.846468</td>\n",
       "      <td>0.942358</td>\n",
       "    </tr>\n",
       "  </tbody>\n",
       "</table>\n",
       "</div>"
      ],
      "text/plain": [
       "    Gene Tissue  Probability  Prob_ranking  essential_gene    ZScore  \\\n",
       "0  UCHL1   iPSC     0.670096      1.000000               0  2.210405   \n",
       "1   AAMP   iPSC     0.668656      0.999739               0  1.685050   \n",
       "2    CD9   iPSC     0.530307      0.999478               0  1.149646   \n",
       "3    WRN   iPSC     0.519672      0.999218               0  3.025612   \n",
       "4   CKS2   iPSC     0.497037      0.998957               0  4.846468   \n",
       "\n",
       "   zscore_pct_rank  \n",
       "0         0.673448  \n",
       "1         0.600417  \n",
       "2         0.497392  \n",
       "3         0.767866  \n",
       "4         0.942358  "
      ]
     },
     "execution_count": 37,
     "metadata": {},
     "output_type": "execute_result"
    }
   ],
   "source": [
    "gt_short = gt_param_df_ipsc[['Gene','ZScore','Tissue']]\n",
    "gt_short['zscore_pct_rank'] = gt_short.groupby('Tissue')['ZScore'].rank(ascending = True, pct = True)\n",
    "\n",
    "ipsc_prob_df = ipsc_prob_df.merge(gt_short, left_on=['Gene','Tissue'], right_on= ['Gene','Tissue'])\n",
    "print(ipsc_prob_df.shape)\n",
    "ipsc_prob_df.head()"
   ]
  },
  {
   "cell_type": "code",
   "execution_count": 39,
   "metadata": {},
   "outputs": [
    {
     "data": {
      "text/plain": [
       "0.9999999475451109"
      ]
     },
     "execution_count": 39,
     "metadata": {},
     "output_type": "execute_result"
    }
   ],
   "source": [
    "fugue_ranks = ipsc_prob_df[ipsc_prob_df['essential_gene']==1]['Prob_ranking'].tolist()\n",
    "zscore_ranks = ipsc_prob_df[ipsc_prob_df['essential_gene']==1]['zscore_pct_rank'].tolist()\n",
    "scipy.stats.wilcoxon(fugue_ranks, zscore_ranks, zero_method='wilcox',alternative='greater')[1]"
   ]
  },
  {
   "cell_type": "code",
   "execution_count": 40,
   "metadata": {},
   "outputs": [
    {
     "data": {
      "text/plain": [
       "Text(0.5, 0, 'iPSC')"
      ]
     },
     "execution_count": 40,
     "metadata": {},
     "output_type": "execute_result"
    },
    {
     "data": {
      "image/png": "[encoded data removed]",
      "text/plain": [
       "<Figure size 432x288 with 1 Axes>"
      ]
     },
     "metadata": {
      "needs_background": "light"
     },
     "output_type": "display_data"
    }
   ],
   "source": [
    "ranks  = [fugue_ranks,zscore_ranks]\n",
    "\n",
    "names = ['fugue_ranks', 'zscore_ranks']\n",
    "ax = sns.boxplot(data=ranks,palette=\"husl\")\n",
    "ax.set(xticklabels=names)\n",
    "plt.xlabel(str(tissue))"
   ]
  },
  {
   "cell_type": "code",
   "execution_count": 41,
   "metadata": {},
   "outputs": [
    {
     "name": "stdout",
     "output_type": "stream",
     "text": [
      "251\n",
      "MannwhitneyuResult(statistic=316103.0, pvalue=1.6589996670051466e-15)\n"
     ]
    },
    {
     "data": {
      "text/plain": [
       "Text(0, 0.5, 'FUGUE ranks')"
      ]
     },
     "execution_count": 41,
     "metadata": {},
     "output_type": "execute_result"
    },
    {
     "data": {
      "image/png": "[encoded data removed]",
      "text/plain": [
       "<Figure size 576x576 with 1 Axes>"
      ]
     },
     "metadata": {
      "needs_background": "light"
     },
     "output_type": "display_data"
    }
   ],
   "source": [
    "ax = plt.figure(figsize=(8,8))\n",
    "\n",
    "essential_list = ipsc_prob_df[ipsc_prob_df['Gene'].isin(essential_genes)]['Prob_ranking'].tolist()\n",
    "print(len(essential_list))\n",
    "othergenes_list = ipsc_prob_df[ipsc_prob_df['Gene'].isin(othergenes)]['Prob_ranking'].tolist()\n",
    "\n",
    "print(scipy.stats.mannwhitneyu(othergenes_list, essential_list, use_continuity=True, alternative='less'))\n",
    "\n",
    "# ranks  = [essential_list,othergenes_list]\n",
    "# names = ['Essential genes', 'Other genes']\n",
    "\n",
    "ranks  = [essential_list]\n",
    "names = ['Essential genes']\n",
    "\n",
    "ax = sns.boxplot(data=ranks,color = 'plum')\n",
    "ax.set(xticklabels=names)\n",
    "ax.tick_params(labelsize=15)\n",
    "\n",
    "ax.axhline(0.5, ls='--')\n",
    "ax.text(0.1,0.505, \"Random Expectation\",fontsize=17)\n",
    "\n",
    "plt.title('FUGUE ranks of essential genes in iPSC tissue',fontsize=25)\n",
    "\n",
    "plt.xlabel('',fontsize=25)\n",
    "plt.ylabel('FUGUE ranks',fontsize=25)\n",
    "# plt.rc('axes', titlesize=12) "
   ]
  },
  {
   "cell_type": "code",
   "execution_count": 36,
   "metadata": {},
   "outputs": [
    {
     "name": "stdout",
     "output_type": "stream",
     "text": [
      "MannwhitneyuResult(statistic=212690.0, pvalue=1.0585058103787904e-44)\n"
     ]
    },
    {
     "data": {
      "text/plain": [
       "Text(0.5, 1.0, 'Percentile rank comparision btw essential genes & other genes in iPSC tissue (p-val = 1.05e-44)')"
      ]
     },
     "execution_count": 36,
     "metadata": {},
     "output_type": "execute_result"
    },
    {
     "data": {
      "image/png": "[encoded data removed]",
      "text/plain": [
       "<Figure size 1080x576 with 1 Axes>"
      ]
     },
     "metadata": {
      "needs_background": "light"
     },
     "output_type": "display_data"
    }
   ],
   "source": [
    "# ax = plt.figure(figsize=(15,8))\n",
    "\n",
    "# essential_list = ipsc_prob_df[ipsc_prob_df['Gene'].isin(essential_genes)]['Prob_ranking'].tolist()\n",
    "# othergenes_list = ipsc_prob_df[ipsc_prob_df['Gene'].isin(othergenes)]['Prob_ranking'].tolist()\n",
    "\n",
    "# print(scipy.stats.mannwhitneyu(othergenes_list, essential_list, use_continuity=True, alternative='less'))\n",
    "# p1=sns.kdeplot(essential_list, shade=True, color=\"darkcyan\",label = 'Essential gene percentile ranks')\n",
    "# p1=sns.kdeplot(othergenes_list, shade=True, color=\"coral\", label = 'Other genes percentile ranks')\n",
    "\n",
    "# plt.legend(loc='upper left')\n",
    "\n",
    "# plt.title('Percentile rank comparision btw essential genes & other genes in iPSC tissue (p-val = 1.05e-44)')"
   ]
  },
  {
   "cell_type": "markdown",
   "metadata": {},
   "source": [
    "# Using another list of genes\n",
    "Paper - https://www.nature.com/articles/s41556-018-0088-1#Sec33\n",
    "\n",
    "Link - https://static-content.springer.com/esm/art%3A10.1038%2Fs41556-018-0088-1/MediaObjects/41556_2018_88_MOESM5_ESM.xlsx"
   ]
  },
  {
   "cell_type": "code",
   "execution_count": 46,
   "metadata": {},
   "outputs": [
    {
     "data": {
      "text/plain": [
       "3834"
      ]
     },
     "execution_count": 46,
     "metadata": {},
     "output_type": "execute_result"
    }
   ],
   "source": [
    "ipsc_genes = set(ipsc_prob_df['Gene'].tolist())\n",
    "len(ipsc_genes)"
   ]
  },
  {
   "cell_type": "code",
   "execution_count": 49,
   "metadata": {},
   "outputs": [
    {
     "ename": "FileNotFoundError",
     "evalue": "[Errno 2] No such file or directory: '/cmlscratch/gowthami/GTF/GTF_Project_v2/iPSC/41556_2018_88_MOESM5_ESM.xlsx'",
     "output_type": "error",
     "traceback": [
      "\u001b[0;31m---------------------------------------------------------------------------\u001b[0m",
      "\u001b[0;31mFileNotFoundError\u001b[0m                         Traceback (most recent call last)",
      "\u001b[0;32m<ipython-input-49-5e40b4a96766>\u001b[0m in \u001b[0;36m<module>\u001b[0;34m\u001b[0m\n\u001b[0;32m----> 1\u001b[0;31m \u001b[0messential_gene_df\u001b[0m \u001b[0;34m=\u001b[0m \u001b[0mpd\u001b[0m\u001b[0;34m.\u001b[0m\u001b[0mread_excel\u001b[0m\u001b[0;34m(\u001b[0m\u001b[0;34m'/cmlscratch/gowthami/GTF/GTF_Project_v2/iPSC/41556_2018_88_MOESM5_ESM.xlsx'\u001b[0m\u001b[0;34m,\u001b[0m\u001b[0msep\u001b[0m\u001b[0;34m=\u001b[0m\u001b[0;34m'\\t'\u001b[0m\u001b[0;34m)\u001b[0m\u001b[0;34m\u001b[0m\u001b[0;34m\u001b[0m\u001b[0m\n\u001b[0m\u001b[1;32m      2\u001b[0m \u001b[0messential_gene_df\u001b[0m\u001b[0;34m.\u001b[0m\u001b[0mhead\u001b[0m\u001b[0;34m(\u001b[0m\u001b[0;36m2\u001b[0m\u001b[0;34m)\u001b[0m\u001b[0;34m\u001b[0m\u001b[0;34m\u001b[0m\u001b[0m\n",
      "\u001b[0;32m~/.local/lib/python3.7/site-packages/pandas/util/_decorators.py\u001b[0m in \u001b[0;36mwrapper\u001b[0;34m(*args, **kwargs)\u001b[0m\n\u001b[1;32m    206\u001b[0m                 \u001b[0;32melse\u001b[0m\u001b[0;34m:\u001b[0m\u001b[0;34m\u001b[0m\u001b[0;34m\u001b[0m\u001b[0m\n\u001b[1;32m    207\u001b[0m                     \u001b[0mkwargs\u001b[0m\u001b[0;34m[\u001b[0m\u001b[0mnew_arg_name\u001b[0m\u001b[0;34m]\u001b[0m \u001b[0;34m=\u001b[0m \u001b[0mnew_arg_value\u001b[0m\u001b[0;34m\u001b[0m\u001b[0;34m\u001b[0m\u001b[0m\n\u001b[0;32m--> 208\u001b[0;31m             \u001b[0;32mreturn\u001b[0m \u001b[0mfunc\u001b[0m\u001b[0;34m(\u001b[0m\u001b[0;34m*\u001b[0m\u001b[0margs\u001b[0m\u001b[0;34m,\u001b[0m \u001b[0;34m**\u001b[0m\u001b[0mkwargs\u001b[0m\u001b[0;34m)\u001b[0m\u001b[0;34m\u001b[0m\u001b[0;34m\u001b[0m\u001b[0m\n\u001b[0m\u001b[1;32m    209\u001b[0m \u001b[0;34m\u001b[0m\u001b[0m\n\u001b[1;32m    210\u001b[0m         \u001b[0;32mreturn\u001b[0m \u001b[0mwrapper\u001b[0m\u001b[0;34m\u001b[0m\u001b[0;34m\u001b[0m\u001b[0m\n",
      "\u001b[0;32m~/.local/lib/python3.7/site-packages/pandas/io/excel/_base.py\u001b[0m in \u001b[0;36mread_excel\u001b[0;34m(io, sheet_name, header, names, index_col, usecols, squeeze, dtype, engine, converters, true_values, false_values, skiprows, nrows, na_values, keep_default_na, verbose, parse_dates, date_parser, thousands, comment, skip_footer, skipfooter, convert_float, mangle_dupe_cols, **kwds)\u001b[0m\n\u001b[1;32m    308\u001b[0m \u001b[0;34m\u001b[0m\u001b[0m\n\u001b[1;32m    309\u001b[0m     \u001b[0;32mif\u001b[0m \u001b[0;32mnot\u001b[0m \u001b[0misinstance\u001b[0m\u001b[0;34m(\u001b[0m\u001b[0mio\u001b[0m\u001b[0;34m,\u001b[0m \u001b[0mExcelFile\u001b[0m\u001b[0;34m)\u001b[0m\u001b[0;34m:\u001b[0m\u001b[0;34m\u001b[0m\u001b[0;34m\u001b[0m\u001b[0m\n\u001b[0;32m--> 310\u001b[0;31m         \u001b[0mio\u001b[0m \u001b[0;34m=\u001b[0m \u001b[0mExcelFile\u001b[0m\u001b[0;34m(\u001b[0m\u001b[0mio\u001b[0m\u001b[0;34m,\u001b[0m \u001b[0mengine\u001b[0m\u001b[0;34m=\u001b[0m\u001b[0mengine\u001b[0m\u001b[0;34m)\u001b[0m\u001b[0;34m\u001b[0m\u001b[0;34m\u001b[0m\u001b[0m\n\u001b[0m\u001b[1;32m    311\u001b[0m     \u001b[0;32melif\u001b[0m \u001b[0mengine\u001b[0m \u001b[0;32mand\u001b[0m \u001b[0mengine\u001b[0m \u001b[0;34m!=\u001b[0m \u001b[0mio\u001b[0m\u001b[0;34m.\u001b[0m\u001b[0mengine\u001b[0m\u001b[0;34m:\u001b[0m\u001b[0;34m\u001b[0m\u001b[0;34m\u001b[0m\u001b[0m\n\u001b[1;32m    312\u001b[0m         raise ValueError(\n",
      "\u001b[0;32m~/.local/lib/python3.7/site-packages/pandas/io/excel/_base.py\u001b[0m in \u001b[0;36m__init__\u001b[0;34m(self, io, engine)\u001b[0m\n\u001b[1;32m    817\u001b[0m         \u001b[0mself\u001b[0m\u001b[0;34m.\u001b[0m\u001b[0m_io\u001b[0m \u001b[0;34m=\u001b[0m \u001b[0m_stringify_path\u001b[0m\u001b[0;34m(\u001b[0m\u001b[0mio\u001b[0m\u001b[0;34m)\u001b[0m\u001b[0;34m\u001b[0m\u001b[0;34m\u001b[0m\u001b[0m\n\u001b[1;32m    818\u001b[0m \u001b[0;34m\u001b[0m\u001b[0m\n\u001b[0;32m--> 819\u001b[0;31m         \u001b[0mself\u001b[0m\u001b[0;34m.\u001b[0m\u001b[0m_reader\u001b[0m \u001b[0;34m=\u001b[0m \u001b[0mself\u001b[0m\u001b[0;34m.\u001b[0m\u001b[0m_engines\u001b[0m\u001b[0;34m[\u001b[0m\u001b[0mengine\u001b[0m\u001b[0;34m]\u001b[0m\u001b[0;34m(\u001b[0m\u001b[0mself\u001b[0m\u001b[0;34m.\u001b[0m\u001b[0m_io\u001b[0m\u001b[0;34m)\u001b[0m\u001b[0;34m\u001b[0m\u001b[0;34m\u001b[0m\u001b[0m\n\u001b[0m\u001b[1;32m    820\u001b[0m \u001b[0;34m\u001b[0m\u001b[0m\n\u001b[1;32m    821\u001b[0m     \u001b[0;32mdef\u001b[0m \u001b[0m__fspath__\u001b[0m\u001b[0;34m(\u001b[0m\u001b[0mself\u001b[0m\u001b[0;34m)\u001b[0m\u001b[0;34m:\u001b[0m\u001b[0;34m\u001b[0m\u001b[0;34m\u001b[0m\u001b[0m\n",
      "\u001b[0;32m~/.local/lib/python3.7/site-packages/pandas/io/excel/_xlrd.py\u001b[0m in \u001b[0;36m__init__\u001b[0;34m(self, filepath_or_buffer)\u001b[0m\n\u001b[1;32m     19\u001b[0m         \u001b[0merr_msg\u001b[0m \u001b[0;34m=\u001b[0m \u001b[0;34m\"Install xlrd >= 1.0.0 for Excel support\"\u001b[0m\u001b[0;34m\u001b[0m\u001b[0;34m\u001b[0m\u001b[0m\n\u001b[1;32m     20\u001b[0m         \u001b[0mimport_optional_dependency\u001b[0m\u001b[0;34m(\u001b[0m\u001b[0;34m\"xlrd\"\u001b[0m\u001b[0;34m,\u001b[0m \u001b[0mextra\u001b[0m\u001b[0;34m=\u001b[0m\u001b[0merr_msg\u001b[0m\u001b[0;34m)\u001b[0m\u001b[0;34m\u001b[0m\u001b[0;34m\u001b[0m\u001b[0m\n\u001b[0;32m---> 21\u001b[0;31m         \u001b[0msuper\u001b[0m\u001b[0;34m(\u001b[0m\u001b[0;34m)\u001b[0m\u001b[0;34m.\u001b[0m\u001b[0m__init__\u001b[0m\u001b[0;34m(\u001b[0m\u001b[0mfilepath_or_buffer\u001b[0m\u001b[0;34m)\u001b[0m\u001b[0;34m\u001b[0m\u001b[0;34m\u001b[0m\u001b[0m\n\u001b[0m\u001b[1;32m     22\u001b[0m \u001b[0;34m\u001b[0m\u001b[0m\n\u001b[1;32m     23\u001b[0m     \u001b[0;34m@\u001b[0m\u001b[0mproperty\u001b[0m\u001b[0;34m\u001b[0m\u001b[0;34m\u001b[0m\u001b[0m\n",
      "\u001b[0;32m~/.local/lib/python3.7/site-packages/pandas/io/excel/_base.py\u001b[0m in \u001b[0;36m__init__\u001b[0;34m(self, filepath_or_buffer)\u001b[0m\n\u001b[1;32m    357\u001b[0m             \u001b[0mself\u001b[0m\u001b[0;34m.\u001b[0m\u001b[0mbook\u001b[0m \u001b[0;34m=\u001b[0m \u001b[0mself\u001b[0m\u001b[0;34m.\u001b[0m\u001b[0mload_workbook\u001b[0m\u001b[0;34m(\u001b[0m\u001b[0mfilepath_or_buffer\u001b[0m\u001b[0;34m)\u001b[0m\u001b[0;34m\u001b[0m\u001b[0;34m\u001b[0m\u001b[0m\n\u001b[1;32m    358\u001b[0m         \u001b[0;32melif\u001b[0m \u001b[0misinstance\u001b[0m\u001b[0;34m(\u001b[0m\u001b[0mfilepath_or_buffer\u001b[0m\u001b[0;34m,\u001b[0m \u001b[0mstr\u001b[0m\u001b[0;34m)\u001b[0m\u001b[0;34m:\u001b[0m\u001b[0;34m\u001b[0m\u001b[0;34m\u001b[0m\u001b[0m\n\u001b[0;32m--> 359\u001b[0;31m             \u001b[0mself\u001b[0m\u001b[0;34m.\u001b[0m\u001b[0mbook\u001b[0m \u001b[0;34m=\u001b[0m \u001b[0mself\u001b[0m\u001b[0;34m.\u001b[0m\u001b[0mload_workbook\u001b[0m\u001b[0;34m(\u001b[0m\u001b[0mfilepath_or_buffer\u001b[0m\u001b[0;34m)\u001b[0m\u001b[0;34m\u001b[0m\u001b[0;34m\u001b[0m\u001b[0m\n\u001b[0m\u001b[1;32m    360\u001b[0m         \u001b[0;32melse\u001b[0m\u001b[0;34m:\u001b[0m\u001b[0;34m\u001b[0m\u001b[0;34m\u001b[0m\u001b[0m\n\u001b[1;32m    361\u001b[0m             raise ValueError(\n",
      "\u001b[0;32m~/.local/lib/python3.7/site-packages/pandas/io/excel/_xlrd.py\u001b[0m in \u001b[0;36mload_workbook\u001b[0;34m(self, filepath_or_buffer)\u001b[0m\n\u001b[1;32m     34\u001b[0m             \u001b[0;32mreturn\u001b[0m \u001b[0mopen_workbook\u001b[0m\u001b[0;34m(\u001b[0m\u001b[0mfile_contents\u001b[0m\u001b[0;34m=\u001b[0m\u001b[0mdata\u001b[0m\u001b[0;34m)\u001b[0m\u001b[0;34m\u001b[0m\u001b[0;34m\u001b[0m\u001b[0m\n\u001b[1;32m     35\u001b[0m         \u001b[0;32melse\u001b[0m\u001b[0;34m:\u001b[0m\u001b[0;34m\u001b[0m\u001b[0;34m\u001b[0m\u001b[0m\n\u001b[0;32m---> 36\u001b[0;31m             \u001b[0;32mreturn\u001b[0m \u001b[0mopen_workbook\u001b[0m\u001b[0;34m(\u001b[0m\u001b[0mfilepath_or_buffer\u001b[0m\u001b[0;34m)\u001b[0m\u001b[0;34m\u001b[0m\u001b[0;34m\u001b[0m\u001b[0m\n\u001b[0m\u001b[1;32m     37\u001b[0m \u001b[0;34m\u001b[0m\u001b[0m\n\u001b[1;32m     38\u001b[0m     \u001b[0;34m@\u001b[0m\u001b[0mproperty\u001b[0m\u001b[0;34m\u001b[0m\u001b[0;34m\u001b[0m\u001b[0m\n",
      "\u001b[0;32m/cmlscratch/gowthami/Anaconda3/envs/torch_projects/lib/python3.7/site-packages/xlrd/__init__.py\u001b[0m in \u001b[0;36mopen_workbook\u001b[0;34m(filename, logfile, verbosity, use_mmap, file_contents, encoding_override, formatting_info, on_demand, ragged_rows)\u001b[0m\n\u001b[1;32m    109\u001b[0m     \u001b[0;32melse\u001b[0m\u001b[0;34m:\u001b[0m\u001b[0;34m\u001b[0m\u001b[0;34m\u001b[0m\u001b[0m\n\u001b[1;32m    110\u001b[0m         \u001b[0mfilename\u001b[0m \u001b[0;34m=\u001b[0m \u001b[0mos\u001b[0m\u001b[0;34m.\u001b[0m\u001b[0mpath\u001b[0m\u001b[0;34m.\u001b[0m\u001b[0mexpanduser\u001b[0m\u001b[0;34m(\u001b[0m\u001b[0mfilename\u001b[0m\u001b[0;34m)\u001b[0m\u001b[0;34m\u001b[0m\u001b[0;34m\u001b[0m\u001b[0m\n\u001b[0;32m--> 111\u001b[0;31m         \u001b[0;32mwith\u001b[0m \u001b[0mopen\u001b[0m\u001b[0;34m(\u001b[0m\u001b[0mfilename\u001b[0m\u001b[0;34m,\u001b[0m \u001b[0;34m\"rb\"\u001b[0m\u001b[0;34m)\u001b[0m \u001b[0;32mas\u001b[0m \u001b[0mf\u001b[0m\u001b[0;34m:\u001b[0m\u001b[0;34m\u001b[0m\u001b[0;34m\u001b[0m\u001b[0m\n\u001b[0m\u001b[1;32m    112\u001b[0m             \u001b[0mpeek\u001b[0m \u001b[0;34m=\u001b[0m \u001b[0mf\u001b[0m\u001b[0;34m.\u001b[0m\u001b[0mread\u001b[0m\u001b[0;34m(\u001b[0m\u001b[0mpeeksz\u001b[0m\u001b[0;34m)\u001b[0m\u001b[0;34m\u001b[0m\u001b[0;34m\u001b[0m\u001b[0m\n\u001b[1;32m    113\u001b[0m     \u001b[0;32mif\u001b[0m \u001b[0mpeek\u001b[0m \u001b[0;34m==\u001b[0m \u001b[0;34mb\"PK\\x03\\x04\"\u001b[0m\u001b[0;34m:\u001b[0m \u001b[0;31m# a ZIP file\u001b[0m\u001b[0;34m\u001b[0m\u001b[0;34m\u001b[0m\u001b[0m\n",
      "\u001b[0;31mFileNotFoundError\u001b[0m: [Errno 2] No such file or directory: '/cmlscratch/gowthami/GTF/GTF_Project_v2/iPSC/41556_2018_88_MOESM5_ESM.xlsx'"
     ]
    }
   ],
   "source": [
    "essential_gene_df = pd.read_excel('/cmlscratch/gowthami/GTF/GTF_Project_v2/iPSC/41556_2018_88_MOESM5_ESM.xlsx',sep='\\t')\n",
    "essential_gene_df.head(2)"
   ]
  },
  {
   "cell_type": "code",
   "execution_count": 51,
   "metadata": {},
   "outputs": [],
   "source": [
    "essential_genes = set(essential_gene_df['Gene symbol'].tolist())"
   ]
  },
  {
   "cell_type": "code",
   "execution_count": 52,
   "metadata": {
    "scrolled": true
   },
   "outputs": [
    {
     "name": "stdout",
     "output_type": "stream",
     "text": [
      "51\n"
     ]
    },
    {
     "data": {
      "text/plain": [
       "{'AUNIP',\n",
       " 'BRIP1',\n",
       " 'CDC25A',\n",
       " 'CHAF1A',\n",
       " 'CSE1L',\n",
       " 'DSCC1',\n",
       " 'ERCC6L',\n",
       " 'FAM71F1',\n",
       " 'GINS2',\n",
       " 'IGF2BP1',\n",
       " 'JARID2',\n",
       " 'LIN28B',\n",
       " 'MIS18A',\n",
       " 'MYBL2',\n",
       " 'POLA1',\n",
       " 'POU5F1',\n",
       " 'PRDM14',\n",
       " 'SEPHS1',\n",
       " 'SLC7A5',\n",
       " 'TRIM71',\n",
       " 'VRTN',\n",
       " 'ZNF730',\n",
       " nan}"
      ]
     },
     "execution_count": 52,
     "metadata": {},
     "output_type": "execute_result"
    }
   ],
   "source": [
    "print(len(set(essential_gene_df['Gene symbol'].tolist())))\n",
    "\n",
    "set(essential_gene_df['Gene symbol'].tolist()) - ipsc_genes"
   ]
  },
  {
   "cell_type": "code",
   "execution_count": 53,
   "metadata": {},
   "outputs": [
    {
     "name": "stdout",
     "output_type": "stream",
     "text": [
      "51\n",
      "28\n",
      "3806\n"
     ]
    }
   ],
   "source": [
    "print(len(essential_genes))\n",
    "common_genes = set(essential_genes) & set(ipsc_genes)\n",
    "print(len(common_genes))\n",
    "othergenes = ipsc_genes - essential_genes\n",
    "print(len(othergenes))"
   ]
  },
  {
   "cell_type": "code",
   "execution_count": 54,
   "metadata": {},
   "outputs": [
    {
     "name": "stdout",
     "output_type": "stream",
     "text": [
      "MannwhitneyuResult(statistic=42309.0, pvalue=0.030018233281407646)\n"
     ]
    },
    {
     "data": {
      "image/png": "[encoded data removed]",
      "text/plain": [
       "<Figure size 2880x1440 with 1 Axes>"
      ]
     },
     "metadata": {
      "needs_background": "light"
     },
     "output_type": "display_data"
    }
   ],
   "source": [
    "essential_list = ipsc_prob_df[ipsc_prob_df['Gene'].isin(essential_genes)]['Probability'].tolist()\n",
    "othergenes_list = ipsc_prob_df[ipsc_prob_df['Gene'].isin(othergenes)]['Probability'].tolist()\n",
    "\n",
    "print(scipy.stats.mannwhitneyu(othergenes_list, essential_list, use_continuity=True, alternative='less'))\n",
    "p1=sns.kdeplot(essential_list, shade=True, color=\"r\")\n",
    "p1=sns.kdeplot(othergenes_list, shade=True, color=\"b\")"
   ]
  },
  {
   "cell_type": "markdown",
   "metadata": {},
   "source": [
    "# Comparing model ranking vs Zscore ranking"
   ]
  },
  {
   "cell_type": "code",
   "execution_count": 28,
   "metadata": {},
   "outputs": [
    {
     "data": {
      "text/html": [
       "<div>\n",
       "<style scoped>\n",
       "    .dataframe tbody tr th:only-of-type {\n",
       "        vertical-align: middle;\n",
       "    }\n",
       "\n",
       "    .dataframe tbody tr th {\n",
       "        vertical-align: top;\n",
       "    }\n",
       "\n",
       "    .dataframe thead th {\n",
       "        text-align: right;\n",
       "    }\n",
       "</style>\n",
       "<table border=\"1\" class=\"dataframe\">\n",
       "  <thead>\n",
       "    <tr style=\"text-align: right;\">\n",
       "      <th></th>\n",
       "      <th>Gene</th>\n",
       "      <th>Tissue</th>\n",
       "      <th>Probability</th>\n",
       "    </tr>\n",
       "  </thead>\n",
       "  <tbody>\n",
       "    <tr>\n",
       "      <th>4098</th>\n",
       "      <td>TFCP2</td>\n",
       "      <td>iPSC</td>\n",
       "      <td>0.991503</td>\n",
       "    </tr>\n",
       "    <tr>\n",
       "      <th>2629</th>\n",
       "      <td>NFYC</td>\n",
       "      <td>iPSC</td>\n",
       "      <td>0.991500</td>\n",
       "    </tr>\n",
       "    <tr>\n",
       "      <th>4072</th>\n",
       "      <td>TEAD4</td>\n",
       "      <td>iPSC</td>\n",
       "      <td>0.990456</td>\n",
       "    </tr>\n",
       "    <tr>\n",
       "      <th>4270</th>\n",
       "      <td>TRRAP</td>\n",
       "      <td>iPSC</td>\n",
       "      <td>0.989830</td>\n",
       "    </tr>\n",
       "    <tr>\n",
       "      <th>588</th>\n",
       "      <td>CDC5L</td>\n",
       "      <td>iPSC</td>\n",
       "      <td>0.989513</td>\n",
       "    </tr>\n",
       "  </tbody>\n",
       "</table>\n",
       "</div>"
      ],
      "text/plain": [
       "       Gene Tissue  Probability\n",
       "4098  TFCP2   iPSC     0.991503\n",
       "2629   NFYC   iPSC     0.991500\n",
       "4072  TEAD4   iPSC     0.990456\n",
       "4270  TRRAP   iPSC     0.989830\n",
       "588   CDC5L   iPSC     0.989513"
      ]
     },
     "execution_count": 28,
     "metadata": {},
     "output_type": "execute_result"
    }
   ],
   "source": [
    "ipsc_prob_df.head()"
   ]
  },
  {
   "cell_type": "code",
   "execution_count": 38,
   "metadata": {},
   "outputs": [
    {
     "data": {
      "text/plain": [
       "Index(['Gene', 'Tissue', 'Probability'], dtype='object')"
      ]
     },
     "execution_count": 38,
     "metadata": {},
     "output_type": "execute_result"
    }
   ],
   "source": [
    "ipsc_prob_df.columns"
   ]
  },
  {
   "cell_type": "code",
   "execution_count": 42,
   "metadata": {},
   "outputs": [],
   "source": [
    "zscore_dict = {}\n",
    "\n",
    "for index,row in gt_param_df_ipsc.iterrows():\n",
    "    gene = row['Gene']\n",
    "    zscore = row['ZScore']\n",
    "    zscore_dict[gene] = zscore"
   ]
  },
  {
   "cell_type": "code",
   "execution_count": 43,
   "metadata": {},
   "outputs": [
    {
     "name": "stdout",
     "output_type": "stream",
     "text": [
      "(3834, 6)\n"
     ]
    },
    {
     "name": "stderr",
     "output_type": "stream",
     "text": [
      "/cmlscratch/gowthami/Anaconda3/envs/torch_projects/lib/python3.7/site-packages/ipykernel_launcher.py:2: SettingWithCopyWarning: \n",
      "A value is trying to be set on a copy of a slice from a DataFrame.\n",
      "Try using .loc[row_indexer,col_indexer] = value instead\n",
      "\n",
      "See the caveats in the documentation: http://pandas.pydata.org/pandas-docs/stable/user_guide/indexing.html#returning-a-view-versus-a-copy\n",
      "  \n",
      "/cmlscratch/gowthami/Anaconda3/envs/torch_projects/lib/python3.7/site-packages/ipykernel_launcher.py:3: SettingWithCopyWarning: \n",
      "A value is trying to be set on a copy of a slice from a DataFrame.\n",
      "Try using .loc[row_indexer,col_indexer] = value instead\n",
      "\n",
      "See the caveats in the documentation: http://pandas.pydata.org/pandas-docs/stable/user_guide/indexing.html#returning-a-view-versus-a-copy\n",
      "  This is separate from the ipykernel package so we can avoid doing imports until\n",
      "/cmlscratch/gowthami/Anaconda3/envs/torch_projects/lib/python3.7/site-packages/ipykernel_launcher.py:4: SettingWithCopyWarning: \n",
      "A value is trying to be set on a copy of a slice from a DataFrame.\n",
      "Try using .loc[row_indexer,col_indexer] = value instead\n",
      "\n",
      "See the caveats in the documentation: http://pandas.pydata.org/pandas-docs/stable/user_guide/indexing.html#returning-a-view-versus-a-copy\n",
      "  after removing the cwd from sys.path.\n"
     ]
    },
    {
     "data": {
      "text/html": [
       "<div>\n",
       "<style scoped>\n",
       "    .dataframe tbody tr th:only-of-type {\n",
       "        vertical-align: middle;\n",
       "    }\n",
       "\n",
       "    .dataframe tbody tr th {\n",
       "        vertical-align: top;\n",
       "    }\n",
       "\n",
       "    .dataframe thead th {\n",
       "        text-align: right;\n",
       "    }\n",
       "</style>\n",
       "<table border=\"1\" class=\"dataframe\">\n",
       "  <thead>\n",
       "    <tr style=\"text-align: right;\">\n",
       "      <th></th>\n",
       "      <th>Gene</th>\n",
       "      <th>Tissue</th>\n",
       "      <th>Probability</th>\n",
       "      <th>Zscore</th>\n",
       "      <th>model_rank</th>\n",
       "      <th>zscore_rank</th>\n",
       "    </tr>\n",
       "  </thead>\n",
       "  <tbody>\n",
       "    <tr>\n",
       "      <th>0</th>\n",
       "      <td>UCHL1</td>\n",
       "      <td>iPSC</td>\n",
       "      <td>0.670096</td>\n",
       "      <td>2.210405</td>\n",
       "      <td>1.0</td>\n",
       "      <td>1253.0</td>\n",
       "    </tr>\n",
       "    <tr>\n",
       "      <th>1</th>\n",
       "      <td>AAMP</td>\n",
       "      <td>iPSC</td>\n",
       "      <td>0.668656</td>\n",
       "      <td>1.685050</td>\n",
       "      <td>2.0</td>\n",
       "      <td>1533.0</td>\n",
       "    </tr>\n",
       "    <tr>\n",
       "      <th>2</th>\n",
       "      <td>CD9</td>\n",
       "      <td>iPSC</td>\n",
       "      <td>0.530307</td>\n",
       "      <td>1.149646</td>\n",
       "      <td>3.0</td>\n",
       "      <td>1928.0</td>\n",
       "    </tr>\n",
       "    <tr>\n",
       "      <th>3</th>\n",
       "      <td>WRN</td>\n",
       "      <td>iPSC</td>\n",
       "      <td>0.519672</td>\n",
       "      <td>3.025612</td>\n",
       "      <td>4.0</td>\n",
       "      <td>891.0</td>\n",
       "    </tr>\n",
       "    <tr>\n",
       "      <th>4</th>\n",
       "      <td>CKS2</td>\n",
       "      <td>iPSC</td>\n",
       "      <td>0.497037</td>\n",
       "      <td>4.846468</td>\n",
       "      <td>5.0</td>\n",
       "      <td>222.0</td>\n",
       "    </tr>\n",
       "  </tbody>\n",
       "</table>\n",
       "</div>"
      ],
      "text/plain": [
       "    Gene Tissue  Probability    Zscore  model_rank  zscore_rank\n",
       "0  UCHL1   iPSC     0.670096  2.210405         1.0       1253.0\n",
       "1   AAMP   iPSC     0.668656  1.685050         2.0       1533.0\n",
       "2    CD9   iPSC     0.530307  1.149646         3.0       1928.0\n",
       "3    WRN   iPSC     0.519672  3.025612         4.0        891.0\n",
       "4   CKS2   iPSC     0.497037  4.846468         5.0        222.0"
      ]
     },
     "execution_count": 43,
     "metadata": {},
     "output_type": "execute_result"
    }
   ],
   "source": [
    "ipsc_prob_df_ranks = ipsc_prob_df[['Gene', 'Tissue', 'Probability']]\n",
    "ipsc_prob_df_ranks['Zscore'] = ipsc_prob_df_ranks['Gene'].map(zscore_dict)\n",
    "ipsc_prob_df_ranks['model_rank'] = ipsc_prob_df_ranks['Probability'].rank(ascending=False)\n",
    "ipsc_prob_df_ranks['zscore_rank'] = ipsc_prob_df_ranks['Zscore'].rank(ascending=False)\n",
    "\n",
    "\n",
    "print(ipsc_prob_df_ranks.shape)\n",
    "ipsc_prob_df_ranks.head()"
   ]
  },
  {
   "cell_type": "code",
   "execution_count": 44,
   "metadata": {},
   "outputs": [
    {
     "ename": "NameError",
     "evalue": "name 'common_genes' is not defined",
     "output_type": "error",
     "traceback": [
      "\u001b[0;31m---------------------------------------------------------------------------\u001b[0m",
      "\u001b[0;31mNameError\u001b[0m                                 Traceback (most recent call last)",
      "\u001b[0;32m<ipython-input-44-2c3ddf00b66c>\u001b[0m in \u001b[0;36m<module>\u001b[0;34m\u001b[0m\n\u001b[0;32m----> 1\u001b[0;31m \u001b[0mcommon_genes\u001b[0m\u001b[0;34m\u001b[0m\u001b[0;34m\u001b[0m\u001b[0m\n\u001b[0m",
      "\u001b[0;31mNameError\u001b[0m: name 'common_genes' is not defined"
     ]
    }
   ],
   "source": [
    "common_genes"
   ]
  },
  {
   "cell_type": "code",
   "execution_count": 45,
   "metadata": {},
   "outputs": [
    {
     "ename": "NameError",
     "evalue": "name 'common_genes' is not defined",
     "output_type": "error",
     "traceback": [
      "\u001b[0;31m---------------------------------------------------------------------------\u001b[0m",
      "\u001b[0;31mNameError\u001b[0m                                 Traceback (most recent call last)",
      "\u001b[0;32m<ipython-input-45-fb5126a3502e>\u001b[0m in \u001b[0;36m<module>\u001b[0;34m\u001b[0m\n\u001b[0;32m----> 1\u001b[0;31m \u001b[0mmodel_ranks\u001b[0m \u001b[0;34m=\u001b[0m \u001b[0mipsc_prob_df_ranks\u001b[0m\u001b[0;34m[\u001b[0m\u001b[0mipsc_prob_df_ranks\u001b[0m\u001b[0;34m[\u001b[0m\u001b[0;34m'Gene'\u001b[0m\u001b[0;34m]\u001b[0m\u001b[0;34m.\u001b[0m\u001b[0misin\u001b[0m\u001b[0;34m(\u001b[0m\u001b[0mcommon_genes\u001b[0m\u001b[0;34m)\u001b[0m\u001b[0;34m]\u001b[0m\u001b[0;34m[\u001b[0m\u001b[0;34m'model_rank'\u001b[0m\u001b[0;34m]\u001b[0m\u001b[0;34m.\u001b[0m\u001b[0mtolist\u001b[0m\u001b[0;34m(\u001b[0m\u001b[0;34m)\u001b[0m\u001b[0;34m\u001b[0m\u001b[0;34m\u001b[0m\u001b[0m\n\u001b[0m\u001b[1;32m      2\u001b[0m \u001b[0mzscore_ranks\u001b[0m \u001b[0;34m=\u001b[0m \u001b[0mipsc_prob_df_ranks\u001b[0m\u001b[0;34m[\u001b[0m\u001b[0mipsc_prob_df_ranks\u001b[0m\u001b[0;34m[\u001b[0m\u001b[0;34m'Gene'\u001b[0m\u001b[0;34m]\u001b[0m\u001b[0;34m.\u001b[0m\u001b[0misin\u001b[0m\u001b[0;34m(\u001b[0m\u001b[0mcommon_genes\u001b[0m\u001b[0;34m)\u001b[0m\u001b[0;34m]\u001b[0m\u001b[0;34m[\u001b[0m\u001b[0;34m'zscore_rank'\u001b[0m\u001b[0;34m]\u001b[0m\u001b[0;34m.\u001b[0m\u001b[0mtolist\u001b[0m\u001b[0;34m(\u001b[0m\u001b[0;34m)\u001b[0m\u001b[0;34m\u001b[0m\u001b[0;34m\u001b[0m\u001b[0m\n\u001b[1;32m      3\u001b[0m \u001b[0mprint\u001b[0m\u001b[0;34m(\u001b[0m\u001b[0mlen\u001b[0m\u001b[0;34m(\u001b[0m\u001b[0mmodel_ranks\u001b[0m\u001b[0;34m)\u001b[0m\u001b[0;34m)\u001b[0m\u001b[0;34m\u001b[0m\u001b[0;34m\u001b[0m\u001b[0m\n\u001b[1;32m      4\u001b[0m \u001b[0mprint\u001b[0m\u001b[0;34m(\u001b[0m\u001b[0mlen\u001b[0m\u001b[0;34m(\u001b[0m\u001b[0mzscore_ranks\u001b[0m\u001b[0;34m)\u001b[0m\u001b[0;34m)\u001b[0m\u001b[0;34m\u001b[0m\u001b[0;34m\u001b[0m\u001b[0m\n",
      "\u001b[0;31mNameError\u001b[0m: name 'common_genes' is not defined"
     ]
    }
   ],
   "source": [
    "model_ranks = ipsc_prob_df_ranks[ipsc_prob_df_ranks['Gene'].isin(common_genes)]['model_rank'].tolist()\n",
    "zscore_ranks = ipsc_prob_df_ranks[ipsc_prob_df_ranks['Gene'].isin(common_genes)]['zscore_rank'].tolist()\n",
    "print(len(model_ranks))\n",
    "print(len(zscore_ranks))"
   ]
  },
  {
   "cell_type": "code",
   "execution_count": 50,
   "metadata": {},
   "outputs": [
    {
     "name": "stdout",
     "output_type": "stream",
     "text": [
      "WilcoxonResult(statistic=397.0, pvalue=4.988849443894224e-06)\n"
     ]
    },
    {
     "data": {
      "image/png": "[encoded data removed]",
      "text/plain": [
       "<Figure size 432x288 with 1 Axes>"
      ]
     },
     "metadata": {
      "needs_background": "light"
     },
     "output_type": "display_data"
    }
   ],
   "source": [
    "print(scipy.stats.wilcoxon(model_ranks, zscore_ranks, alternative='greater'))\n",
    "p1=sns.kdeplot(model_ranks, shade=True, color=\"r\")\n",
    "p1=sns.kdeplot(zscore_ranks, shade=True, color=\"b\")"
   ]
  },
  {
   "cell_type": "code",
   "execution_count": null,
   "metadata": {},
   "outputs": [],
   "source": []
  },
  {
   "cell_type": "code",
   "execution_count": null,
   "metadata": {},
   "outputs": [],
   "source": []
  },
  {
   "cell_type": "code",
   "execution_count": null,
   "metadata": {},
   "outputs": [],
   "source": []
  },
  {
   "cell_type": "code",
   "execution_count": null,
   "metadata": {},
   "outputs": [],
   "source": []
  },
  {
   "cell_type": "code",
   "execution_count": null,
   "metadata": {},
   "outputs": [],
   "source": []
  },
  {
   "cell_type": "code",
   "execution_count": null,
   "metadata": {},
   "outputs": [],
   "source": []
  },
  {
   "cell_type": "code",
   "execution_count": null,
   "metadata": {},
   "outputs": [],
   "source": []
  },
  {
   "cell_type": "code",
   "execution_count": null,
   "metadata": {},
   "outputs": [],
   "source": []
  },
  {
   "cell_type": "code",
   "execution_count": null,
   "metadata": {},
   "outputs": [],
   "source": []
  },
  {
   "cell_type": "code",
   "execution_count": null,
   "metadata": {},
   "outputs": [],
   "source": []
  },
  {
   "cell_type": "code",
   "execution_count": null,
   "metadata": {},
   "outputs": [],
   "source": []
  },
  {
   "cell_type": "code",
   "execution_count": null,
   "metadata": {},
   "outputs": [],
   "source": []
  },
  {
   "cell_type": "code",
   "execution_count": null,
   "metadata": {},
   "outputs": [],
   "source": []
  },
  {
   "cell_type": "markdown",
   "metadata": {},
   "source": [
    "Check out this additional set later maybe\n",
    "Paper - https://www.sciencedirect.com/science/article/pii/S2211124719302128?via%3Dihub#bib45\n",
    "\n",
    "Link - https://ars.els-cdn.com/content/image/1-s2.0-S2211124719302128-mmc9.xlsx"
   ]
  },
  {
   "cell_type": "code",
   "execution_count": null,
   "metadata": {},
   "outputs": [],
   "source": []
  }
 ],
 "metadata": {
  "kernelspec": {
   "display_name": "Python 3",
   "language": "python",
   "name": "python3"
  },
  "language_info": {
   "codemirror_mode": {
    "name": "ipython",
    "version": 3
   },
   "file_extension": ".py",
   "mimetype": "text/x-python",
   "name": "python",
   "nbconvert_exporter": "python",
   "pygments_lexer": "ipython3",
   "version": "3.7.6"
  }
 },
 "nbformat": 4,
 "nbformat_minor": 4
}
