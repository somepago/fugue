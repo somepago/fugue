{
 "cells": [
  {
   "cell_type": "code",
   "execution_count": 1,
   "metadata": {},
   "outputs": [],
   "source": [
    "import pandas as pd\n",
    "import csv\n",
    "import numpy as np\n",
    "import pickle\n",
    "import seaborn as sns\n",
    "import matplotlib.pyplot as plt\n",
    "plt.rcParams[\"figure.figsize\"]=20,10\n",
    "import matplotlib.mlab as mlab\n",
    "from IPython.display import display\n",
    "pd.options.display.max_columns = None\n",
    "from numpy import random\n",
    "from scipy import stats\n",
    "import collections\n"
   ]
  },
  {
   "cell_type": "code",
   "execution_count": 2,
   "metadata": {},
   "outputs": [
    {
     "name": "stdout",
     "output_type": "stream",
     "text": [
      "(56200, 2)\n",
      "Gtex genes #: 56156\n"
     ]
    },
    {
     "data": {
      "text/html": [
       "<div>\n",
       "<style scoped>\n",
       "    .dataframe tbody tr th:only-of-type {\n",
       "        vertical-align: middle;\n",
       "    }\n",
       "\n",
       "    .dataframe tbody tr th {\n",
       "        vertical-align: top;\n",
       "    }\n",
       "\n",
       "    .dataframe thead th {\n",
       "        text-align: right;\n",
       "    }\n",
       "</style>\n",
       "<table border=\"1\" class=\"dataframe\">\n",
       "  <thead>\n",
       "    <tr style=\"text-align: right;\">\n",
       "      <th></th>\n",
       "      <th>Name</th>\n",
       "      <th>Description</th>\n",
       "    </tr>\n",
       "  </thead>\n",
       "  <tbody>\n",
       "    <tr>\n",
       "      <td>0</td>\n",
       "      <td>ENSG00000223972</td>\n",
       "      <td>DDX11L1</td>\n",
       "    </tr>\n",
       "    <tr>\n",
       "      <td>1</td>\n",
       "      <td>ENSG00000227232</td>\n",
       "      <td>WASH7P</td>\n",
       "    </tr>\n",
       "    <tr>\n",
       "      <td>2</td>\n",
       "      <td>ENSG00000278267</td>\n",
       "      <td>MIR6859-1</td>\n",
       "    </tr>\n",
       "    <tr>\n",
       "      <td>3</td>\n",
       "      <td>ENSG00000243485</td>\n",
       "      <td>MIR1302-2HG</td>\n",
       "    </tr>\n",
       "  </tbody>\n",
       "</table>\n",
       "</div>"
      ],
      "text/plain": [
       "              Name  Description\n",
       "0  ENSG00000223972      DDX11L1\n",
       "1  ENSG00000227232       WASH7P\n",
       "2  ENSG00000278267    MIR6859-1\n",
       "3  ENSG00000243485  MIR1302-2HG"
      ]
     },
     "execution_count": 2,
     "metadata": {},
     "output_type": "execute_result"
    }
   ],
   "source": [
    "fields = ['Name','Description']\n",
    "\n",
    "gtex = pd.read_csv('/fs/cbcb-scratch/gowthami/GTF/GTF_Project_v3/data/GTEx_Analysis_2017-06-05_v8_RNASeQCv1.1.9_gene_tpm.tsv', \n",
    "                 skipinitialspace=True, usecols=fields,sep='\\t')\n",
    "print(gtex.shape)\n",
    "gtex['Name'] = gtex['Name'].apply(lambda x: x.split('.')[0])    \n",
    "\n",
    "gtex_genes = set(gtex['Name'].tolist())\n",
    "gtex_mapping_dict = pd.Series(gtex['Name'].values,\n",
    "                         index=gtex['Description']).to_dict()\n",
    "print('Gtex genes #: '+str(len(gtex_genes)))\n",
    "gtex.head(4)"
   ]
  },
  {
   "cell_type": "code",
   "execution_count": 3,
   "metadata": {
    "scrolled": true
   },
   "outputs": [
    {
     "data": {
      "text/html": [
       "<div>\n",
       "<style scoped>\n",
       "    .dataframe tbody tr th:only-of-type {\n",
       "        vertical-align: middle;\n",
       "    }\n",
       "\n",
       "    .dataframe tbody tr th {\n",
       "        vertical-align: top;\n",
       "    }\n",
       "\n",
       "    .dataframe thead th {\n",
       "        text-align: right;\n",
       "    }\n",
       "</style>\n",
       "<table border=\"1\" class=\"dataframe\">\n",
       "  <thead>\n",
       "    <tr style=\"text-align: right;\">\n",
       "      <th></th>\n",
       "      <th>NCBI gene ID</th>\n",
       "      <th>Gene stable ID</th>\n",
       "    </tr>\n",
       "  </thead>\n",
       "  <tbody>\n",
       "    <tr>\n",
       "      <td>12</td>\n",
       "      <td>4535.0</td>\n",
       "      <td>ENSG00000198888</td>\n",
       "    </tr>\n",
       "    <tr>\n",
       "      <td>21</td>\n",
       "      <td>4536.0</td>\n",
       "      <td>ENSG00000198763</td>\n",
       "    </tr>\n",
       "    <tr>\n",
       "      <td>34</td>\n",
       "      <td>4512.0</td>\n",
       "      <td>ENSG00000198804</td>\n",
       "    </tr>\n",
       "    <tr>\n",
       "      <td>41</td>\n",
       "      <td>4513.0</td>\n",
       "      <td>ENSG00000198712</td>\n",
       "    </tr>\n",
       "    <tr>\n",
       "      <td>47</td>\n",
       "      <td>4509.0</td>\n",
       "      <td>ENSG00000228253</td>\n",
       "    </tr>\n",
       "  </tbody>\n",
       "</table>\n",
       "</div>"
      ],
      "text/plain": [
       "    NCBI gene ID   Gene stable ID\n",
       "12        4535.0  ENSG00000198888\n",
       "21        4536.0  ENSG00000198763\n",
       "34        4512.0  ENSG00000198804\n",
       "41        4513.0  ENSG00000198712\n",
       "47        4509.0  ENSG00000228253"
      ]
     },
     "execution_count": 3,
     "metadata": {},
     "output_type": "execute_result"
    }
   ],
   "source": [
    "mapping = pd.read_csv('/fs/cbcb-scratch/gowthami/GTF/GTF_Project_v3/data/mapping_ids.txt',sep='\\t')\n",
    "mapping = mapping[['NCBI gene ID','Gene stable ID']]\n",
    "mapping = mapping.dropna()\n",
    "mapping = mapping.drop_duplicates(keep='first') \n",
    "mapping_dict = pd.Series(mapping['Gene stable ID'].values,index=mapping['NCBI gene ID']).to_dict()\n",
    "mapping.head()"
   ]
  },
  {
   "cell_type": "code",
   "execution_count": 4,
   "metadata": {},
   "outputs": [
    {
     "name": "stdout",
     "output_type": "stream",
     "text": [
      "(406111, 5)\n"
     ]
    },
    {
     "data": {
      "text/html": [
       "<div>\n",
       "<style scoped>\n",
       "    .dataframe tbody tr th:only-of-type {\n",
       "        vertical-align: middle;\n",
       "    }\n",
       "\n",
       "    .dataframe tbody tr th {\n",
       "        vertical-align: top;\n",
       "    }\n",
       "\n",
       "    .dataframe thead th {\n",
       "        text-align: right;\n",
       "    }\n",
       "</style>\n",
       "<table border=\"1\" class=\"dataframe\">\n",
       "  <thead>\n",
       "    <tr style=\"text-align: right;\">\n",
       "      <th></th>\n",
       "      <th>Gene1</th>\n",
       "      <th>Gene1_Entrezid</th>\n",
       "      <th>Gene2</th>\n",
       "      <th>Gene2_Entrezid</th>\n",
       "      <th>PPI_val</th>\n",
       "      <th>Gene1_Ensmblid</th>\n",
       "      <th>Gene2_Ensmblid</th>\n",
       "    </tr>\n",
       "  </thead>\n",
       "  <tbody>\n",
       "    <tr>\n",
       "      <td>0</td>\n",
       "      <td>AL1A1</td>\n",
       "      <td>216</td>\n",
       "      <td>AL1A1</td>\n",
       "      <td>216</td>\n",
       "      <td>0.76</td>\n",
       "      <td>NaN</td>\n",
       "      <td>NaN</td>\n",
       "    </tr>\n",
       "    <tr>\n",
       "      <td>1</td>\n",
       "      <td>ITA7</td>\n",
       "      <td>3679</td>\n",
       "      <td>ACHA</td>\n",
       "      <td>1134</td>\n",
       "      <td>0.73</td>\n",
       "      <td>NaN</td>\n",
       "      <td>NaN</td>\n",
       "    </tr>\n",
       "    <tr>\n",
       "      <td>2</td>\n",
       "      <td>NEB1</td>\n",
       "      <td>55607</td>\n",
       "      <td>ACTG</td>\n",
       "      <td>71</td>\n",
       "      <td>0.65</td>\n",
       "      <td>NaN</td>\n",
       "      <td>NaN</td>\n",
       "    </tr>\n",
       "    <tr>\n",
       "      <td>3</td>\n",
       "      <td>SRGN</td>\n",
       "      <td>5552</td>\n",
       "      <td>CD44</td>\n",
       "      <td>960</td>\n",
       "      <td>0.63</td>\n",
       "      <td>ENSG00000122862</td>\n",
       "      <td>ENSG00000026508</td>\n",
       "    </tr>\n",
       "    <tr>\n",
       "      <td>4</td>\n",
       "      <td>GRB7</td>\n",
       "      <td>2886</td>\n",
       "      <td>ERBB2</td>\n",
       "      <td>2064</td>\n",
       "      <td>0.90</td>\n",
       "      <td>ENSG00000141738</td>\n",
       "      <td>ENSG00000141736</td>\n",
       "    </tr>\n",
       "  </tbody>\n",
       "</table>\n",
       "</div>"
      ],
      "text/plain": [
       "   Gene1  Gene1_Entrezid  Gene2  Gene2_Entrezid  PPI_val   Gene1_Ensmblid  \\\n",
       "0  AL1A1             216  AL1A1             216     0.76              NaN   \n",
       "1   ITA7            3679   ACHA            1134     0.73              NaN   \n",
       "2   NEB1           55607   ACTG              71     0.65              NaN   \n",
       "3   SRGN            5552   CD44             960     0.63  ENSG00000122862   \n",
       "4   GRB7            2886  ERBB2            2064     0.90  ENSG00000141738   \n",
       "\n",
       "    Gene2_Ensmblid  \n",
       "0              NaN  \n",
       "1              NaN  \n",
       "2              NaN  \n",
       "3  ENSG00000026508  \n",
       "4  ENSG00000141736  "
      ]
     },
     "execution_count": 4,
     "metadata": {},
     "output_type": "execute_result"
    }
   ],
   "source": [
    "hippie = pd.read_csv('/fs/cbcb-scratch/gowthami/GTF/GTF_Project_v3/data/hippie_current.txt',sep = '\\t',header=None)\n",
    "hippie.columns = ['Gene1', 'Gene1_Entrezid', 'Gene2', 'Gene2_Entrezid' ,'PPI_val', 'Procedure']\n",
    "hippie = hippie[['Gene1', 'Gene1_Entrezid', 'Gene2', 'Gene2_Entrezid' ,'PPI_val']]\n",
    "hippie = hippie[hippie['PPI_val']>0]\n",
    "hippie = hippie.replace({'_HUMAN':''}, regex=True)\n",
    "print(hippie.shape)\n",
    "hippie['Gene1_Ensmblid'] = hippie['Gene1'].map(gtex_mapping_dict)\n",
    "hippie['Gene2_Ensmblid'] = hippie['Gene2'].map(gtex_mapping_dict)\n",
    "hippie.head()"
   ]
  },
  {
   "cell_type": "code",
   "execution_count": 5,
   "metadata": {},
   "outputs": [
    {
     "name": "stdout",
     "output_type": "stream",
     "text": [
      "10637\n",
      "9694\n",
      "1000\n",
      "2000\n",
      "3000\n",
      "4000\n",
      "5000\n",
      "6000\n",
      "7000\n",
      "8000\n",
      "9000\n",
      "17104\n"
     ]
    }
   ],
   "source": [
    "unmapped_genes = set(hippie[hippie['Gene1_Ensmblid'].isna()]['Gene1_Entrezid'].\n",
    "    tolist()) | set(hippie[hippie['Gene2_Ensmblid'].isna()]['Gene2_Entrezid'].tolist())\n",
    "print(len(unmapped_genes))\n",
    "mappable_genes = set(mapping_dict.keys()) & unmapped_genes\n",
    "print(len(mappable_genes))\n",
    "\n",
    "count = 0\n",
    "for gene in mappable_genes:\n",
    "    count+=1\n",
    "    hippie.loc[hippie['Gene1_Entrezid']==gene,'Gene1_Ensmblid'] = mapping_dict[gene]\n",
    "    hippie.loc[hippie['Gene2_Entrezid']==gene,'Gene2_Ensmblid'] = mapping_dict[gene]\n",
    "    if count%1000==0:\n",
    "        print(count)\n",
    "\n",
    "hippie_genes = set(hippie['Gene1_Ensmblid'].tolist()) | set(hippie['Gene2_Ensmblid'].tolist())\n",
    "hippie.to_csv('/fs/cbcb-scratch/gowthami/GTF/GTF_Project_v3/data/hippie_cleaned.tsv')\n",
    "print(len(hippie_genes))"
   ]
  },
  {
   "cell_type": "code",
   "execution_count": 6,
   "metadata": {},
   "outputs": [],
   "source": [
    "# This is just to get the list of missing genes from HIPPIE, GTEX overlap\n",
    "\n",
    "hip_mapping_dict = {}\n",
    "count = 0\n",
    "for index, row in hippie.iterrows():\n",
    "    count+=1\n",
    "    hip_mapping_dict[row['Gene1_Ensmblid']] = row['Gene1']\n",
    "    hip_mapping_dict[row['Gene2_Ensmblid']] = row['Gene2']\n",
    "    if count%100000==0:\n",
    "        print(count)\n",
    "        \n",
    "up = list(set(hippie[hippie['Gene1_Ensmblid'].isna()]['Gene1'].\n",
    "    tolist()) | set(hippie[hippie['Gene2_Ensmblid'].isna()]['Gene2'].tolist()))\n",
    "nop = hippie_genes - gtex_genes\n",
    "nop = {x for x in nop if pd.notna(x)}\n",
    "lost = [hip_mapping_dict[k] for k in nop]\n",
    "lost = set(lost + up)\n",
    "print(len((lost)))\n",
    "\n",
    "with open(\"/fs/cbcb-scratch/gowthami/GTF/GTF_Project_v3/data/unmapped_genes.txt\", \"w\") as output:\n",
    "    output.write(str(lost))"
   ]
  },
  {
   "cell_type": "code",
   "execution_count": 7,
   "metadata": {},
   "outputs": [
    {
     "name": "stdout",
     "output_type": "stream",
     "text": [
      "Total overlap genes #: 16620\n"
     ]
    }
   ],
   "source": [
    "final_genes = (hippie_genes & gtex_genes)\n",
    "print('Total overlap genes #: '+str(len(final_genes)))"
   ]
  },
  {
   "cell_type": "markdown",
   "metadata": {},
   "source": [
    "Shortlisting the gtex file."
   ]
  },
  {
   "cell_type": "code",
   "execution_count": 10,
   "metadata": {},
   "outputs": [],
   "source": [
    "temp  = pd.read_csv('/fs/cbcb-scratch'+\n",
    "        '/gowthami/GTF/GTF_Project_v3/data/GTEx_Analysis_2017-06-05_v8_RNASeQCv1.1.9_gene_tpm.tsv', \n",
    "                 skipinitialspace=True, nrows = 2, sep='\\t')\n",
    "col_names = list(temp.columns)"
   ]
  },
  {
   "cell_type": "code",
   "execution_count": 11,
   "metadata": {
    "scrolled": true
   },
   "outputs": [
    {
     "name": "stdout",
     "output_type": "stream",
     "text": [
      "1000\n",
      "2000\n",
      "3000\n",
      "4000\n",
      "5000\n",
      "6000\n",
      "7000\n",
      "8000\n",
      "9000\n",
      "10000\n",
      "11000\n",
      "12000\n",
      "13000\n",
      "14000\n",
      "15000\n",
      "16000\n",
      "17000\n",
      "18000\n",
      "19000\n",
      "20000\n",
      "21000\n",
      "22000\n",
      "23000\n",
      "24000\n",
      "25000\n",
      "26000\n",
      "27000\n",
      "28000\n",
      "29000\n",
      "30000\n",
      "31000\n",
      "32000\n",
      "33000\n",
      "34000\n",
      "35000\n",
      "36000\n",
      "37000\n",
      "38000\n",
      "39000\n",
      "40000\n",
      "41000\n",
      "42000\n",
      "43000\n",
      "44000\n",
      "45000\n",
      "46000\n",
      "47000\n",
      "48000\n",
      "49000\n",
      "50000\n",
      "51000\n",
      "52000\n",
      "53000\n",
      "54000\n",
      "55000\n",
      "56000\n",
      "pickle done\n"
     ]
    }
   ],
   "source": [
    "# shortlisting only with unique hippie genes from the whole samplespace\n",
    "\n",
    "gtex_shortlisted = []\n",
    "count = 0\n",
    "with open('/fs/cbcb-scratch/gowthami/GTF/GTF_Project_v3/data/GTEx_Analysis_2017-06-05_v8_RNASeQCv1.1.9_gene_tpm.tsv') as csvfile:\n",
    "    # reader = csv.DictReader(csvfile, delimiter='\\t')\n",
    "    reader = csv.reader(csvfile, delimiter='\\t')\n",
    "    for row in reader:\n",
    "        count+=1\n",
    "        if count % 1000 == 0:\n",
    "            print(count)\n",
    "        e_id = row[0].split('.')[0]\n",
    "        if e_id in final_genes:\n",
    "            gtex_shortlisted.append(row)\n",
    "            \n",
    "pickle.dump( gtex_shortlisted, \n",
    "            open( \"/fs/cbcb-scratch/gowthami/GTF/GTF_Project_v3/data_generated/gtex_exp.p\", \"wb\" ) )\n",
    "print('pickle done')\n",
    "gtex_shortlisted = pd.DataFrame(gtex_shortlisted,columns = col_names)\n",
    "gtex_shortlisted.to_csv(\"/fs/cbcb-scratch/gowthami/GTF/GTF_Project_v3/data_generated/gtex_shortlisted.tsv\",\n",
    "                        sep=\"\\t\",index = False)"
   ]
  },
  {
   "cell_type": "code",
   "execution_count": 12,
   "metadata": {},
   "outputs": [
    {
     "name": "stdout",
     "output_type": "stream",
     "text": [
      "['PLCXD1', 'GTPBP6', 'PPP2R3B', 'SHOX', 'CRLF2', 'CSF2RA', 'IL3RA', 'SLC25A6', 'ASMTL', 'P2RY8', 'AKAP17A', 'ASMT', 'DHRSX', 'ZBED1', 'CD99', 'SPRY3', 'VAMP7', 'IL9R']\n",
      "The history saving thread hit an unexpected error (OperationalError('database is locked',)).History will not be written to the database.\n"
     ]
    }
   ],
   "source": [
    "from collections import Counter\n",
    "\n",
    "d =  Counter(gtex_shortlisted['Description'].tolist())\n",
    "res = [k for k, v in d.items() if v > 1]\n",
    "print(res)"
   ]
  },
  {
   "cell_type": "markdown",
   "metadata": {},
   "source": [
    "Get sample information"
   ]
  },
  {
   "cell_type": "code",
   "execution_count": 13,
   "metadata": {},
   "outputs": [],
   "source": [
    "fields = ['SAMPID','SMTS','SMTSD']\n",
    "\n",
    "sampleid_mapping = pd.read_csv('/fs/cbcb-scratch/gowthami/GTF/'+\n",
    "                               'GTF_Project_v3/data/GTEx_Analysis_v8_Annotations_SampleAttributesDS.txt',\n",
    "                               sep='\\t',usecols=fields)\n",
    "sampleid_mapping.head()\n",
    "\n",
    "sampleid_mapping.to_csv(\"/fs/cbcb-scratch/gowthami/GTF/GTF_Project_v3/data_generated/GTEx_Tissue_Attributes.csv\",\n",
    "                        sep=\"\\t\",index = False)"
   ]
  },
  {
   "cell_type": "code",
   "execution_count": null,
   "metadata": {},
   "outputs": [],
   "source": [
    "genes = gtex_shortlisted['Name'].tolist()\n",
    "expressions_np = np.array(gtex_shortlisted.iloc[:,2:]).astype(np.float32)"
   ]
  },
  {
   "cell_type": "code",
   "execution_count": 2,
   "metadata": {},
   "outputs": [
    {
     "data": {
      "text/html": [
       "<div>\n",
       "<style scoped>\n",
       "    .dataframe tbody tr th:only-of-type {\n",
       "        vertical-align: middle;\n",
       "    }\n",
       "\n",
       "    .dataframe tbody tr th {\n",
       "        vertical-align: top;\n",
       "    }\n",
       "\n",
       "    .dataframe thead th {\n",
       "        text-align: right;\n",
       "    }\n",
       "</style>\n",
       "<table border=\"1\" class=\"dataframe\">\n",
       "  <thead>\n",
       "    <tr style=\"text-align: right;\">\n",
       "      <th></th>\n",
       "      <th>Gene1</th>\n",
       "      <th>Gene1_Entrezid</th>\n",
       "      <th>Gene2</th>\n",
       "      <th>Gene2_Entrezid</th>\n",
       "      <th>PPI_val</th>\n",
       "      <th>Procedure</th>\n",
       "    </tr>\n",
       "  </thead>\n",
       "  <tbody>\n",
       "    <tr>\n",
       "      <td>0</td>\n",
       "      <td>AL1A1_HUMAN</td>\n",
       "      <td>216</td>\n",
       "      <td>AL1A1_HUMAN</td>\n",
       "      <td>216</td>\n",
       "      <td>0.76</td>\n",
       "      <td>experiments:in vivo,Two-hybrid;pmids:12081471,...</td>\n",
       "    </tr>\n",
       "    <tr>\n",
       "      <td>1</td>\n",
       "      <td>ITA7_HUMAN</td>\n",
       "      <td>3679</td>\n",
       "      <td>ACHA_HUMAN</td>\n",
       "      <td>1134</td>\n",
       "      <td>0.73</td>\n",
       "      <td>experiments:in vivo,Affinity Capture-Western,a...</td>\n",
       "    </tr>\n",
       "    <tr>\n",
       "      <td>2</td>\n",
       "      <td>NEB1_HUMAN</td>\n",
       "      <td>55607</td>\n",
       "      <td>ACTG_HUMAN</td>\n",
       "      <td>71</td>\n",
       "      <td>0.65</td>\n",
       "      <td>experiments:in vitro,in vivo;pmids:9362513,120...</td>\n",
       "    </tr>\n",
       "    <tr>\n",
       "      <td>3</td>\n",
       "      <td>SRGN_HUMAN</td>\n",
       "      <td>5552</td>\n",
       "      <td>CD44_HUMAN</td>\n",
       "      <td>960</td>\n",
       "      <td>0.63</td>\n",
       "      <td>experiments:in vivo;pmids:9334256,16189514,167...</td>\n",
       "    </tr>\n",
       "    <tr>\n",
       "      <td>4</td>\n",
       "      <td>GRB7_HUMAN</td>\n",
       "      <td>2886</td>\n",
       "      <td>ERBB2_HUMAN</td>\n",
       "      <td>2064</td>\n",
       "      <td>0.90</td>\n",
       "      <td>experiments:in vitro,in vivo,Reconstituted Com...</td>\n",
       "    </tr>\n",
       "  </tbody>\n",
       "</table>\n",
       "</div>"
      ],
      "text/plain": [
       "         Gene1  Gene1_Entrezid        Gene2  Gene2_Entrezid  PPI_val  \\\n",
       "0  AL1A1_HUMAN             216  AL1A1_HUMAN             216     0.76   \n",
       "1   ITA7_HUMAN            3679   ACHA_HUMAN            1134     0.73   \n",
       "2   NEB1_HUMAN           55607   ACTG_HUMAN              71     0.65   \n",
       "3   SRGN_HUMAN            5552   CD44_HUMAN             960     0.63   \n",
       "4   GRB7_HUMAN            2886  ERBB2_HUMAN            2064     0.90   \n",
       "\n",
       "                                           Procedure  \n",
       "0  experiments:in vivo,Two-hybrid;pmids:12081471,...  \n",
       "1  experiments:in vivo,Affinity Capture-Western,a...  \n",
       "2  experiments:in vitro,in vivo;pmids:9362513,120...  \n",
       "3  experiments:in vivo;pmids:9334256,16189514,167...  \n",
       "4  experiments:in vitro,in vivo,Reconstituted Com...  "
      ]
     },
     "execution_count": 2,
     "metadata": {},
     "output_type": "execute_result"
    }
   ],
   "source": [
    "hippie = pd.read_csv('/fs/cbcb-scratch/gowthami/GTF/GTF_Project_v3/data/hippie_current.txt',sep = '\\t',header=None)\n",
    "hippie.columns = ['Gene1', 'Gene1_Entrezid', 'Gene2', 'Gene2_Entrezid' ,'PPI_val', 'Procedure']\n",
    "hippie.head()"
   ]
  },
  {
   "cell_type": "code",
   "execution_count": 7,
   "metadata": {},
   "outputs": [
    {
     "name": "stdout",
     "output_type": "stream",
     "text": [
      "(411430, 6)\n"
     ]
    },
    {
     "data": {
      "text/plain": [
       "['sources:IntAct',\n",
       " 'sources:BIND',\n",
       " 'sources:BIND,STRING',\n",
       " 'sources:MINT',\n",
       " 'sources:IntAct,MINT',\n",
       " 'sources:KEGG,STRING',\n",
       " 'sources:KEGG',\n",
       " 'sources:STRING',\n",
       " 'sources:BioCarta,KEGG,STRING',\n",
       " 'sources:BioCarta,KEGG',\n",
       " nan,\n",
       " 'sources:BioCarta,STRING',\n",
       " 'sources:BioCarta']"
      ]
     },
     "execution_count": 7,
     "metadata": {},
     "output_type": "execute_result"
    }
   ],
   "source": [
    "print(hippie.shape)\n",
    "hippie[hippie['PPI_val']<=0]['Procedure'].drop_duplicates().tolist()"
   ]
  },
  {
   "cell_type": "code",
   "execution_count": 14,
   "metadata": {},
   "outputs": [
    {
     "data": {
      "text/plain": [
       "{0.0}"
      ]
     },
     "execution_count": 14,
     "metadata": {},
     "output_type": "execute_result"
    }
   ],
   "source": [
    "set(hippie[hippie['Procedure']=='sources:BioCarta']['PPI_val'].tolist())"
   ]
  },
  {
   "cell_type": "code",
   "execution_count": 15,
   "metadata": {},
   "outputs": [
    {
     "data": {
      "text/html": [
       "<div>\n",
       "<style scoped>\n",
       "    .dataframe tbody tr th:only-of-type {\n",
       "        vertical-align: middle;\n",
       "    }\n",
       "\n",
       "    .dataframe tbody tr th {\n",
       "        vertical-align: top;\n",
       "    }\n",
       "\n",
       "    .dataframe thead th {\n",
       "        text-align: right;\n",
       "    }\n",
       "</style>\n",
       "<table border=\"1\" class=\"dataframe\">\n",
       "  <thead>\n",
       "    <tr style=\"text-align: right;\">\n",
       "      <th></th>\n",
       "      <th>Gene1</th>\n",
       "      <th>Gene1_Entrezid</th>\n",
       "      <th>Gene2</th>\n",
       "      <th>Gene2_Entrezid</th>\n",
       "      <th>PPI_val</th>\n",
       "      <th>Procedure</th>\n",
       "    </tr>\n",
       "  </thead>\n",
       "  <tbody>\n",
       "    <tr>\n",
       "      <td>58333</td>\n",
       "      <td>PSMD9_HUMAN</td>\n",
       "      <td>5715</td>\n",
       "      <td>PSA7_HUMAN</td>\n",
       "      <td>5688</td>\n",
       "      <td>0.0</td>\n",
       "      <td>sources:IntAct</td>\n",
       "    </tr>\n",
       "    <tr>\n",
       "      <td>58334</td>\n",
       "      <td>PSMD9_HUMAN</td>\n",
       "      <td>5715</td>\n",
       "      <td>PSB10_HUMAN</td>\n",
       "      <td>5699</td>\n",
       "      <td>0.0</td>\n",
       "      <td>sources:IntAct</td>\n",
       "    </tr>\n",
       "    <tr>\n",
       "      <td>58336</td>\n",
       "      <td>PRS8_HUMAN</td>\n",
       "      <td>5705</td>\n",
       "      <td>PSB10_HUMAN</td>\n",
       "      <td>5699</td>\n",
       "      <td>0.0</td>\n",
       "      <td>sources:IntAct</td>\n",
       "    </tr>\n",
       "    <tr>\n",
       "      <td>58414</td>\n",
       "      <td>PSB10_HUMAN</td>\n",
       "      <td>5699</td>\n",
       "      <td>PRS4_HUMAN</td>\n",
       "      <td>5700</td>\n",
       "      <td>0.0</td>\n",
       "      <td>sources:IntAct</td>\n",
       "    </tr>\n",
       "    <tr>\n",
       "      <td>58416</td>\n",
       "      <td>PSB4_HUMAN</td>\n",
       "      <td>5692</td>\n",
       "      <td>PSB4_HUMAN</td>\n",
       "      <td>5692</td>\n",
       "      <td>0.0</td>\n",
       "      <td>sources:IntAct</td>\n",
       "    </tr>\n",
       "    <tr>\n",
       "      <td>...</td>\n",
       "      <td>...</td>\n",
       "      <td>...</td>\n",
       "      <td>...</td>\n",
       "      <td>...</td>\n",
       "      <td>...</td>\n",
       "      <td>...</td>\n",
       "    </tr>\n",
       "    <tr>\n",
       "      <td>193561</td>\n",
       "      <td>BIRC3_HUMAN</td>\n",
       "      <td>330</td>\n",
       "      <td>M3K5_HUMAN</td>\n",
       "      <td>4217</td>\n",
       "      <td>0.0</td>\n",
       "      <td>sources:STRING</td>\n",
       "    </tr>\n",
       "    <tr>\n",
       "      <td>193562</td>\n",
       "      <td>CCR8_HUMAN</td>\n",
       "      <td>1237</td>\n",
       "      <td>DRD2_HUMAN</td>\n",
       "      <td>1813</td>\n",
       "      <td>0.0</td>\n",
       "      <td>sources:STRING</td>\n",
       "    </tr>\n",
       "    <tr>\n",
       "      <td>193563</td>\n",
       "      <td>EPHA5_HUMAN</td>\n",
       "      <td>2044</td>\n",
       "      <td>HCK_HUMAN</td>\n",
       "      <td>3055</td>\n",
       "      <td>0.0</td>\n",
       "      <td>sources:STRING</td>\n",
       "    </tr>\n",
       "    <tr>\n",
       "      <td>193564</td>\n",
       "      <td>GBG2_HUMAN</td>\n",
       "      <td>54331</td>\n",
       "      <td>5HT2C_HUMAN</td>\n",
       "      <td>3358</td>\n",
       "      <td>0.0</td>\n",
       "      <td>sources:STRING</td>\n",
       "    </tr>\n",
       "    <tr>\n",
       "      <td>193566</td>\n",
       "      <td>IQGA1_HUMAN</td>\n",
       "      <td>8826</td>\n",
       "      <td>KAP3_HUMAN</td>\n",
       "      <td>5577</td>\n",
       "      <td>0.0</td>\n",
       "      <td>sources:STRING</td>\n",
       "    </tr>\n",
       "  </tbody>\n",
       "</table>\n",
       "<p>5319 rows × 6 columns</p>\n",
       "</div>"
      ],
      "text/plain": [
       "              Gene1  Gene1_Entrezid        Gene2  Gene2_Entrezid  PPI_val  \\\n",
       "58333   PSMD9_HUMAN            5715   PSA7_HUMAN            5688      0.0   \n",
       "58334   PSMD9_HUMAN            5715  PSB10_HUMAN            5699      0.0   \n",
       "58336    PRS8_HUMAN            5705  PSB10_HUMAN            5699      0.0   \n",
       "58414   PSB10_HUMAN            5699   PRS4_HUMAN            5700      0.0   \n",
       "58416    PSB4_HUMAN            5692   PSB4_HUMAN            5692      0.0   \n",
       "...             ...             ...          ...             ...      ...   \n",
       "193561  BIRC3_HUMAN             330   M3K5_HUMAN            4217      0.0   \n",
       "193562   CCR8_HUMAN            1237   DRD2_HUMAN            1813      0.0   \n",
       "193563  EPHA5_HUMAN            2044    HCK_HUMAN            3055      0.0   \n",
       "193564   GBG2_HUMAN           54331  5HT2C_HUMAN            3358      0.0   \n",
       "193566  IQGA1_HUMAN            8826   KAP3_HUMAN            5577      0.0   \n",
       "\n",
       "             Procedure  \n",
       "58333   sources:IntAct  \n",
       "58334   sources:IntAct  \n",
       "58336   sources:IntAct  \n",
       "58414   sources:IntAct  \n",
       "58416   sources:IntAct  \n",
       "...                ...  \n",
       "193561  sources:STRING  \n",
       "193562  sources:STRING  \n",
       "193563  sources:STRING  \n",
       "193564  sources:STRING  \n",
       "193566  sources:STRING  \n",
       "\n",
       "[5319 rows x 6 columns]"
      ]
     },
     "execution_count": 15,
     "metadata": {},
     "output_type": "execute_result"
    }
   ],
   "source": [
    "hippie[hippie['PPI_val']<=0]"
   ]
  },
  {
   "cell_type": "code",
   "execution_count": 16,
   "metadata": {},
   "outputs": [
    {
     "data": {
      "text/plain": [
       "0.012928080110832949"
      ]
     },
     "execution_count": 16,
     "metadata": {},
     "output_type": "execute_result"
    }
   ],
   "source": [
    "5319/411430"
   ]
  },
  {
   "cell_type": "code",
   "execution_count": null,
   "metadata": {},
   "outputs": [],
   "source": []
  }
 ],
 "metadata": {
  "kernelspec": {
   "display_name": "Python 3",
   "language": "python",
   "name": "python3"
  },
  "language_info": {
   "codemirror_mode": {
    "name": "ipython",
    "version": 3
   },
   "file_extension": ".py",
   "mimetype": "text/x-python",
   "name": "python",
   "nbconvert_exporter": "python",
   "pygments_lexer": "ipython3",
   "version": "3.7.6"
  }
 },
 "nbformat": 4,
 "nbformat_minor": 4
}
